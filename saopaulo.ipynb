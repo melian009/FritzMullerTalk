{
 "cells": [
  {
   "cell_type": "markdown",
   "metadata": {
    "slideshow": {
     "slide_type": "slide"
    }
   },
   "source": [
    "<font size=\"6\">\n",
    "\n",
    "# Multilayer food webs\n",
    "<font size=\"3\">\n",
    "    \n",
    "### backward or forward?\n",
    "<font size=\"4\">\n",
    "    \n",
    "--------------------------------------------------------\n",
    "--------------------------------------------------------\n",
    "## VI Fritz Müller Seminar Series\n",
    "### Rodrigo Cogni, \n",
    "### Paulo R. Guimarães Jr, \n",
    "### Tiago B. Quental, \n",
    "### Patricia P. Coltri\n",
    "<font size=\"4\">\n",
    "\n",
    "## Thanks! Obrigado! Gracias! \n"
   ]
  },
  {
   "cell_type": "markdown",
   "metadata": {
    "slideshow": {
     "slide_type": "subslide"
    }
   },
   "source": [
    "<img src=\"collaborators/collaborators.png\" alt=\"drawing\" width=\"800\"/>"
   ]
  },
  {
   "cell_type": "markdown",
   "metadata": {
    "slideshow": {
     "slide_type": "subslide"
    }
   },
   "source": [
    "\n",
    "### References \n",
    "\n",
    "<font size=\"2\">\n",
    "##### Biogeography\n",
    "\n",
    "* Hutchinson, G. (1957). Concluding remarks. Cold Spring Harb. Symp. Quant. Biol., 22: 415-427.  \n",
    "* Holt, R. D. (2009). Bringing the Hutchinsonian niche into the 21st century: ecological and evolutionary   perspectives. PNAS,106:19659-19665.\n",
    "* Blonder, B. et al (2014). The N-dimensional hypervolume. Global Ecology and Biogeography, 23:595-609.\n",
    "* Blonder, B. (2017). Hypervolume concepts in niche‐ and trait‐based ecology. Ecography, 41:1441-1455.\n",
    "* Barros, C. et al. 2016. N‐dimensional hypervolumes to study stability of complex ecosystems. Ecol. Lett., 19:729–742.\n",
    "\n",
    "#### Multivariate selection\n",
    "<font size=\"2\">\n",
    "* Lande (1980). The genetic covariance between characters mantained by pleiotropic mutations. Genetics, 94:203-215. \n",
    "* Melo and Marroig (2015). Directional selection can drive the evolution of modularity in complex traits. PNAS, 112:470-475.\n",
    "* Goswami et al (2015). The fossil record of phenotypic integration and modularity: A deep-time perspective on developmental and evolutionary dynamics. PNAS, 112:4891-4896.\n",
    "* Assis et al. (2020). Genetic correlations and ecological networks shape coevolving mutualisms. Ecology Letters 23:1789-1799.\n",
    "\n",
    "#### Genomics\n",
    "<font size=\"2\">\n",
    "* Boyle et al. (2017). An Expanded View of Complex Traits: From Polygenic to Omnigenic. Cell. 169:1177-1186.\n",
    "* Svensson et al. (2021). Correlational selection in the age of genomics. Nature Ecology and Evolution. https://doi.org/10.1038/s41559-021-01413-3\n",
    "\n",
    "#### Multilayer networks\n",
    "<font size=\"2\">\n",
    "* Sánchez-García et al. (2014). Dimensionality reduction and spectral properties of multilayer networks. Phys Rev E (Stat Nonlin Soft Matter Phys). 89:052815. \n",
    "* De Domenico et al. (2015). Structural reducibility of multilayer networks. Nat. Commun., 6:6864 https://doi.org/10.1038/ncomms7864\n",
    "* Melián et al. (2018). Deciphering the interdependence between ecological and evolutionary networks. TREE, 33:504-512.\n",
    "* Guimarães PR Jr. (2020). The structure of ecological networks across levels of organization. Annual Review of Ecology, Evolution, and Systematics 51:433-460.\n",
    "  "
   ]
  },
  {
   "cell_type": "markdown",
   "metadata": {
    "slideshow": {
     "slide_type": "slide"
    }
   },
   "source": [
    "# How many layers explain global biodiversity patterns? \n",
    "### Quantas camadas explicam os padrões de biodiversidade? \n",
    "##### Cuantos niveles explican los patrones de la biodiversidad?\n",
    "\n",
    "<img src=\"figures/global.pdf.png-1.png\" alt=\"drawing\" width=\"800\"/>"
   ]
  },
  {
   "cell_type": "markdown",
   "metadata": {
    "slideshow": {
     "slide_type": "slide"
    }
   },
   "source": [
    "<img src=\"figures/multilayerfoodweb.png\" alt=\"drawing\" width=\"800\"/>"
   ]
  },
  {
   "cell_type": "markdown",
   "metadata": {
    "slideshow": {
     "slide_type": "slide"
    }
   },
   "source": [
    "#  How many layers? Quantas camadas? Cuantas capas?\n",
    "\n",
    "<font size=\"5\">\n",
    "-------------------------------------------\n",
    "<code>&nbsp;</code>\n",
    "\n",
    "The dream robot\n",
    "\n",
    "$$$ pip install jupyter :: 1. sampling 2. models 3. species 4. hypo\n",
    "$ 1. rarefaction oky\n",
    "$ 2. model building strategy oky\n",
    "$ 3. species boundary oky\n",
    "$ 4. Hypo: Universal level oky\n",
    "$ RESPONSE -- UNIVERSAL EXPLAINS YOUR DATA oky dokky!\n",
    "-----------------------------------------------------------------  \n",
    "> Sampling? ## register jupyter\n",
    "> Model building strategy? ## register levix\n",
    "> Species boundaries? ## register mars\n",
    "> Hypo: Universal? Bottom up? Top down? Independent? Hybrids? Fluctuating? ##reg multiverse$$\n"
   ]
  },
  {
   "cell_type": "markdown",
   "metadata": {
    "slideshow": {
     "slide_type": "subslide"
    }
   },
   "source": [
    "# Rarefaction\n",
    "<div>\n",
    "<img src=\"figures/CumulativenumberpreyAllPolis.png\" width=300 height=300/>\n",
    "</div>"
   ]
  },
  {
   "cell_type": "markdown",
   "metadata": {
    "slideshow": {
     "slide_type": "subslide"
    }
   },
   "source": [
    "# Model building strategy\n",
    "![title](figures/TradeOffs1.png)"
   ]
  },
  {
   "cell_type": "markdown",
   "metadata": {
    "slideshow": {
     "slide_type": "subslide"
    }
   },
   "source": [
    "# Model complexity reduction\n",
    "![title](figures/complex2.png)"
   ]
  },
  {
   "cell_type": "markdown",
   "metadata": {
    "slideshow": {
     "slide_type": "subslide"
    }
   },
   "source": [
    "# Species boundaries\n",
    "\n",
    "![title](figures/ikeko.gif)"
   ]
  },
  {
   "cell_type": "code",
   "execution_count": 5,
   "metadata": {
    "slideshow": {
     "slide_type": "subslide"
    }
   },
   "outputs": [
    {
     "data": {
      "text/html": [
       "<iframe width=\"560\" height=\"315\" src=\"https://upload.wikimedia.org/wikipedia/commons/1/13/Avida_host-parasite_coevolution_web.ogv\" frameborder=\"0\" allowfullscreen></iframe>"
      ],
      "text/plain": [
       "<IPython.core.display.HTML object>"
      ]
     },
     "execution_count": 5,
     "metadata": {},
     "output_type": "execute_result"
    }
   ],
   "source": [
    "## UNIVERSAL\n",
    "\n",
    "from IPython.display import HTML\n",
    "\n",
    "HTML('<iframe width=\"560\" height=\"315\" src=\"https://upload.wikimedia.org/wikipedia/commons/1/13/Avida_host-parasite_coevolution_web.ogv\" frameborder=\"0\" allowfullscreen></iframe>')\n",
    "\n",
    "#Title: Avida host-parasite coevolution web.ogv :: proxy genotype-phenotype map :: modularity vs integration\n",
    "#Author: Miguel A. Fortuna\n"
   ]
  },
  {
   "cell_type": "markdown",
   "metadata": {
    "slideshow": {
     "slide_type": "slide"
    }
   },
   "source": [
    "## GAPS\n",
    "\n",
    "<img src=\"figures/in.pdf.png-1.png\" alt=\"drawing\" width=\"700\"/>"
   ]
  },
  {
   "cell_type": "markdown",
   "metadata": {
    "slideshow": {
     "slide_type": "slide"
    }
   },
   "source": [
    "# Sampling\n",
    "<font size=\"2\">\n",
    "-------------------------------------------\n",
    "<code>&nbsp;</code>\n",
    "\n",
    "$$$ pip install jupyter : sampling (pattern)\n",
    "$ pip install jupyter : sampling (process): species : level : time : space : trait ssssss\n",
    "$------------------------------------------------------------------\n",
    "> Sampling interactions ## register jupyter$$\n"
   ]
  },
  {
   "cell_type": "code",
   "execution_count": 4,
   "metadata": {
    "slideshow": {
     "slide_type": "fragment"
    }
   },
   "outputs": [
    {
     "data": {
      "image/png": "[encoded data removed]",
      "text/plain": [
       "<IPython.core.display.Image object>"
      ]
     },
     "metadata": {},
     "output_type": "display_data"
    }
   ],
   "source": [
    "### Rarefaction curves (Octave/Matlab)\n",
    "\n",
    "%https://wiki.octave.org/Dataframe_package\n",
    "%https://stackoverflow.com/questions/32504203/install-octave-package-manually\n",
    "pkg load dataframe\n",
    "pkg load statistics\n",
    "\n",
    "%pkg update\n",
    "%pkg installed\n",
    "\n",
    "data = dataframe('datashow/StomachCodTest.csv');\n",
    "g = data;\n",
    "g_pred_code = g.pred_code;\n",
    "a = cellstr(g_pred_code);\n",
    "LIST = find(ismember(a, 'COD'));\n",
    "\n",
    "b = data;\n",
    "b_prey_sp_code = b.prey_sp_code;\n",
    "b = cellstr(b_prey_sp_code);\n",
    "%c = unique(b);\n",
    "for i = 1:10;\n",
    "count = 0;\n",
    "for k = 100:1000;\n",
    "   \n",
    "    IndCOD = randsample(LIST,k);\n",
    "    R = unique(b(IndCOD,1));\n",
    "    count = count + 1;\n",
    "    OUTPUT(count,1) = k;\n",
    "    e = size(R);\n",
    "    OUTPUT(count,2) = e(1,1);\n",
    "   \n",
    "end\n",
    "hold on\n",
    "plot(OUTPUT(:,1),OUTPUT(:,2))\n",
    "end\n",
    "xlabel('Sampling effort',\"fontsize\",14)\n",
    "ylabel('Cumulative number of interactions (prey)',\"fontsize\",14)\n",
    "set(gca,'fontsize',14);"
   ]
  },
  {
   "cell_type": "markdown",
   "metadata": {
    "slideshow": {
     "slide_type": "subslide"
    }
   },
   "source": [
    "# Rarefaction 10k\n",
    "![title](figures/rarefaction5k.png)"
   ]
  },
  {
   "cell_type": "markdown",
   "metadata": {
    "slideshow": {
     "slide_type": "skip"
    }
   },
   "source": [
    "<div>\n",
    "<img src=\"figures/InteractionStrength.png\" width=650 height=650/>\n",
    "</div>"
   ]
  },
  {
   "cell_type": "markdown",
   "metadata": {
    "slideshow": {
     "slide_type": "slide"
    }
   },
   "source": [
    "# Models\n",
    "<font size=\"5\">\n",
    "-------------------------------------------\n",
    "<code>&nbsp;</code>\n",
    "\n",
    "$$$ pip install jupyter : system biology\n",
    "$ pip install jupyter : genomics species\n",
    "$ pip install jupyter : community ecology \n",
    "$ pip install jupyter ; complex trait\n",
    "$------------------------------------------------------------------\n",
    "> Modularity ## register levix\n",
    "> Omnigenic ## register levix\n",
    "> Master trait ## register levix\n",
    "> Complex trait ## register levix$$"
   ]
  },
  {
   "cell_type": "markdown",
   "metadata": {
    "slideshow": {
     "slide_type": "subslide"
    }
   },
   "source": [
    "## System biology\n",
    "\n",
    "<img src=\"figures/IntegrationGradient.png\" alt=\"drawing\" width=\"800\"/>"
   ]
  },
  {
   "cell_type": "markdown",
   "metadata": {
    "slideshow": {
     "slide_type": "subslide"
    }
   },
   "source": [
    "## Genomics\n",
    "\n",
    "<img src=\"figures/omnigenic.png\" alt=\"drawing\" width=\"800\"/>"
   ]
  },
  {
   "cell_type": "markdown",
   "metadata": {
    "slideshow": {
     "slide_type": "subslide"
    }
   },
   "source": [
    "## Community Ecology\n",
    "\n",
    "<img src=\"figures/Ecology.png\" alt=\"drawing\" width=\"400\"/>"
   ]
  },
  {
   "cell_type": "markdown",
   "metadata": {
    "slideshow": {
     "slide_type": "subslide"
    }
   },
   "source": [
    "## Complex trait\n",
    "\n",
    "<img src=\"figures/Sticklebacks.pdf.png-1.png\" alt=\"drawing\" heigth =\"700\" width=\"700\"/>"
   ]
  },
  {
   "cell_type": "markdown",
   "metadata": {
    "slideshow": {
     "slide_type": "subslide"
    }
   },
   "source": [
    "<img src=\"figures/evo1v2.pdf.png-1.png\" alt=\"drawing\" heigth =\"700\" width=\"700\"/>"
   ]
  },
  {
   "cell_type": "markdown",
   "metadata": {
    "slideshow": {
     "slide_type": "subslide"
    }
   },
   "source": [
    "<img src=\"figures/TD.pdf.png-1.png\" alt=\"drawing\" heigth =\"700\" width=\"700\"/>"
   ]
  },
  {
   "cell_type": "markdown",
   "metadata": {
    "slideshow": {
     "slide_type": "subslide"
    }
   },
   "source": [
    "<img src=\"figures/TDIS.pdf.png-1.png\" alt=\"drawing\" heigth =\"700\" width=\"700\"/>"
   ]
  },
  {
   "cell_type": "markdown",
   "metadata": {
    "slideshow": {
     "slide_type": "slide"
    }
   },
   "source": [
    "## Species\n",
    "-------------------------------------------\n",
    "<code>&nbsp;</code>\n",
    "\n",
    "$$$ pip install jupyter : biogeography\n",
    "$------------------------------------------------------------------\n",
    "> BAM! ## register levix$$"
   ]
  },
  {
   "cell_type": "markdown",
   "metadata": {
    "slideshow": {
     "slide_type": "subslide"
    }
   },
   "source": [
    "# Biogeography\n",
    "\n",
    "<img src=\"figures/EltoGriHutNiche.png\" alt=\"drawing\" width=\"600\"/>"
   ]
  },
  {
   "cell_type": "markdown",
   "metadata": {
    "collapsed": true,
    "slideshow": {
     "slide_type": "subslide"
    }
   },
   "source": [
    "![title](figures/BAMc.png)\n",
    "\n",
    "\n",
    "![title](figures/BAM.png)\n",
    "\n"
   ]
  },
  {
   "cell_type": "markdown",
   "metadata": {
    "slideshow": {
     "slide_type": "subslide"
    }
   },
   "source": [
    "<img src=\"figures/correlationtraits.png\" alt=\"drawing\" width=\"700\"/>"
   ]
  },
  {
   "cell_type": "markdown",
   "metadata": {
    "slideshow": {
     "slide_type": "subslide"
    }
   },
   "source": [
    "![title](figures/BAMc.png)\n",
    "\n",
    "\n",
    "\n",
    "<font size=\"2\">\n",
    "    \n",
    "${\\bf \\Omega_{BAM}}$ = \n",
    "$\\begin{bmatrix} \n",
    "V_B & C_{BA} & C_{BM} \\\\ \n",
    "C_{AB} & V_A & C_{AM} \\\\ \n",
    "C_{MB} & C_{MA} & V_M  \n",
    "\\end{bmatrix}$\n",
    "\n",
    "\n",
    "$\\mathbf{W}({\\bf z})^{t}_{ix} = exp[-\\gamma({\\color{red}[{\\bf z}^{t}_{ix} - {\\bf \\theta^{t}}_{ix}\\color{red}]^T} {\\bf \\Omega_{BAM}}^{-1} {\\color{red}[{\\bf z}^{t}_{ix} - {\\bf \\theta^{t}}_{ix}\\color{red}]})]$\n",
    "\n",
    "\n",
    "$\\underbrace{\\begin{bmatrix}\n",
    " W({\\bf z_{B}}^{t}_{ix})     \\\\\n",
    " W({\\bf z_{A}}^{t}_{ix})     \\\\\n",
    " \\vdots  \\\\\n",
    " W({\\bf z_{M}}^{t}_{ix})     \\\\\n",
    "            \\end{bmatrix}\n",
    "          }_{\\mathbf{W}}$\n",
    "           = $\\underbrace{\\begin{bmatrix}\n",
    " W({B}^{t}_{ix})^{*}     \\\\\n",
    " W({A}^{t}_{ix})^{*}     \\\\\n",
    " \\vdots  \\\\\n",
    " W({M}^{t}_{ix})^{*}     \\\\\n",
    "            \\end{bmatrix}^{T}\n",
    "             }_{\\mathbf{W}}$\n",
    "$\\underbrace{\\begin{bmatrix}\n",
    "V_{B}       &   C_{BA}       & \\dots     &   C_{BM}       \\\\\n",
    "C_{AB}       &   V_{A}       & \\dots     &   C_{AM}       \\\\\n",
    "\\vdots  &  \\vdots   &   \\vdots  &   \\vdots  \\\\   \n",
    "C_{MB}       &   C_{MA}      & \\dots     &   V_{M}       \\\\\n",
    "            \\end{bmatrix}^{-1}\n",
    "            }_{\\mathbf{\\Omega_{BAM}}}$\n",
    "$\\underbrace{\\begin{bmatrix}\n",
    "W({B}^{t}_{ix})^{*}     \\\\\n",
    "W({A}^{t}_{ix})^{*}     \\\\\n",
    "\\vdots  \\\\\n",
    "W({M}^{t}_{ix})^{*}     \\\\\n",
    "            \\end{bmatrix}\n",
    "             }_{\\mathbf{W}}$\n",
    "\n",
    "\n"
   ]
  },
  {
   "cell_type": "markdown",
   "metadata": {
    "slideshow": {
     "slide_type": "subslide"
    }
   },
   "source": [
    "<img src=\"figures/Heatmap.pdf.png-1.png\" alt=\"drawing\" width=\"900\"/>"
   ]
  },
  {
   "cell_type": "markdown",
   "metadata": {
    "slideshow": {
     "slide_type": "slide"
    }
   },
   "source": [
    "<img src=\"figures/demography.pdf.png-1.png\" alt=\"drawing\" width=\"700\"/>\n"
   ]
  },
  {
   "cell_type": "markdown",
   "metadata": {
    "slideshow": {
     "slide_type": "slide"
    }
   },
   "source": [
    "## Hypo: \n",
    "\n",
    "### The big 4 layers (the grand scheme of things) \n",
    "#### System Biology -- Genomics -- Phenome -- Biogeography \n",
    "##### Universal? Bottom up?Top down? Independent? Hybrids? Fluctuating?\n",
    "\n",
    "<div>\n",
    "<img src=\"figures/Cas.pdf.png-1.png\" alt=\"drawing\" width=\"2000\"/>\n",
    "</div>\n"
   ]
  },
  {
   "cell_type": "code",
   "execution_count": 8,
   "metadata": {
    "slideshow": {
     "slide_type": "slide"
    }
   },
   "outputs": [
    {
     "ename": "SyntaxError",
     "evalue": "invalid syntax (<ipython-input-8-9de7b9599225>, line 12)",
     "output_type": "error",
     "traceback": [
      "\u001b[0;36m  File \u001b[0;32m\"<ipython-input-8-9de7b9599225>\"\u001b[0;36m, line \u001b[0;32m12\u001b[0m\n\u001b[0;31m    <font size=\"5\">\u001b[0m\n\u001b[0m    ^\u001b[0m\n\u001b[0;31mSyntaxError\u001b[0m\u001b[0;31m:\u001b[0m invalid syntax\n"
     ]
    }
   ],
   "source": [
    "#### Take home message\n",
    "\n",
    "### Mensaje para llevar a casa\n",
    "\n",
    "## Levar mensagem para casa\n",
    "\n",
    "#  How many layers? Quantas camadas? Cuantas capas?\n",
    "\n",
    "\n",
    "## The real robot\n",
    "\n",
    "<font size=\"5\">\n",
    "-------------------------------------------\n",
    "<code>&nbsp;</code>\n",
    "\n",
    "$$$ pip install jupyter :: 1. sampling 2. models 3. species 4. hypo\n",
    "$ 1. rarefaction \n",
    "$ 2. model building strategy \n",
    "$ 3. species boundary \n",
    "$ 4. Hypo: Universal? Bottom up? Independent? Hybrids? Fluctuating? \n",
    "$------------------------------------------------------------------\n",
    "> RESPONSE 1 ## Strong bias in samplings observed in rarefaction curves \n",
    "> RESPONSE 2 ## Multilayer neural network along a complexity gradient\n",
    "> RESPONSE 3 ## No species boundary found -- infinite variance observed\n",
    "> RESPONSE 4 ## Combination of hypothesis with fluctuating layers$$\n"
   ]
  },
  {
   "cell_type": "markdown",
   "metadata": {
    "slideshow": {
     "slide_type": "skip"
    }
   },
   "source": [
    "## Basic features of Jupyter notebook for reproducibility and team work\n",
    "\n",
    "####  1. Reproducibility life cycle\n",
    "\n",
    "<img src=\"figures/journal.pcbi.1007007.g001.png\" alt=\"drawing\" width=\"300\"/>\n",
    "\n",
    "#### Rule et al., (2019). Ten simple rules for writing and sharing computational analyses in Jupyter Notebooks. PLoS Comput. Biol. https://doi.org/10.1371/journal.pcbi.1007007\n",
    "  "
   ]
  },
  {
   "cell_type": "markdown",
   "metadata": {
    "slideshow": {
     "slide_type": "skip"
    }
   },
   "source": [
    "#### 2. Computational cost  https://julialang.org/benchmarks/\n",
    "\n",
    "![title](figures/matcheat_julia_benchmark.png)"
   ]
  },
  {
   "cell_type": "markdown",
   "metadata": {
    "slideshow": {
     "slide_type": "skip"
    }
   },
   "source": [
    "## Running r, Octave-Matlab and Julia kernels in the same notebook\n",
    "\n",
    "\n",
    "-------------------------------------------\n",
    "#### 1. Linux OS -- r \n",
    "<code>&nbsp;</code>\n",
    "\n",
    "$$$ pip install jupyter\n",
    "$ sudo apt install r-cran-littler\n",
    "$ R (open R in terminal)\n",
    "> install.packages(c('repr', 'IRdisplay', 'evaluate', 'crayon', 'pbdZMQ', 'devtools', 'uuid', 'digest'))\n",
    "> install.packages('IRkernel') ### https://github.com/IRkernel/IRkernel\n",
    "> IRkernel::installspec() ### to register the kernel in the current R installation$$"
   ]
  },
  {
   "cell_type": "markdown",
   "metadata": {
    "slideshow": {
     "slide_type": "skip"
    }
   },
   "source": [
    "#### 2. Linux OS -- Julia\n",
    "\n",
    "<code>&nbsp;</code>\n",
    "\n",
    "$$$ pip install jupyter\n",
    "#### https://en.wikibooks.org/wiki/Introducing_Julia/Getting_started#Installing_from_package_2\n",
    "$ Julia (Open Julia in terminal)\n",
    "julia> using Pkg\n",
    "julia> Pkg.add(\"IJulia\")\n",
    "#### More info https://julialang.org/downloads/$$"
   ]
  },
  {
   "cell_type": "markdown",
   "metadata": {
    "slideshow": {
     "slide_type": "skip"
    }
   },
   "source": [
    "#### 3. Linux OS -- Octave (Matlab)\n",
    "\n",
    "<code>&nbsp;</code>\n",
    "\n",
    "$$$ pip install jupyter\n",
    "$ sudo apt install flatpak\n",
    "$ flatpak install flathub org.octave.Octave \n",
    "$ pip install octave_kernel\n",
    "$ Octave (run octave in terminal)\n",
    "#### More info https://www.gnu.org/software/octave/download.html$$"
   ]
  },
  {
   "cell_type": "markdown",
   "metadata": {
    "slideshow": {
     "slide_type": "skip"
    }
   },
   "source": [
    "\n",
    "## Cheatsheet to visualize Jupyter multiple language feature \n",
    "\n",
    "### https://sebastianraschka.com/blog/2014/matrix_cheatsheet_table.html\n",
    "\n",
    "![title](figures/matrix_cheatsheet.png)"
   ]
  },
  {
   "cell_type": "code",
   "execution_count": 1,
   "metadata": {
    "slideshow": {
     "slide_type": "skip"
    }
   },
   "outputs": [
    {
     "data": {
      "text/html": [
       "<table>\n",
       "<caption>A matrix: 2 × 3 of type dbl</caption>\n",
       "<tbody>\n",
       "\t<tr><td>2</td><td>4</td><td>3</td></tr>\n",
       "\t<tr><td>1</td><td>5</td><td>7</td></tr>\n",
       "</tbody>\n",
       "</table>\n"
      ],
      "text/latex": [
       "A matrix: 2 × 3 of type dbl\n",
       "\\begin{tabular}{lll}\n",
       "\t 2 & 4 & 3\\\\\n",
       "\t 1 & 5 & 7\\\\\n",
       "\\end{tabular}\n"
      ],
      "text/markdown": [
       "\n",
       "A matrix: 2 × 3 of type dbl\n",
       "\n",
       "| 2 | 4 | 3 |\n",
       "| 1 | 5 | 7 |\n",
       "\n"
      ],
      "text/plain": [
       "     [,1] [,2] [,3]\n",
       "[1,] 2    4    3   \n",
       "[2,] 1    5    7   "
      ]
     },
     "metadata": {},
     "output_type": "display_data"
    }
   ],
   "source": [
    "# r example\n",
    "\n",
    "# the data elements \n",
    "# number of rows\n",
    "# number of columns\n",
    "# fill matrix by rows\n",
    "\n",
    "A = matrix(c(2, 4, 3, 1, 5, 7),nrow=2,ncol=3,byrow = TRUE)        \n",
    "\n",
    "\n",
    "A"
   ]
  },
  {
   "cell_type": "code",
   "execution_count": 1,
   "metadata": {
    "slideshow": {
     "slide_type": "skip"
    }
   },
   "outputs": [
    {
     "data": {
      "text/plain": [
       "3×3 Array{Int64,2}:\n",
       " 1  2  3\n",
       " 4  5  6\n",
       " 7  8  9"
      ]
     },
     "execution_count": 1,
     "metadata": {},
     "output_type": "execute_result"
    }
   ],
   "source": [
    "# Julia example\n",
    "A=[1 2 3; 4 5 6; 7 8 9]\n"
   ]
  },
  {
   "cell_type": "code",
   "execution_count": 1,
   "metadata": {
    "slideshow": {
     "slide_type": "skip"
    }
   },
   "outputs": [
    {
     "name": "stdout",
     "output_type": "stream",
     "text": [
      "A =\n",
      "\n",
      "   1   2   3\n",
      "   4   5   6\n",
      "   7   8   9\n",
      "\n"
     ]
    }
   ],
   "source": [
    "# Octave/Matlab example\n",
    "A = [1 2 3; 4 5 6; 7 8 9]\n"
   ]
  },
  {
   "cell_type": "markdown",
   "metadata": {
    "slideshow": {
     "slide_type": "skip"
    }
   },
   "source": [
    "## Questions, data and modeling strategies\n",
    "<img src=\"figures/DMQ.png\" alt=\"drawing\" width=\"700\"/>\n",
    "\n",
    "### Hierarchy from simplest to the most complex question?\n",
    "\n",
    "#### Starting from the simplest one to understand step by step the solutions:\n",
    "\n",
    "##### How to avoid getting in the trap of complex models without understanding it?\n",
    "\n"
   ]
  },
  {
   "cell_type": "markdown",
   "metadata": {
    "slideshow": {
     "slide_type": "skip"
    }
   },
   "source": [
    "#### Visualizing size-dependent interaction strength \n",
    "<img src=\"figures/asymmetry.png\" alt=\"drawing\" width=\"500\"/>"
   ]
  },
  {
   "cell_type": "markdown",
   "metadata": {
    "slideshow": {
     "slide_type": "skip"
    }
   },
   "source": [
    "## Integration Baltic sea database\n",
    "\n",
    "\n",
    "\n",
    "## dataframe\n",
    "\n",
    "### Julia   R   Octave/Matlab   Python   Sage "
   ]
  },
  {
   "cell_type": "code",
   "execution_count": null,
   "metadata": {
    "collapsed": true,
    "slideshow": {
     "slide_type": "skip"
    }
   },
   "outputs": [],
   "source": [
    "### Julia"
   ]
  },
  {
   "cell_type": "code",
   "execution_count": 1,
   "metadata": {
    "slideshow": {
     "slide_type": "skip"
    }
   },
   "outputs": [
    {
     "data": {
      "text/html": [
       "<table class=\"data-frame\"><thead><tr><th></th><th>Date</th><th>Quarter</th><th>Appr. status</th><th>Seq No.</th><th>Sampling type</th><th>Vessel</th><th>Trip</th><th>Station</th></tr><tr><th></th><th>Dates…</th><th>Int64</th><th>String</th><th>Int64</th><th>Int64</th><th>String</th><th>Int64</th><th>Int64</th></tr></thead><tbody><p>5 rows × 49 columns (omitted printing of 41 columns)</p><tr><th>1</th><td>2013-02-22</td><td>1</td><td>No</td><td>10047</td><td>6</td><td>OXBH</td><td>3</td><td>1</td></tr><tr><th>2</th><td>2013-02-22</td><td>1</td><td>No</td><td>10047</td><td>6</td><td>OXBH</td><td>3</td><td>1</td></tr><tr><th>3</th><td>2013-02-22</td><td>1</td><td>No</td><td>10047</td><td>6</td><td>OXBH</td><td>3</td><td>1</td></tr><tr><th>4</th><td>2013-02-22</td><td>1</td><td>No</td><td>10047</td><td>6</td><td>OXBH</td><td>3</td><td>1</td></tr><tr><th>5</th><td>2013-02-22</td><td>1</td><td>No</td><td>10047</td><td>6</td><td>OXBH</td><td>3</td><td>1</td></tr></tbody></table>"
      ],
      "text/latex": [
       "\\begin{tabular}{r|ccccccccc}\n",
       "\t& Date & Quarter & Appr. status & Seq No. & Sampling type & Vessel & Trip & Station & \\\\\n",
       "\t\\hline\n",
       "\t& Dates… & Int64 & String & Int64 & Int64 & String & Int64 & Int64 & \\\\\n",
       "\t\\hline\n",
       "\t1 & 2013-02-22 & 1 & No & 10047 & 6 & OXBH & 3 & 1 & $\\dots$ \\\\\n",
       "\t2 & 2013-02-22 & 1 & No & 10047 & 6 & OXBH & 3 & 1 & $\\dots$ \\\\\n",
       "\t3 & 2013-02-22 & 1 & No & 10047 & 6 & OXBH & 3 & 1 & $\\dots$ \\\\\n",
       "\t4 & 2013-02-22 & 1 & No & 10047 & 6 & OXBH & 3 & 1 & $\\dots$ \\\\\n",
       "\t5 & 2013-02-22 & 1 & No & 10047 & 6 & OXBH & 3 & 1 & $\\dots$ \\\\\n",
       "\\end{tabular}\n"
      ],
      "text/plain": [
       "5×49 DataFrame. Omitted printing of 43 columns\n",
       "│ Row │ Date       │ Quarter │ Appr. status │ Seq No. │ Sampling type │ Vessel │\n",
       "│     │ \u001b[90mDates.Date\u001b[39m │ \u001b[90mInt64\u001b[39m   │ \u001b[90mString\u001b[39m       │ \u001b[90mInt64\u001b[39m   │ \u001b[90mInt64\u001b[39m         │ \u001b[90mString\u001b[39m │\n",
       "├─────┼────────────┼─────────┼──────────────┼─────────┼───────────────┼────────┤\n",
       "│ 1   │ 2013-02-22 │ 1       │ No           │ 10047   │ 6             │ OXBH   │\n",
       "│ 2   │ 2013-02-22 │ 1       │ No           │ 10047   │ 6             │ OXBH   │\n",
       "│ 3   │ 2013-02-22 │ 1       │ No           │ 10047   │ 6             │ OXBH   │\n",
       "│ 4   │ 2013-02-22 │ 1       │ No           │ 10047   │ 6             │ OXBH   │\n",
       "│ 5   │ 2013-02-22 │ 1       │ No           │ 10047   │ 6             │ OXBH   │"
      ]
     },
     "execution_count": 1,
     "metadata": {},
     "output_type": "execute_result"
    }
   ],
   "source": [
    "#### DataFrame julia --> \n",
    "\n",
    "using CSVFiles, CSV, DataFrames, Plots, StatsPlots, Missings, Statistics\n",
    "using JuliaDB, IterableTables, FileIO\n",
    "#x = CSV.File(\"datashow/SkrubbaBITS2013-2018.csv\") |> DataFrame\n",
    "x = CSV.File(\"datashow/TorskBITS2013-2018.csv\") |> DataFrame;\n",
    "x[1:5,:]"
   ]
  },
  {
   "cell_type": "code",
   "execution_count": 2,
   "metadata": {
    "slideshow": {
     "slide_type": "skip"
    }
   },
   "outputs": [
    {
     "data": {
      "text/html": [
       "<table class=\"data-frame\"><thead><tr><th></th><th>Column1</th><th>coun</th><th>ship</th><th>cruise</th><th>sample type</th><th>sd</th><th>ices</th><th>rect</th><th>year</th></tr><tr><th></th><th>Int64</th><th>String</th><th>String⍰</th><th>String⍰</th><th>String⍰</th><th>String⍰</th><th>String⍰</th><th>Int64⍰</th><th>Int64</th></tr></thead><tbody><p>5 rows × 46 columns (omitted printing of 37 columns)</p><tr><th>1</th><td>1</td><td>SWE</td><td>DANS</td><td>BITS</td><td>trawl</td><td>SD26-28</td><td>43G8</td><td>4363</td><td>2015</td></tr><tr><th>2</th><td>2</td><td>SWE</td><td>DANS</td><td>BITS</td><td>trawl</td><td>SD26-28</td><td>43G8</td><td>4363</td><td>2015</td></tr><tr><th>3</th><td>3</td><td>SWE</td><td>DANS</td><td>BITS</td><td>trawl</td><td>SD26-28</td><td>43G8</td><td>4363</td><td>2015</td></tr><tr><th>4</th><td>4</td><td>SWE</td><td>DANS</td><td>BITS</td><td>trawl</td><td>SD26-28</td><td>43G8</td><td>4363</td><td>2015</td></tr><tr><th>5</th><td>5</td><td>SWE</td><td>DANS</td><td>BITS</td><td>trawl</td><td>SD26-28</td><td>43G8</td><td>4363</td><td>2015</td></tr></tbody></table>"
      ],
      "text/latex": [
       "\\begin{tabular}{r|cccccccccc}\n",
       "\t& Column1 & coun & ship & cruise & sample type & sd & ices & rect & year & \\\\\n",
       "\t\\hline\n",
       "\t& Int64 & String & String⍰ & String⍰ & String⍰ & String⍰ & String⍰ & Int64⍰ & Int64 & \\\\\n",
       "\t\\hline\n",
       "\t1 & 1 & SWE & DANS & BITS & trawl & SD26-28 & 43G8 & 4363 & 2015 & $\\dots$ \\\\\n",
       "\t2 & 2 & SWE & DANS & BITS & trawl & SD26-28 & 43G8 & 4363 & 2015 & $\\dots$ \\\\\n",
       "\t3 & 3 & SWE & DANS & BITS & trawl & SD26-28 & 43G8 & 4363 & 2015 & $\\dots$ \\\\\n",
       "\t4 & 4 & SWE & DANS & BITS & trawl & SD26-28 & 43G8 & 4363 & 2015 & $\\dots$ \\\\\n",
       "\t5 & 5 & SWE & DANS & BITS & trawl & SD26-28 & 43G8 & 4363 & 2015 & $\\dots$ \\\\\n",
       "\\end{tabular}\n"
      ],
      "text/plain": [
       "5×46 DataFrame. Omitted printing of 39 columns\n",
       "│ Row │ Column1 │ coun   │ ship    │ cruise  │ sample type │ sd      │ ices    │\n",
       "│     │ \u001b[90mInt64\u001b[39m   │ \u001b[90mString\u001b[39m │ \u001b[90mString⍰\u001b[39m │ \u001b[90mString⍰\u001b[39m │ \u001b[90mString⍰\u001b[39m     │ \u001b[90mString⍰\u001b[39m │ \u001b[90mString⍰\u001b[39m │\n",
       "├─────┼─────────┼────────┼─────────┼─────────┼─────────────┼─────────┼─────────┤\n",
       "│ 1   │ 1       │ SWE    │ DANS    │ BITS    │ trawl       │ SD26-28 │ 43G8    │\n",
       "│ 2   │ 2       │ SWE    │ DANS    │ BITS    │ trawl       │ SD26-28 │ 43G8    │\n",
       "│ 3   │ 3       │ SWE    │ DANS    │ BITS    │ trawl       │ SD26-28 │ 43G8    │\n",
       "│ 4   │ 4       │ SWE    │ DANS    │ BITS    │ trawl       │ SD26-28 │ 43G8    │\n",
       "│ 5   │ 5       │ SWE    │ DANS    │ BITS    │ trawl       │ SD26-28 │ 43G8    │"
      ]
     },
     "execution_count": 2,
     "metadata": {},
     "output_type": "execute_result"
    }
   ],
   "source": [
    "#### DataFrame julia --> Diet data\n",
    "\n",
    "using CSVFiles, CSV, DataFrames, Plots, StatsPlots, Missings, Statistics\n",
    "using JuliaDB, IterableTables, FileIO\n",
    "#x = CSV.File(\"datashow/StomachCod.csv\") |> DataFrame\n",
    "x = CSV.File(\"datashow/Stomachsupdated.csv\") |> DataFrame;\n",
    "x[1:5,:]"
   ]
  },
  {
   "cell_type": "code",
   "execution_count": 12,
   "metadata": {
    "collapsed": true,
    "slideshow": {
     "slide_type": "skip"
    }
   },
   "outputs": [],
   "source": [
    "## Example dataset iris\n",
    "\n",
    "using RDatasets, GR, PyPlot, Gadfly\n",
    "\n",
    "iris = dataset(\"datasets\", \"iris\");\n",
    "first(iris, 5)\n",
    "#Gadfly.plot(iris, x = :SepalLength, y = :SepalWidth, color = :Species, Geom.point)\n",
    "\n",
    "#x[!,28] = (x[!,28].-mean(skipmissing(x[!,28])))./std(skipmissing(x[!,28]));\n",
    "#names(x)"
   ]
  },
  {
   "cell_type": "code",
   "execution_count": 2,
   "metadata": {
    "slideshow": {
     "slide_type": "skip"
    }
   },
   "outputs": [
    {
     "data": {
      "image/svg+xml": [
       "<?xml version=\"1.0\" encoding=\"utf-8\"?>\n",
       "<svg xmlns=\"http://www.w3.org/2000/svg\" xmlns:xlink=\"http://www.w3.org/1999/xlink\" width=\"600\" height=\"400\" viewBox=\"0 0 2400 1600\">\n",
       "<defs>\n",
       "  <clipPath id=\"clip8600\">\n",
       "    <rect x=\"0\" y=\"0\" width=\"2400\" height=\"1600\"/>\n",
       "  </clipPath>\n",
       "</defs>\n",
       "<path clip-path=\"url(#clip8600)\" d=\"\n",
       "M0 1600 L2400 1600 L2400 0 L0 0  Z\n",
       "  \" fill=\"#ffffff\" fill-rule=\"evenodd\" fill-opacity=\"1\"/>\n",
       "<defs>\n",
       "  <clipPath id=\"clip8601\">\n",
       "    <rect x=\"480\" y=\"0\" width=\"1681\" height=\"1600\"/>\n",
       "  </clipPath>\n",
       "</defs>\n",
       "<path clip-path=\"url(#clip8600)\" d=\"\n",
       "M180.66 1487.47 L2352.76 1487.47 L2352.76 47.2441 L180.66 47.2441  Z\n",
       "  \" fill=\"#ffffff\" fill-rule=\"evenodd\" fill-opacity=\"1\"/>\n",
       "<defs>\n",
       "  <clipPath id=\"clip8602\">\n",
       "    <rect x=\"180\" y=\"47\" width=\"2173\" height=\"1441\"/>\n",
       "  </clipPath>\n",
       "</defs>\n",
       "<polyline clip-path=\"url(#clip8602)\" style=\"stroke:#000000; stroke-width:2; stroke-opacity:0.1; fill:none\" points=\"\n",
       "  550.419,1487.47 550.419,47.2441 \n",
       "  \"/>\n",
       "<polyline clip-path=\"url(#clip8602)\" style=\"stroke:#000000; stroke-width:2; stroke-opacity:0.1; fill:none\" points=\"\n",
       "  1101.41,1487.47 1101.41,47.2441 \n",
       "  \"/>\n",
       "<polyline clip-path=\"url(#clip8602)\" style=\"stroke:#000000; stroke-width:2; stroke-opacity:0.1; fill:none\" points=\"\n",
       "  1652.4,1487.47 1652.4,47.2441 \n",
       "  \"/>\n",
       "<polyline clip-path=\"url(#clip8602)\" style=\"stroke:#000000; stroke-width:2; stroke-opacity:0.1; fill:none\" points=\"\n",
       "  2203.39,1487.47 2203.39,47.2441 \n",
       "  \"/>\n",
       "<polyline clip-path=\"url(#clip8602)\" style=\"stroke:#000000; stroke-width:2; stroke-opacity:0.1; fill:none\" points=\"\n",
       "  180.66,1448.06 2352.76,1448.06 \n",
       "  \"/>\n",
       "<polyline clip-path=\"url(#clip8602)\" style=\"stroke:#000000; stroke-width:2; stroke-opacity:0.1; fill:none\" points=\"\n",
       "  180.66,1107.09 2352.76,1107.09 \n",
       "  \"/>\n",
       "<polyline clip-path=\"url(#clip8602)\" style=\"stroke:#000000; stroke-width:2; stroke-opacity:0.1; fill:none\" points=\"\n",
       "  180.66,766.116 2352.76,766.116 \n",
       "  \"/>\n",
       "<polyline clip-path=\"url(#clip8602)\" style=\"stroke:#000000; stroke-width:2; stroke-opacity:0.1; fill:none\" points=\"\n",
       "  180.66,425.143 2352.76,425.143 \n",
       "  \"/>\n",
       "<polyline clip-path=\"url(#clip8602)\" style=\"stroke:#000000; stroke-width:2; stroke-opacity:0.1; fill:none\" points=\"\n",
       "  180.66,84.1697 2352.76,84.1697 \n",
       "  \"/>\n",
       "<polyline clip-path=\"url(#clip8600)\" style=\"stroke:#000000; stroke-width:4; stroke-opacity:1; fill:none\" points=\"\n",
       "  180.66,1487.47 2352.76,1487.47 \n",
       "  \"/>\n",
       "<polyline clip-path=\"url(#clip8600)\" style=\"stroke:#000000; stroke-width:4; stroke-opacity:1; fill:none\" points=\"\n",
       "  180.66,1487.47 180.66,47.2441 \n",
       "  \"/>\n",
       "<polyline clip-path=\"url(#clip8600)\" style=\"stroke:#000000; stroke-width:4; stroke-opacity:1; fill:none\" points=\"\n",
       "  550.419,1487.47 550.419,1465.87 \n",
       "  \"/>\n",
       "<polyline clip-path=\"url(#clip8600)\" style=\"stroke:#000000; stroke-width:4; stroke-opacity:1; fill:none\" points=\"\n",
       "  1101.41,1487.47 1101.41,1465.87 \n",
       "  \"/>\n",
       "<polyline clip-path=\"url(#clip8600)\" style=\"stroke:#000000; stroke-width:4; stroke-opacity:1; fill:none\" points=\"\n",
       "  1652.4,1487.47 1652.4,1465.87 \n",
       "  \"/>\n",
       "<polyline clip-path=\"url(#clip8600)\" style=\"stroke:#000000; stroke-width:4; stroke-opacity:1; fill:none\" points=\"\n",
       "  2203.39,1487.47 2203.39,1465.87 \n",
       "  \"/>\n",
       "<polyline clip-path=\"url(#clip8600)\" style=\"stroke:#000000; stroke-width:4; stroke-opacity:1; fill:none\" points=\"\n",
       "  180.66,1448.06 213.242,1448.06 \n",
       "  \"/>\n",
       "<polyline clip-path=\"url(#clip8600)\" style=\"stroke:#000000; stroke-width:4; stroke-opacity:1; fill:none\" points=\"\n",
       "  180.66,1107.09 213.242,1107.09 \n",
       "  \"/>\n",
       "<polyline clip-path=\"url(#clip8600)\" style=\"stroke:#000000; stroke-width:4; stroke-opacity:1; fill:none\" points=\"\n",
       "  180.66,766.116 213.242,766.116 \n",
       "  \"/>\n",
       "<polyline clip-path=\"url(#clip8600)\" style=\"stroke:#000000; stroke-width:4; stroke-opacity:1; fill:none\" points=\"\n",
       "  180.66,425.143 213.242,425.143 \n",
       "  \"/>\n",
       "<polyline clip-path=\"url(#clip8600)\" style=\"stroke:#000000; stroke-width:4; stroke-opacity:1; fill:none\" points=\"\n",
       "  180.66,84.1697 213.242,84.1697 \n",
       "  \"/>\n",
       "<g clip-path=\"url(#clip8600)\">\n",
       "<text style=\"fill:#000000; fill-opacity:1; font-family:Arial,Helvetica Neue,Helvetica,sans-serif; font-size:48px; text-anchor:middle;\" transform=\"rotate(0, 550.419, 1541.47)\" x=\"550.419\" y=\"1541.47\">-10</text>\n",
       "</g>\n",
       "<g clip-path=\"url(#clip8600)\">\n",
       "<text style=\"fill:#000000; fill-opacity:1; font-family:Arial,Helvetica Neue,Helvetica,sans-serif; font-size:48px; text-anchor:middle;\" transform=\"rotate(0, 1101.41, 1541.47)\" x=\"1101.41\" y=\"1541.47\">0</text>\n",
       "</g>\n",
       "<g clip-path=\"url(#clip8600)\">\n",
       "<text style=\"fill:#000000; fill-opacity:1; font-family:Arial,Helvetica Neue,Helvetica,sans-serif; font-size:48px; text-anchor:middle;\" transform=\"rotate(0, 1652.4, 1541.47)\" x=\"1652.4\" y=\"1541.47\">10</text>\n",
       "</g>\n",
       "<g clip-path=\"url(#clip8600)\">\n",
       "<text style=\"fill:#000000; fill-opacity:1; font-family:Arial,Helvetica Neue,Helvetica,sans-serif; font-size:48px; text-anchor:middle;\" transform=\"rotate(0, 2203.39, 1541.47)\" x=\"2203.39\" y=\"1541.47\">20</text>\n",
       "</g>\n",
       "<g clip-path=\"url(#clip8600)\">\n",
       "<text style=\"fill:#000000; fill-opacity:1; font-family:Arial,Helvetica Neue,Helvetica,sans-serif; font-size:48px; text-anchor:end;\" transform=\"rotate(0, 156.66, 1465.56)\" x=\"156.66\" y=\"1465.56\">0.00</text>\n",
       "</g>\n",
       "<g clip-path=\"url(#clip8600)\">\n",
       "<text style=\"fill:#000000; fill-opacity:1; font-family:Arial,Helvetica Neue,Helvetica,sans-serif; font-size:48px; text-anchor:end;\" transform=\"rotate(0, 156.66, 1124.59)\" x=\"156.66\" y=\"1124.59\">0.02</text>\n",
       "</g>\n",
       "<g clip-path=\"url(#clip8600)\">\n",
       "<text style=\"fill:#000000; fill-opacity:1; font-family:Arial,Helvetica Neue,Helvetica,sans-serif; font-size:48px; text-anchor:end;\" transform=\"rotate(0, 156.66, 783.616)\" x=\"156.66\" y=\"783.616\">0.04</text>\n",
       "</g>\n",
       "<g clip-path=\"url(#clip8600)\">\n",
       "<text style=\"fill:#000000; fill-opacity:1; font-family:Arial,Helvetica Neue,Helvetica,sans-serif; font-size:48px; text-anchor:end;\" transform=\"rotate(0, 156.66, 442.643)\" x=\"156.66\" y=\"442.643\">0.06</text>\n",
       "</g>\n",
       "<g clip-path=\"url(#clip8600)\">\n",
       "<text style=\"fill:#000000; fill-opacity:1; font-family:Arial,Helvetica Neue,Helvetica,sans-serif; font-size:48px; text-anchor:end;\" transform=\"rotate(0, 156.66, 101.67)\" x=\"156.66\" y=\"101.67\">0.08</text>\n",
       "</g>\n",
       "<polyline clip-path=\"url(#clip8602)\" style=\"stroke:#009af9; stroke-width:12; stroke-opacity:1; fill:none\" points=\"\n",
       "  242.135,1446.71 252.141,1446.52 262.146,1446.3 354.664,1442.39 447.182,1431.77 502.782,1418.96 558.381,1398.16 605.39,1371.79 652.399,1334.84 677.931,1309.44 \n",
       "  703.463,1279.8 728.996,1245.57 754.528,1206.46 778.066,1165.9 801.605,1120.93 825.143,1071.54 848.682,1017.86 899.154,889.446 949.625,746.646 1008.1,572.493 \n",
       "  1066.58,403.248 1092.56,334.12 1118.54,270.936 1144.53,215.183 1170.51,168.226 1193.3,135.224 1216.08,110.552 1238.87,94.705 1261.65,88.0053 1286.49,91.2797 \n",
       "  1311.34,105.507 1336.18,130.343 1361.02,165.193 1386.01,209.522 1411,262.117 1435.99,321.784 1460.98,387.214 1516.24,545.472 1571.49,710.403 1624.07,861.583 \n",
       "  1676.65,998.457 1703.98,1062.07 1731.31,1119.93 1758.65,1171.85 1785.98,1217.83 1832,1282.35 1878.02,1332.06 1934.2,1375.8 1990.39,1404.88 2043.2,1422.44 \n",
       "  2096.01,1433.41 2180.63,1442.52 2265.24,1446.15 2278.26,1446.46 2291.28,1446.71 \n",
       "  \"/>\n",
       "<polyline clip-path=\"url(#clip8602)\" style=\"stroke:#e26f46; stroke-width:12; stroke-opacity:1; fill:none\" points=\"\n",
       "  242.135,1446.71 252.141,1446.52 262.146,1446.3 354.664,1442.39 447.182,1431.77 502.782,1418.96 558.381,1398.16 605.39,1371.79 652.399,1334.84 677.931,1309.44 \n",
       "  703.463,1279.8 728.996,1245.57 754.528,1206.46 778.066,1165.9 801.605,1120.93 825.143,1071.54 848.682,1017.86 899.154,889.446 949.625,746.646 1008.1,572.493 \n",
       "  1066.58,403.248 1092.56,334.12 1118.54,270.936 1144.53,215.183 1170.51,168.226 1193.3,135.224 1216.08,110.552 1238.87,94.705 1261.65,88.0053 1286.49,91.2797 \n",
       "  1311.34,105.507 1336.18,130.343 1361.02,165.193 1386.01,209.522 1411,262.117 1435.99,321.784 1460.98,387.214 1516.24,545.472 1571.49,710.403 1624.07,861.583 \n",
       "  1676.65,998.457 1703.98,1062.07 1731.31,1119.93 1758.65,1171.85 1785.98,1217.83 1832,1282.35 1878.02,1332.06 1934.2,1375.8 1990.39,1404.88 2043.2,1422.44 \n",
       "  2096.01,1433.41 2180.63,1442.52 2265.24,1446.15 2278.26,1446.46 2291.28,1446.71 \n",
       "  \"/>\n",
       "<path clip-path=\"url(#clip8600)\" d=\"\n",
       "M1989.93 312.204 L2280.76 312.204 L2280.76 130.764 L1989.93 130.764  Z\n",
       "  \" fill=\"#ffffff\" fill-rule=\"evenodd\" fill-opacity=\"1\"/>\n",
       "<polyline clip-path=\"url(#clip8600)\" style=\"stroke:#000000; stroke-width:4; stroke-opacity:1; fill:none\" points=\"\n",
       "  1989.93,312.204 2280.76,312.204 2280.76,130.764 1989.93,130.764 1989.93,312.204 \n",
       "  \"/>\n",
       "<polyline clip-path=\"url(#clip8600)\" style=\"stroke:#009af9; stroke-width:12; stroke-opacity:1; fill:none\" points=\"\n",
       "  2013.93,191.244 2157.93,191.244 \n",
       "  \"/>\n",
       "<g clip-path=\"url(#clip8600)\">\n",
       "<text style=\"fill:#000000; fill-opacity:1; font-family:Arial,Helvetica Neue,Helvetica,sans-serif; font-size:48px; text-anchor:start;\" transform=\"rotate(0, 2181.93, 208.744)\" x=\"2181.93\" y=\"208.744\">y1</text>\n",
       "</g>\n",
       "<polyline clip-path=\"url(#clip8600)\" style=\"stroke:#e26f46; stroke-width:12; stroke-opacity:1; fill:none\" points=\"\n",
       "  2013.93,251.724 2157.93,251.724 \n",
       "  \"/>\n",
       "<g clip-path=\"url(#clip8600)\">\n",
       "<text style=\"fill:#000000; fill-opacity:1; font-family:Arial,Helvetica Neue,Helvetica,sans-serif; font-size:48px; text-anchor:start;\" transform=\"rotate(0, 2181.93, 269.224)\" x=\"2181.93\" y=\"269.224\">y2</text>\n",
       "</g>\n",
       "</svg>\n"
      ]
     },
     "execution_count": 2,
     "metadata": {},
     "output_type": "execute_result"
    }
   ],
   "source": [
    "using StatsPlots, Distributions\n",
    "plot!(Normal(3,5),lw=3)"
   ]
  },
  {
   "cell_type": "code",
   "execution_count": 3,
   "metadata": {
    "slideshow": {
     "slide_type": "skip"
    }
   },
   "outputs": [
    {
     "name": "stdout",
     "output_type": "stream",
     "text": [
      "14964×50 DataFrame\n",
      "│ Row   │ Column1 │ coun   │ ship    │ cruise  │ sample typ │ sd      │\n",
      "│       │ \u001b[90mInt64\u001b[39m   │ \u001b[90mString\u001b[39m │ \u001b[90mString⍰\u001b[39m │ \u001b[90mString⍰\u001b[39m │ \u001b[90mString⍰\u001b[39m    │ \u001b[90mString⍰\u001b[39m │\n",
      "├───────┼─────────┼────────┼─────────┼─────────┼────────────┼─────────┤\n",
      "│ 1     │ 1       │ SWE    │ DANS    │ BITS    │ trawl      │ SD26-28 │\n",
      "│ 2     │ 2       │ SWE    │ DANS    │ BITS    │ trawl      │ SD26-28 │\n",
      "│ 3     │ 3       │ SWE    │ DANS    │ BITS    │ trawl      │ SD26-28 │\n",
      "│ 4     │ 4       │ SWE    │ DANS    │ BITS    │ trawl      │ SD26-28 │\n",
      "│ 5     │ 5       │ SWE    │ DANS    │ BITS    │ trawl      │ SD26-28 │\n",
      "│ 6     │ 6       │ SWE    │ DANS    │ BITS    │ trawl      │ SD26-28 │\n",
      "│ 7     │ 7       │ SWE    │ DANS    │ BITS    │ trawl      │ SD26-28 │\n",
      "│ 8     │ 8       │ SWE    │ DANS    │ BITS    │ trawl      │ SD26-28 │\n",
      "│ 9     │ 9       │ SWE    │ DANS    │ BITS    │ trawl      │ SD26-28 │\n",
      "│ 10    │ 10      │ SWE    │ DANS    │ BITS    │ trawl      │ SD26-28 │\n",
      "⋮\n",
      "│ 14954 │ 8543    │ DEN    │ DANA1   │ BITS-1  │ \u001b[90mmissing\u001b[39m    │ 25      │\n",
      "│ 14955 │ 8544    │ DEN    │ DANA1   │ BITS-1  │ \u001b[90mmissing\u001b[39m    │ 25      │\n",
      "│ 14956 │ 8545    │ DEN    │ DANA1   │ BITS-1  │ \u001b[90mmissing\u001b[39m    │ 25      │\n",
      "│ 14957 │ 8546    │ DEN    │ DANA1   │ BITS-1  │ \u001b[90mmissing\u001b[39m    │ 25      │\n",
      "│ 14958 │ 8547    │ DEN    │ DANA1   │ BITS-1  │ \u001b[90mmissing\u001b[39m    │ 25      │\n",
      "│ 14959 │ 8548    │ DEN    │ DANA1   │ BITS-1  │ \u001b[90mmissing\u001b[39m    │ 25      │\n",
      "│ 14960 │ 8549    │ DEN    │ DANA1   │ BITS-1  │ \u001b[90mmissing\u001b[39m    │ 25      │\n",
      "│ 14961 │ 8550    │ DEN    │ DANA1   │ BITS-1  │ \u001b[90mmissing\u001b[39m    │ 25      │\n",
      "│ 14962 │ 8551    │ DEN    │ DANA1   │ BITS-1  │ \u001b[90mmissing\u001b[39m    │ 25      │\n",
      "│ 14963 │ 8552    │ DEN    │ DANA1   │ BITS-1  │ \u001b[90mmissing\u001b[39m    │ 25      │\n",
      "│ 14964 │ 8553    │ DEN    │ DANA1   │ BITS-1  │ \u001b[90mmissing\u001b[39m    │ 25      │\n",
      "\n",
      "│ Row   │ ices    │ rect    │ transect │ date       │ qyear  │ year  │ month   │\n",
      "│       │ \u001b[90mString⍰\u001b[39m │ \u001b[90mInt64⍰\u001b[39m  │ \u001b[90mMissing\u001b[39m  │ \u001b[90mString⍰\u001b[39m    │ \u001b[90mString\u001b[39m │ \u001b[90mInt64\u001b[39m │ \u001b[90mInt64⍰\u001b[39m  │\n",
      "├───────┼─────────┼─────────┼──────────┼────────────┼────────┼───────┼─────────┤\n",
      "│ 1     │ 43G8    │ 4363    │ \u001b[90mmissing\u001b[39m  │ 23 11 2015 │ 4_2015 │ 2015  │ 11      │\n",
      "│ 2     │ 43G8    │ 4363    │ \u001b[90mmissing\u001b[39m  │ 23 11 2015 │ 4_2015 │ 2015  │ 11      │\n",
      "│ 3     │ 43G8    │ 4363    │ \u001b[90mmissing\u001b[39m  │ 23 11 2015 │ 4_2015 │ 2015  │ 11      │\n",
      "│ 4     │ 43G8    │ 4363    │ \u001b[90mmissing\u001b[39m  │ 23 11 2015 │ 4_2015 │ 2015  │ 11      │\n",
      "│ 5     │ 43G8    │ 4363    │ \u001b[90mmissing\u001b[39m  │ 23 11 2015 │ 4_2015 │ 2015  │ 11      │\n",
      "│ 6     │ 43G8    │ 4363    │ \u001b[90mmissing\u001b[39m  │ 23 11 2015 │ 4_2015 │ 2015  │ 11      │\n",
      "│ 7     │ 43G8    │ 4363    │ \u001b[90mmissing\u001b[39m  │ 23 11 2015 │ 4_2015 │ 2015  │ 11      │\n",
      "│ 8     │ 43G8    │ 4363    │ \u001b[90mmissing\u001b[39m  │ 23 11 2015 │ 4_2015 │ 2015  │ 11      │\n",
      "│ 9     │ 43G8    │ 4363    │ \u001b[90mmissing\u001b[39m  │ 23 11 2015 │ 4_2015 │ 2015  │ 11      │\n",
      "│ 10    │ 43G8    │ 4363    │ \u001b[90mmissing\u001b[39m  │ 23 11 2015 │ 4_2015 │ 2015  │ 11      │\n",
      "⋮\n",
      "│ 14954 │ 39G4    │ \u001b[90mmissing\u001b[39m │ \u001b[90mmissing\u001b[39m  │ 2013 NA NA │ 1_2013 │ 2013  │ \u001b[90mmissing\u001b[39m │\n",
      "│ 14955 │ 39G4    │ \u001b[90mmissing\u001b[39m │ \u001b[90mmissing\u001b[39m  │ 2013 NA NA │ 1_2013 │ 2013  │ \u001b[90mmissing\u001b[39m │\n",
      "│ 14956 │ 39G4    │ \u001b[90mmissing\u001b[39m │ \u001b[90mmissing\u001b[39m  │ 2013 NA NA │ 1_2013 │ 2013  │ \u001b[90mmissing\u001b[39m │\n",
      "│ 14957 │ 39G4    │ \u001b[90mmissing\u001b[39m │ \u001b[90mmissing\u001b[39m  │ 2013 NA NA │ 1_2013 │ 2013  │ \u001b[90mmissing\u001b[39m │\n",
      "│ 14958 │ 39G4    │ \u001b[90mmissing\u001b[39m │ \u001b[90mmissing\u001b[39m  │ 2013 NA NA │ 1_2013 │ 2013  │ \u001b[90mmissing\u001b[39m │\n",
      "│ 14959 │ 39G4    │ \u001b[90mmissing\u001b[39m │ \u001b[90mmissing\u001b[39m  │ 2013 NA NA │ 1_2013 │ 2013  │ \u001b[90mmissing\u001b[39m │\n",
      "│ 14960 │ 39G4    │ \u001b[90mmissing\u001b[39m │ \u001b[90mmissing\u001b[39m  │ 2013 NA NA │ 1_2013 │ 2013  │ \u001b[90mmissing\u001b[39m │\n",
      "│ 14961 │ 39G4    │ \u001b[90mmissing\u001b[39m │ \u001b[90mmissing\u001b[39m  │ 2013 NA NA │ 1_2013 │ 2013  │ \u001b[90mmissing\u001b[39m │\n",
      "│ 14962 │ 39G4    │ \u001b[90mmissing\u001b[39m │ \u001b[90mmissing\u001b[39m  │ 2013 NA NA │ 1_2013 │ 2013  │ \u001b[90mmissing\u001b[39m │\n",
      "│ 14963 │ 39G4    │ \u001b[90mmissing\u001b[39m │ \u001b[90mmissing\u001b[39m  │ 2013 NA NA │ 1_2013 │ 2013  │ \u001b[90mmissing\u001b[39m │\n",
      "│ 14964 │ 39G4    │ \u001b[90mmissing\u001b[39m │ \u001b[90mmissing\u001b[39m  │ 2013 NA NA │ 1_2013 │ 2013  │ \u001b[90mmissing\u001b[39m │\n",
      "\n",
      "│ Row   │ day     │ quarter │ station haul │ index        │ lat     │\n",
      "│       │ \u001b[90mInt64⍰\u001b[39m  │ \u001b[90mInt64\u001b[39m   │ \u001b[90mInt64⍰\u001b[39m       │ \u001b[90mString⍰\u001b[39m      │ \u001b[90mString⍰\u001b[39m │\n",
      "├───────┼─────────┼─────────┼──────────────┼──────────────┼─────────┤\n",
      "│ 1     │ 23      │ 4       │ 19           │ OXBH 2015 19 │ 57 005  │\n",
      "│ 2     │ 23      │ 4       │ 19           │ OXBH 2015 19 │ 57 005  │\n",
      "│ 3     │ 23      │ 4       │ 19           │ OXBH 2015 19 │ 57 005  │\n",
      "│ 4     │ 23      │ 4       │ 19           │ OXBH 2015 19 │ 57 005  │\n",
      "│ 5     │ 23      │ 4       │ 19           │ OXBH 2015 19 │ 57 005  │\n",
      "│ 6     │ 23      │ 4       │ 19           │ OXBH 2015 19 │ 57 005  │\n",
      "│ 7     │ 23      │ 4       │ 19           │ OXBH 2015 19 │ 57 005  │\n",
      "│ 8     │ 23      │ 4       │ 19           │ OXBH 2015 19 │ 57 005  │\n",
      "│ 9     │ 23      │ 4       │ 19           │ OXBH 2015 19 │ 57 005  │\n",
      "│ 10    │ 23      │ 4       │ 19           │ OXBH 2015 19 │ 57 005  │\n",
      "⋮\n",
      "│ 14954 │ \u001b[90mmissing\u001b[39m │ 1       │ 145          │ \u001b[90mmissing\u001b[39m      │ 55 462  │\n",
      "│ 14955 │ \u001b[90mmissing\u001b[39m │ 1       │ 145          │ \u001b[90mmissing\u001b[39m      │ 55 462  │\n",
      "│ 14956 │ \u001b[90mmissing\u001b[39m │ 1       │ 145          │ \u001b[90mmissing\u001b[39m      │ 55 462  │\n",
      "│ 14957 │ \u001b[90mmissing\u001b[39m │ 1       │ 145          │ \u001b[90mmissing\u001b[39m      │ 55 462  │\n",
      "│ 14958 │ \u001b[90mmissing\u001b[39m │ 1       │ 145          │ \u001b[90mmissing\u001b[39m      │ 55 462  │\n",
      "│ 14959 │ \u001b[90mmissing\u001b[39m │ 1       │ 145          │ \u001b[90mmissing\u001b[39m      │ 55 462  │\n",
      "│ 14960 │ \u001b[90mmissing\u001b[39m │ 1       │ 145          │ \u001b[90mmissing\u001b[39m      │ 55 462  │\n",
      "│ 14961 │ \u001b[90mmissing\u001b[39m │ 1       │ 145          │ \u001b[90mmissing\u001b[39m      │ 55 462  │\n",
      "│ 14962 │ \u001b[90mmissing\u001b[39m │ 1       │ 145          │ \u001b[90mmissing\u001b[39m      │ 55 462  │\n",
      "│ 14963 │ \u001b[90mmissing\u001b[39m │ 1       │ 145          │ \u001b[90mmissing\u001b[39m      │ 55 462  │\n",
      "│ 14964 │ \u001b[90mmissing\u001b[39m │ 1       │ 145          │ \u001b[90mmissing\u001b[39m      │ 55 462  │\n",
      "\n",
      "│ Row   │ long      │ depth   │ depthstep │\n",
      "│       │ \u001b[90mString⍰\u001b[39m   │ \u001b[90mString⍰\u001b[39m │ \u001b[90mString⍰\u001b[39m   │\n",
      "├───────┼───────────┼─────────┼───────────┤\n",
      "│ 1     │ 18 806    │ 72      │ >30m      │\n",
      "│ 2     │ 18 806    │ 72      │ >30m      │\n",
      "│ 3     │ 18 806    │ 72      │ >30m      │\n",
      "│ 4     │ 18 806    │ 72      │ >30m      │\n",
      "│ 5     │ 18 806    │ 72      │ >30m      │\n",
      "│ 6     │ 18 806    │ 72      │ >30m      │\n",
      "│ 7     │ 18 806    │ 72      │ >30m      │\n",
      "│ 8     │ 18 806    │ 72      │ >30m      │\n",
      "│ 9     │ 18 806    │ 72      │ >30m      │\n",
      "│ 10    │ 18 806    │ 72      │ >30m      │\n",
      "⋮\n",
      "│ 14954 │ 14 717166 │ \u001b[90mmissing\u001b[39m │ \u001b[90mmissing\u001b[39m   │\n",
      "│ 14955 │ 14 717166 │ \u001b[90mmissing\u001b[39m │ \u001b[90mmissing\u001b[39m   │\n",
      "│ 14956 │ 14 717166 │ \u001b[90mmissing\u001b[39m │ \u001b[90mmissing\u001b[39m   │\n",
      "│ 14957 │ 14 717166 │ \u001b[90mmissing\u001b[39m │ \u001b[90mmissing\u001b[39m   │\n",
      "│ 14958 │ 14 717166 │ \u001b[90mmissing\u001b[39m │ \u001b[90mmissing\u001b[39m   │\n",
      "│ 14959 │ 14 717166 │ \u001b[90mmissing\u001b[39m │ \u001b[90mmissing\u001b[39m   │\n",
      "│ 14960 │ 14 717166 │ \u001b[90mmissing\u001b[39m │ \u001b[90mmissing\u001b[39m   │\n",
      "│ 14961 │ 14 717166 │ \u001b[90mmissing\u001b[39m │ \u001b[90mmissing\u001b[39m   │\n",
      "│ 14962 │ 14 717166 │ \u001b[90mmissing\u001b[39m │ \u001b[90mmissing\u001b[39m   │\n",
      "│ 14963 │ 14 717166 │ \u001b[90mmissing\u001b[39m │ \u001b[90mmissing\u001b[39m   │\n",
      "│ 14964 │ 14 717166 │ \u001b[90mmissing\u001b[39m │ \u001b[90mmissing\u001b[39m   │\n",
      "\n",
      "│ Row   │ sample                                   │ pred code │ pred size │\n",
      "│       │ \u001b[90mString\u001b[39m                                   │ \u001b[90mString\u001b[39m    │ \u001b[90mInt64⍰\u001b[39m    │\n",
      "├───────┼──────────────────────────────────────────┼───────────┼───────────┤\n",
      "│ 1     │ 406                                      │ COD       │ 190       │\n",
      "│ 2     │ 385                                      │ COD       │ 320       │\n",
      "│ 3     │ 389                                      │ COD       │ 330       │\n",
      "│ 4     │ 396                                      │ COD       │ 300       │\n",
      "│ 5     │ 381                                      │ COD       │ 310       │\n",
      "│ 6     │ 400                                      │ COD       │ 250       │\n",
      "│ 7     │ 398                                      │ COD       │ 260       │\n",
      "│ 8     │ 398                                      │ COD       │ 260       │\n",
      "│ 9     │ 398                                      │ COD       │ 260       │\n",
      "│ 10    │ 398                                      │ COD       │ 260       │\n",
      "⋮\n",
      "│ 14954 │ 2013_NA_NA_145_DANA1_39G4_21_F_160_36_1  │ COD       │ 160       │\n",
      "│ 14955 │ 2013_NA_NA_145_DANA1_39G4_23_M_220_93_1  │ COD       │ 220       │\n",
      "│ 14956 │ 2013_NA_NA_145_DANA1_39G4_25_M_390_525_1 │ COD       │ 390       │\n",
      "│ 14957 │ 2013_NA_NA_145_DANA1_39G4_27_F_310_244_1 │ COD       │ 310       │\n",
      "│ 14958 │ 2013_NA_NA_145_DANA1_39G4_27_F_310_244_1 │ COD       │ 310       │\n",
      "│ 14959 │ 2013_NA_NA_145_DANA1_39G4_5_F_540_1434_1 │ COD       │ 540       │\n",
      "│ 14960 │ 2013_NA_NA_145_DANA1_39G4_6_F_490_1338_1 │ COD       │ 490       │\n",
      "│ 14961 │ 2013_NA_NA_145_DANA1_39G4_6_F_490_1338_1 │ COD       │ 490       │\n",
      "│ 14962 │ 2013_NA_NA_145_DANA1_39G4_7_M_470_1090_1 │ COD       │ 470       │\n",
      "│ 14963 │ 2013_NA_NA_145_DANA1_39G4_7_M_470_1090_1 │ COD       │ 470       │\n",
      "│ 14964 │ 2013_NA_NA_145_DANA1_39G4_9_F_460_904_1  │ COD       │ 460       │\n",
      "\n",
      "│ Row   │ length │ lengthclass │ pred weight │ pred gutted weight │ age     │\n",
      "│       │ \u001b[90mInt64⍰\u001b[39m │ \u001b[90mString⍰\u001b[39m     │ \u001b[90mString⍰\u001b[39m     │ \u001b[90mString⍰\u001b[39m            │ \u001b[90mInt64⍰\u001b[39m  │\n",
      "├───────┼────────┼─────────────┼─────────────┼────────────────────┼─────────┤\n",
      "│ 1     │ 19     │ Lc6-20      │ 70          │ 60                 │ 1       │\n",
      "│ 2     │ 32     │ Lc31-40     │ 246         │ 213                │ 3       │\n",
      "│ 3     │ 33     │ Lc31-40     │ 330         │ 499                │ 3       │\n",
      "│ 4     │ 30     │ Lc21-30     │ 193         │ 169                │ 2       │\n",
      "│ 5     │ 31     │ Lc31-40     │ 244         │ 220                │ 2       │\n",
      "│ 6     │ 25     │ Lc21-30     │ 136         │ 115                │ 1       │\n",
      "│ 7     │ 26     │ Lc21-30     │ 154         │ 122                │ 1       │\n",
      "│ 8     │ 26     │ Lc21-30     │ 154         │ 122                │ 1       │\n",
      "│ 9     │ 26     │ Lc21-30     │ 154         │ 122                │ 1       │\n",
      "│ 10    │ 26     │ Lc21-30     │ 154         │ 122                │ 1       │\n",
      "⋮\n",
      "│ 14954 │ 16     │ Lc6-20      │ 36          │ \u001b[90mmissing\u001b[39m            │ \u001b[90mmissing\u001b[39m │\n",
      "│ 14955 │ 22     │ Lc21-30     │ 93          │ \u001b[90mmissing\u001b[39m            │ \u001b[90mmissing\u001b[39m │\n",
      "│ 14956 │ 39     │ Lc31-40     │ 525         │ \u001b[90mmissing\u001b[39m            │ \u001b[90mmissing\u001b[39m │\n",
      "│ 14957 │ 31     │ Lc31-40     │ 244         │ \u001b[90mmissing\u001b[39m            │ \u001b[90mmissing\u001b[39m │\n",
      "│ 14958 │ 31     │ Lc31-40     │ 244         │ \u001b[90mmissing\u001b[39m            │ \u001b[90mmissing\u001b[39m │\n",
      "│ 14959 │ 54     │ Lc>50       │ 1434        │ \u001b[90mmissing\u001b[39m            │ \u001b[90mmissing\u001b[39m │\n",
      "│ 14960 │ 49     │ Lc41-50     │ 1338        │ \u001b[90mmissing\u001b[39m            │ \u001b[90mmissing\u001b[39m │\n",
      "│ 14961 │ 49     │ Lc41-50     │ 1338        │ \u001b[90mmissing\u001b[39m            │ \u001b[90mmissing\u001b[39m │\n",
      "│ 14962 │ 47     │ Lc41-50     │ 1090        │ \u001b[90mmissing\u001b[39m            │ \u001b[90mmissing\u001b[39m │\n",
      "│ 14963 │ 47     │ Lc41-50     │ 1090        │ \u001b[90mmissing\u001b[39m            │ \u001b[90mmissing\u001b[39m │\n",
      "│ 14964 │ 46     │ Lc41-50     │ 904         │ \u001b[90mmissing\u001b[39m            │ \u001b[90mmissing\u001b[39m │\n",
      "\n",
      "│ Row   │ sex     │ maturity │ gonad weight │ liver weight │ gall bladder │\n",
      "│       │ \u001b[90mString⍰\u001b[39m │ \u001b[90mInt64⍰\u001b[39m   │ \u001b[90mInt64⍰\u001b[39m       │ \u001b[90mString⍰\u001b[39m      │ \u001b[90mInt64⍰\u001b[39m       │\n",
      "├───────┼─────────┼──────────┼──────────────┼──────────────┼──────────────┤\n"
     ]
    },
    {
     "name": "stdout",
     "output_type": "stream",
     "text": [
      "│ 1     │ M       │ 2        │ \u001b[90mmissing\u001b[39m      │ 5            │ 1            │\n",
      "│ 2     │ M       │ 8        │ \u001b[90mmissing\u001b[39m      │ 9            │ 1            │\n",
      "│ 3     │ M       │ 2        │ \u001b[90mmissing\u001b[39m      │ 27           │ 4            │\n",
      "│ 4     │ M       │ 3        │ \u001b[90mmissing\u001b[39m      │ 10           │ 4            │\n",
      "│ 5     │ M       │ 3        │ \u001b[90mmissing\u001b[39m      │ 11           │ 4            │\n",
      "│ 6     │ M       │ 3        │ \u001b[90mmissing\u001b[39m      │ 8            │ 2            │\n",
      "│ 7     │ M       │ 4        │ \u001b[90mmissing\u001b[39m      │ 5            │ 1            │\n",
      "│ 8     │ M       │ 4        │ \u001b[90mmissing\u001b[39m      │ 5            │ 1            │\n",
      "│ 9     │ M       │ 4        │ \u001b[90mmissing\u001b[39m      │ 5            │ 1            │\n",
      "│ 10    │ M       │ 4        │ \u001b[90mmissing\u001b[39m      │ 5            │ 1            │\n",
      "⋮\n",
      "│ 14954 │ F       │ \u001b[90mmissing\u001b[39m  │ \u001b[90mmissing\u001b[39m      │ \u001b[90mmissing\u001b[39m      │ \u001b[90mmissing\u001b[39m      │\n",
      "│ 14955 │ M       │ \u001b[90mmissing\u001b[39m  │ \u001b[90mmissing\u001b[39m      │ \u001b[90mmissing\u001b[39m      │ \u001b[90mmissing\u001b[39m      │\n",
      "│ 14956 │ M       │ \u001b[90mmissing\u001b[39m  │ \u001b[90mmissing\u001b[39m      │ \u001b[90mmissing\u001b[39m      │ \u001b[90mmissing\u001b[39m      │\n",
      "│ 14957 │ F       │ \u001b[90mmissing\u001b[39m  │ \u001b[90mmissing\u001b[39m      │ \u001b[90mmissing\u001b[39m      │ \u001b[90mmissing\u001b[39m      │\n",
      "│ 14958 │ F       │ \u001b[90mmissing\u001b[39m  │ \u001b[90mmissing\u001b[39m      │ \u001b[90mmissing\u001b[39m      │ \u001b[90mmissing\u001b[39m      │\n",
      "│ 14959 │ F       │ \u001b[90mmissing\u001b[39m  │ \u001b[90mmissing\u001b[39m      │ \u001b[90mmissing\u001b[39m      │ \u001b[90mmissing\u001b[39m      │\n",
      "│ 14960 │ F       │ \u001b[90mmissing\u001b[39m  │ \u001b[90mmissing\u001b[39m      │ \u001b[90mmissing\u001b[39m      │ \u001b[90mmissing\u001b[39m      │\n",
      "│ 14961 │ F       │ \u001b[90mmissing\u001b[39m  │ \u001b[90mmissing\u001b[39m      │ \u001b[90mmissing\u001b[39m      │ \u001b[90mmissing\u001b[39m      │\n",
      "│ 14962 │ M       │ \u001b[90mmissing\u001b[39m  │ \u001b[90mmissing\u001b[39m      │ \u001b[90mmissing\u001b[39m      │ \u001b[90mmissing\u001b[39m      │\n",
      "│ 14963 │ M       │ \u001b[90mmissing\u001b[39m  │ \u001b[90mmissing\u001b[39m      │ \u001b[90mmissing\u001b[39m      │ \u001b[90mmissing\u001b[39m      │\n",
      "│ 14964 │ F       │ \u001b[90mmissing\u001b[39m  │ \u001b[90mmissing\u001b[39m      │ \u001b[90mmissing\u001b[39m      │ \u001b[90mmissing\u001b[39m      │\n",
      "\n",
      "│ Row   │ specimen note │ n full  │ n regurgitated │ n skeletal │ n empty │\n",
      "│       │ \u001b[90mString⍰\u001b[39m       │ \u001b[90mInt64⍰\u001b[39m  │ \u001b[90mInt64⍰\u001b[39m         │ \u001b[90mInt64⍰\u001b[39m     │ \u001b[90mInt64⍰\u001b[39m  │\n",
      "├───────┼───────────────┼─────────┼────────────────┼────────────┼─────────┤\n",
      "│ 1     │ \u001b[90mmissing\u001b[39m       │ 1       │ \u001b[90mmissing\u001b[39m        │ \u001b[90mmissing\u001b[39m    │ \u001b[90mmissing\u001b[39m │\n",
      "│ 2     │ \u001b[90mmissing\u001b[39m       │ 1       │ \u001b[90mmissing\u001b[39m        │ \u001b[90mmissing\u001b[39m    │ \u001b[90mmissing\u001b[39m │\n",
      "│ 3     │ \u001b[90mmissing\u001b[39m       │ \u001b[90mmissing\u001b[39m │ 1              │ \u001b[90mmissing\u001b[39m    │ \u001b[90mmissing\u001b[39m │\n",
      "│ 4     │ \u001b[90mmissing\u001b[39m       │ 1       │ \u001b[90mmissing\u001b[39m        │ \u001b[90mmissing\u001b[39m    │ \u001b[90mmissing\u001b[39m │\n",
      "│ 5     │ \u001b[90mmissing\u001b[39m       │ 1       │ \u001b[90mmissing\u001b[39m        │ \u001b[90mmissing\u001b[39m    │ \u001b[90mmissing\u001b[39m │\n",
      "│ 6     │ \u001b[90mmissing\u001b[39m       │ 1       │ \u001b[90mmissing\u001b[39m        │ \u001b[90mmissing\u001b[39m    │ \u001b[90mmissing\u001b[39m │\n",
      "│ 7     │ \u001b[90mmissing\u001b[39m       │ 1       │ \u001b[90mmissing\u001b[39m        │ \u001b[90mmissing\u001b[39m    │ \u001b[90mmissing\u001b[39m │\n",
      "│ 8     │ \u001b[90mmissing\u001b[39m       │ 1       │ \u001b[90mmissing\u001b[39m        │ \u001b[90mmissing\u001b[39m    │ \u001b[90mmissing\u001b[39m │\n",
      "│ 9     │ \u001b[90mmissing\u001b[39m       │ 1       │ \u001b[90mmissing\u001b[39m        │ \u001b[90mmissing\u001b[39m    │ \u001b[90mmissing\u001b[39m │\n",
      "│ 10    │ \u001b[90mmissing\u001b[39m       │ 1       │ \u001b[90mmissing\u001b[39m        │ \u001b[90mmissing\u001b[39m    │ \u001b[90mmissing\u001b[39m │\n",
      "⋮\n",
      "│ 14954 │ \u001b[90mmissing\u001b[39m       │ 1       │ \u001b[90mmissing\u001b[39m        │ \u001b[90mmissing\u001b[39m    │ \u001b[90mmissing\u001b[39m │\n",
      "│ 14955 │ \u001b[90mmissing\u001b[39m       │ 1       │ \u001b[90mmissing\u001b[39m        │ \u001b[90mmissing\u001b[39m    │ \u001b[90mmissing\u001b[39m │\n",
      "│ 14956 │ \u001b[90mmissing\u001b[39m       │ 1       │ \u001b[90mmissing\u001b[39m        │ \u001b[90mmissing\u001b[39m    │ \u001b[90mmissing\u001b[39m │\n",
      "│ 14957 │ \u001b[90mmissing\u001b[39m       │ 1       │ \u001b[90mmissing\u001b[39m        │ \u001b[90mmissing\u001b[39m    │ \u001b[90mmissing\u001b[39m │\n",
      "│ 14958 │ \u001b[90mmissing\u001b[39m       │ 1       │ \u001b[90mmissing\u001b[39m        │ \u001b[90mmissing\u001b[39m    │ \u001b[90mmissing\u001b[39m │\n",
      "│ 14959 │ \u001b[90mmissing\u001b[39m       │ 1       │ \u001b[90mmissing\u001b[39m        │ \u001b[90mmissing\u001b[39m    │ \u001b[90mmissing\u001b[39m │\n",
      "│ 14960 │ \u001b[90mmissing\u001b[39m       │ 1       │ \u001b[90mmissing\u001b[39m        │ \u001b[90mmissing\u001b[39m    │ \u001b[90mmissing\u001b[39m │\n",
      "│ 14961 │ \u001b[90mmissing\u001b[39m       │ 1       │ \u001b[90mmissing\u001b[39m        │ \u001b[90mmissing\u001b[39m    │ \u001b[90mmissing\u001b[39m │\n",
      "│ 14962 │ \u001b[90mmissing\u001b[39m       │ 1       │ \u001b[90mmissing\u001b[39m        │ \u001b[90mmissing\u001b[39m    │ \u001b[90mmissing\u001b[39m │\n",
      "│ 14963 │ \u001b[90mmissing\u001b[39m       │ 1       │ \u001b[90mmissing\u001b[39m        │ \u001b[90mmissing\u001b[39m    │ \u001b[90mmissing\u001b[39m │\n",
      "│ 14964 │ \u001b[90mmissing\u001b[39m       │ 1       │ \u001b[90mmissing\u001b[39m        │ \u001b[90mmissing\u001b[39m    │ \u001b[90mmissing\u001b[39m │\n",
      "\n",
      "│ Row   │ stomachcontent │ perc stomachcontent │ length code │\n",
      "│       │ \u001b[90mString\u001b[39m         │ \u001b[90mString⍰\u001b[39m             │ \u001b[90mString⍰\u001b[39m     │\n",
      "├───────┼────────────────┼─────────────────────┼─────────────┤\n",
      "│ 1     │ 0 87           │ 1 24                │ \u001b[90mmissing\u001b[39m     │\n",
      "│ 2     │ 1 78           │ 0 72                │ Ls          │\n",
      "│ 3     │ 0              │ 0                   │ \u001b[90mmissing\u001b[39m     │\n",
      "│ 4     │ 0 42           │ 0 22                │ \u001b[90mmissing\u001b[39m     │\n",
      "│ 5     │ 0 06           │ 0 02                │ \u001b[90mmissing\u001b[39m     │\n",
      "│ 6     │ 0 8            │ 0 59                │ \u001b[90mmissing\u001b[39m     │\n",
      "│ 7     │ 4 19           │ 2 72                │ \u001b[90mmissing\u001b[39m     │\n",
      "│ 8     │ 4 19           │ 2 72                │ \u001b[90mmissing\u001b[39m     │\n",
      "│ 9     │ 4 19           │ 2 72                │ \u001b[90mmissing\u001b[39m     │\n",
      "│ 10    │ 4 19           │ 2 72                │ \u001b[90mmissing\u001b[39m     │\n",
      "⋮\n",
      "│ 14954 │ 0 12           │ 0 33                │ \u001b[90mmissing\u001b[39m     │\n",
      "│ 14955 │ 0 146          │ 0 16                │ \u001b[90mmissing\u001b[39m     │\n",
      "│ 14956 │ 0 102          │ 0 02                │ \u001b[90mmissing\u001b[39m     │\n",
      "│ 14957 │ 0 267          │ 0 11                │ \u001b[90mmissing\u001b[39m     │\n",
      "│ 14958 │ 0 267          │ 0 11                │ \u001b[90mmissing\u001b[39m     │\n",
      "│ 14959 │ 0 15           │ 0 01                │ \u001b[90mmissing\u001b[39m     │\n",
      "│ 14960 │ 0 892          │ 0 07                │ \u001b[90mmissing\u001b[39m     │\n",
      "│ 14961 │ 0 892          │ 0 07                │ \u001b[90mmissing\u001b[39m     │\n",
      "│ 14962 │ 9 522          │ 0 87                │ \u001b[90mmissing\u001b[39m     │\n",
      "│ 14963 │ 9 522          │ 0 87                │ \u001b[90mmissing\u001b[39m     │\n",
      "│ 14964 │ 0 18           │ 0 02                │ \u001b[90mmissing\u001b[39m     │\n",
      "\n",
      "│ Row   │ prey sp code      │ prey size │ prey weight │ prey nr │\n",
      "│       │ \u001b[90mString⍰\u001b[39m           │ \u001b[90mInt64⍰\u001b[39m    │ \u001b[90mString\u001b[39m      │ \u001b[90mString⍰\u001b[39m │\n",
      "├───────┼───────────────────┼───────────┼─────────────┼─────────┤\n",
      "│ 1     │ Mysis mixta       │ \u001b[90mmissing\u001b[39m   │ 0 87        │ 19      │\n",
      "│ 2     │ Clupea harengus   │ 85        │ 1 78        │ 1       │\n",
      "│ 3     │ \u001b[90mmissing\u001b[39m           │ \u001b[90mmissing\u001b[39m   │ 0           │ \u001b[90mmissing\u001b[39m │\n",
      "│ 4     │ Mysis mixta       │ \u001b[90mmissing\u001b[39m   │ 0 42        │ 10      │\n",
      "│ 5     │ Mysis mixta       │ \u001b[90mmissing\u001b[39m   │ 0 06        │ 2       │\n",
      "│ 6     │ Mysis mixta       │ \u001b[90mmissing\u001b[39m   │ 0 8         │ 19      │\n",
      "│ 7     │ Mysis mixta       │ \u001b[90mmissing\u001b[39m   │ 3 94        │ 106     │\n",
      "│ 8     │ Neomysis integer  │ \u001b[90mmissing\u001b[39m   │ 0 01        │ 1       │\n",
      "│ 9     │ Saduria entomon   │ \u001b[90mmissing\u001b[39m   │ 0 18        │ 1       │\n",
      "│ 10    │ Clupeidae         │ \u001b[90mmissing\u001b[39m   │ 0 06        │ 1       │\n",
      "⋮\n",
      "│ 14954 │ Sprattus sprattus │ \u001b[90mmissing\u001b[39m   │ 0 12        │ \u001b[90mmissing\u001b[39m │\n",
      "│ 14955 │ Mysidae           │ \u001b[90mmissing\u001b[39m   │ 0 146       │ \u001b[90mmissing\u001b[39m │\n",
      "│ 14956 │ Mysidae           │ \u001b[90mmissing\u001b[39m   │ 0 102       │ \u001b[90mmissing\u001b[39m │\n",
      "│ 14957 │ Bylgides sarsi    │ \u001b[90mmissing\u001b[39m   │ 0 066       │ \u001b[90mmissing\u001b[39m │\n",
      "│ 14958 │ Mysidae           │ \u001b[90mmissing\u001b[39m   │ 0 201       │ \u001b[90mmissing\u001b[39m │\n",
      "│ 14959 │ Clupeidae         │ \u001b[90mmissing\u001b[39m   │ 0 15        │ \u001b[90mmissing\u001b[39m │\n",
      "│ 14960 │ Clupea harengus   │ \u001b[90mmissing\u001b[39m   │ 0 405       │ \u001b[90mmissing\u001b[39m │\n",
      "│ 14961 │ Sprattus sprattus │ \u001b[90mmissing\u001b[39m   │ 0 487       │ \u001b[90mmissing\u001b[39m │\n",
      "│ 14962 │ Clupea harengus   │ \u001b[90mmissing\u001b[39m   │ 0 205       │ \u001b[90mmissing\u001b[39m │\n",
      "│ 14963 │ Clupeidae         │ \u001b[90mmissing\u001b[39m   │ 9 317       │ \u001b[90mmissing\u001b[39m │\n",
      "│ 14964 │ Clupea harengus   │ \u001b[90mmissing\u001b[39m   │ 0 18        │ \u001b[90mmissing\u001b[39m │\n",
      "\n",
      "│ Row   │ stage digestion │ comment      │ parasites in stomach │ processed │\n"
     ]
    },
    {
     "name": "stdout",
     "output_type": "stream",
     "text": [
      "│       │ \u001b[90mInt64⍰\u001b[39m          │ \u001b[90mString⍰\u001b[39m      │ \u001b[90mString⍰\u001b[39m              │ \u001b[90mString\u001b[39m    │\n",
      "├───────┼─────────────────┼──────────────┼──────────────────────┼───────────┤\n",
      "│ 1     │ 1               │ \u001b[90mmissing\u001b[39m      │ \u001b[90mmissing\u001b[39m              │ original  │\n",
      "│ 2     │ 1               │ without head │ \u001b[90mmissing\u001b[39m              │ original  │\n",
      "│ 3     │ \u001b[90mmissing\u001b[39m         │ fresh scales │ \u001b[90mmissing\u001b[39m              │ sure      │\n",
      "│ 4     │ 1               │ \u001b[90mmissing\u001b[39m      │ \u001b[90mmissing\u001b[39m              │ original  │\n",
      "│ 5     │ 1               │ \u001b[90mmissing\u001b[39m      │ \u001b[90mmissing\u001b[39m              │ original  │\n",
      "│ 6     │ 1               │ \u001b[90mmissing\u001b[39m      │ \u001b[90mmissing\u001b[39m              │ original  │\n",
      "│ 7     │ 1               │ \u001b[90mmissing\u001b[39m      │ \u001b[90mmissing\u001b[39m              │ original  │\n",
      "│ 8     │ 1               │ \u001b[90mmissing\u001b[39m      │ \u001b[90mmissing\u001b[39m              │ original  │\n",
      "│ 9     │ 1               │ \u001b[90mmissing\u001b[39m      │ \u001b[90mmissing\u001b[39m              │ original  │\n",
      "│ 10    │ 2               │ \u001b[90mmissing\u001b[39m      │ \u001b[90mmissing\u001b[39m              │ original  │\n",
      "⋮\n",
      "│ 14954 │ \u001b[90mmissing\u001b[39m         │ \u001b[90mmissing\u001b[39m      │ \u001b[90mmissing\u001b[39m              │ original  │\n",
      "│ 14955 │ \u001b[90mmissing\u001b[39m         │ \u001b[90mmissing\u001b[39m      │ \u001b[90mmissing\u001b[39m              │ original  │\n",
      "│ 14956 │ \u001b[90mmissing\u001b[39m         │ \u001b[90mmissing\u001b[39m      │ \u001b[90mmissing\u001b[39m              │ original  │\n",
      "│ 14957 │ \u001b[90mmissing\u001b[39m         │ \u001b[90mmissing\u001b[39m      │ \u001b[90mmissing\u001b[39m              │ original  │\n",
      "│ 14958 │ \u001b[90mmissing\u001b[39m         │ \u001b[90mmissing\u001b[39m      │ \u001b[90mmissing\u001b[39m              │ original  │\n",
      "│ 14959 │ \u001b[90mmissing\u001b[39m         │ \u001b[90mmissing\u001b[39m      │ \u001b[90mmissing\u001b[39m              │ original  │\n",
      "│ 14960 │ \u001b[90mmissing\u001b[39m         │ \u001b[90mmissing\u001b[39m      │ \u001b[90mmissing\u001b[39m              │ original  │\n",
      "│ 14961 │ \u001b[90mmissing\u001b[39m         │ \u001b[90mmissing\u001b[39m      │ \u001b[90mmissing\u001b[39m              │ original  │\n",
      "│ 14962 │ \u001b[90mmissing\u001b[39m         │ \u001b[90mmissing\u001b[39m      │ \u001b[90mmissing\u001b[39m              │ original  │\n",
      "│ 14963 │ \u001b[90mmissing\u001b[39m         │ \u001b[90mmissing\u001b[39m      │ \u001b[90mmissing\u001b[39m              │ original  │\n",
      "│ 14964 │ \u001b[90mmissing\u001b[39m         │ \u001b[90mmissing\u001b[39m      │ \u001b[90mmissing\u001b[39m              │ original  │"
     ]
    }
   ],
   "source": [
    "show(x, allcols = true)"
   ]
  },
  {
   "cell_type": "code",
   "execution_count": 3,
   "metadata": {
    "slideshow": {
     "slide_type": "skip"
    }
   },
   "outputs": [
    {
     "data": {
      "text/html": [
       "<table class=\"data-frame\"><thead><tr><th></th><th>Date  </th><th>Year</th><th>Quarter</th><th>Month</th><th>Appr. status</th><th>Seqno</th><th>Haul</th><th>Validity</th><th>Station name</th></tr><tr><th></th><th>Dates…</th><th>Int64</th><th>Int64</th><th>Int64</th><th>String</th><th>Int64</th><th>Int64</th><th>String</th><th>String</th></tr></thead><tbody><p>5 rows × 31 columns (omitted printing of 22 columns)</p><tr><th>1</th><td>2013-02-22</td><td>2013</td><td>1</td><td>2</td><td>No</td><td>10047</td><td>1</td><td>V</td><td>RACKAPUTT E</td></tr><tr><th>2</th><td>2013-02-22</td><td>2013</td><td>1</td><td>2</td><td>No</td><td>10047</td><td>1</td><td>V</td><td>RACKAPUTT E</td></tr><tr><th>3</th><td>2013-02-22</td><td>2013</td><td>1</td><td>2</td><td>No</td><td>10047</td><td>1</td><td>V</td><td>RACKAPUTT E</td></tr><tr><th>4</th><td>2013-02-22</td><td>2013</td><td>1</td><td>2</td><td>No</td><td>10047</td><td>1</td><td>V</td><td>RACKAPUTT E</td></tr><tr><th>5</th><td>2013-02-22</td><td>2013</td><td>1</td><td>2</td><td>No</td><td>10047</td><td>1</td><td>V</td><td>RACKAPUTT E</td></tr></tbody></table>"
      ],
      "text/latex": [
       "\\begin{tabular}{r|cccccccccc}\n",
       "\t& Date   & Year & Quarter & Month & Appr. status & Seqno & Haul & Validity & Station name & \\\\\n",
       "\t\\hline\n",
       "\t& Dates… & Int64 & Int64 & Int64 & String & Int64 & Int64 & String & String & \\\\\n",
       "\t\\hline\n",
       "\t1 & 2013-02-22 & 2013 & 1 & 2 & No & 10047 & 1 & V & RACKAPUTT E & $\\dots$ \\\\\n",
       "\t2 & 2013-02-22 & 2013 & 1 & 2 & No & 10047 & 1 & V & RACKAPUTT E & $\\dots$ \\\\\n",
       "\t3 & 2013-02-22 & 2013 & 1 & 2 & No & 10047 & 1 & V & RACKAPUTT E & $\\dots$ \\\\\n",
       "\t4 & 2013-02-22 & 2013 & 1 & 2 & No & 10047 & 1 & V & RACKAPUTT E & $\\dots$ \\\\\n",
       "\t5 & 2013-02-22 & 2013 & 1 & 2 & No & 10047 & 1 & V & RACKAPUTT E & $\\dots$ \\\\\n",
       "\\end{tabular}\n"
      ],
      "text/plain": [
       "5×31 DataFrame. Omitted printing of 24 columns\n",
       "│ Row │ Date       │ Year  │ Quarter │ Month │ Appr. status │ Seqno │ Haul  │\n",
       "│     │ \u001b[90mDates.Date\u001b[39m │ \u001b[90mInt64\u001b[39m │ \u001b[90mInt64\u001b[39m   │ \u001b[90mInt64\u001b[39m │ \u001b[90mString\u001b[39m       │ \u001b[90mInt64\u001b[39m │ \u001b[90mInt64\u001b[39m │\n",
       "├─────┼────────────┼───────┼─────────┼───────┼──────────────┼───────┼───────┤\n",
       "│ 1   │ 2013-02-22 │ 2013  │ 1       │ 2     │ No           │ 10047 │ 1     │\n",
       "│ 2   │ 2013-02-22 │ 2013  │ 1       │ 2     │ No           │ 10047 │ 1     │\n",
       "│ 3   │ 2013-02-22 │ 2013  │ 1       │ 2     │ No           │ 10047 │ 1     │\n",
       "│ 4   │ 2013-02-22 │ 2013  │ 1       │ 2     │ No           │ 10047 │ 1     │\n",
       "│ 5   │ 2013-02-22 │ 2013  │ 1       │ 2     │ No           │ 10047 │ 1     │"
      ]
     },
     "execution_count": 3,
     "metadata": {},
     "output_type": "execute_result"
    }
   ],
   "source": [
    "#### DataFrame julia --> Trawl data \n",
    "\n",
    "using CSVFiles, CSV, DataFrames, Plots, StatsPlots, Missings, Statistics\n",
    "using JuliaDB, IterableTables, FileIO\n",
    "#x = CSV.File(\"datashow/trawl_surveys_zexcl_SkrubbaBITS2013-2018.csv\") |> DataFrame\n",
    "x = CSV.File(\"datashow/trawl_surveys_zexcl_TorskBITS2013-2018.csv\") |> DataFrame\n",
    "x[1:5,:]"
   ]
  },
  {
   "cell_type": "code",
   "execution_count": 60,
   "metadata": {
    "slideshow": {
     "slide_type": "skip"
    }
   },
   "outputs": [
    {
     "name": "stdout",
     "output_type": "stream",
     "text": [
      "7115×31 DataFrame\n",
      "│ Row  │ Date       │ Year  │ Quarter │ Month │ Appr. status │ Seqno │ Haul  │\n",
      "│      │ \u001b[90mDates.Date\u001b[39m │ \u001b[90mInt64\u001b[39m │ \u001b[90mInt64\u001b[39m   │ \u001b[90mInt64\u001b[39m │ \u001b[90mString\u001b[39m       │ \u001b[90mInt64\u001b[39m │ \u001b[90mInt64\u001b[39m │\n",
      "├──────┼────────────┼───────┼─────────┼───────┼──────────────┼───────┼───────┤\n",
      "│ 1    │ 2013-02-22 │ 2013  │ 1       │ 2     │ No           │ 10047 │ 1     │\n",
      "│ 2    │ 2013-02-22 │ 2013  │ 1       │ 2     │ No           │ 10047 │ 1     │\n",
      "│ 3    │ 2013-02-22 │ 2013  │ 1       │ 2     │ No           │ 10047 │ 1     │\n",
      "│ 4    │ 2013-02-22 │ 2013  │ 1       │ 2     │ No           │ 10047 │ 1     │\n",
      "│ 5    │ 2013-02-22 │ 2013  │ 1       │ 2     │ No           │ 10047 │ 1     │\n",
      "│ 6    │ 2013-02-22 │ 2013  │ 1       │ 2     │ No           │ 10047 │ 1     │\n",
      "│ 7    │ 2013-02-22 │ 2013  │ 1       │ 2     │ No           │ 10047 │ 1     │\n",
      "│ 8    │ 2013-02-22 │ 2013  │ 1       │ 2     │ No           │ 10047 │ 1     │\n",
      "│ 9    │ 2013-02-22 │ 2013  │ 1       │ 2     │ No           │ 10047 │ 1     │\n",
      "│ 10   │ 2013-02-22 │ 2013  │ 1       │ 2     │ No           │ 10047 │ 1     │\n",
      "⋮\n",
      "│ 7105 │ 2018-11-28 │ 2018  │ 4       │ 11    │ No           │ 10207 │ 61    │\n",
      "│ 7106 │ 2018-11-28 │ 2018  │ 4       │ 11    │ No           │ 10207 │ 61    │\n",
      "│ 7107 │ 2018-11-28 │ 2018  │ 4       │ 11    │ No           │ 10207 │ 61    │\n",
      "│ 7108 │ 2018-11-28 │ 2018  │ 4       │ 11    │ No           │ 10207 │ 61    │\n",
      "│ 7109 │ 2018-11-28 │ 2018  │ 4       │ 11    │ No           │ 10207 │ 61    │\n",
      "│ 7110 │ 2018-11-28 │ 2018  │ 4       │ 11    │ No           │ 10207 │ 61    │\n",
      "│ 7111 │ 2018-11-28 │ 2018  │ 4       │ 11    │ No           │ 10207 │ 61    │\n",
      "│ 7112 │ 2018-11-28 │ 2018  │ 4       │ 11    │ No           │ 10207 │ 61    │\n",
      "│ 7113 │ 2018-11-28 │ 2018  │ 4       │ 11    │ No           │ 10207 │ 61    │\n",
      "│ 7114 │ 2018-11-28 │ 2018  │ 4       │ 11    │ No           │ 10207 │ 61    │\n",
      "│ 7115 │ 2018-11-28 │ 2018  │ 4       │ 11    │ No           │ 10207 │ 61    │\n",
      "\n",
      "│ Row  │ Validity │ Station name     │ Species │ Subsam │ Processing │ Grade │\n",
      "│      │ \u001b[90mString\u001b[39m   │ \u001b[90mString\u001b[39m           │ \u001b[90mString\u001b[39m  │ \u001b[90mInt64\u001b[39m  │ \u001b[90mInt64\u001b[39m      │ \u001b[90mInt64\u001b[39m │\n",
      "├──────┼──────────┼──────────────────┼─────────┼────────┼────────────┼───────┤\n",
      "│ 1    │ V        │ RACKAPUTT E      │ Cod     │ 0      │ 0          │ 9     │\n",
      "│ 2    │ V        │ RACKAPUTT E      │ Cod     │ 0      │ 0          │ 9     │\n",
      "│ 3    │ V        │ RACKAPUTT E      │ Cod     │ 0      │ 0          │ 9     │\n",
      "│ 4    │ V        │ RACKAPUTT E      │ Cod     │ 0      │ 0          │ 9     │\n",
      "│ 5    │ V        │ RACKAPUTT E      │ Cod     │ 0      │ 0          │ 9     │\n",
      "│ 6    │ V        │ RACKAPUTT E      │ Cod     │ 0      │ 0          │ 9     │\n",
      "│ 7    │ V        │ RACKAPUTT E      │ Cod     │ 0      │ 0          │ 9     │\n",
      "│ 8    │ V        │ RACKAPUTT E      │ Cod     │ 0      │ 0          │ 9     │\n",
      "│ 9    │ V        │ RACKAPUTT E      │ Cod     │ 0      │ 0          │ 9     │\n",
      "│ 10   │ V        │ RACKAPUTT E      │ Cod     │ 0      │ 0          │ 9     │\n",
      "⋮\n",
      "│ 7105 │ V        │ RAKAPUTT CENTRAL │ Cod     │ 0      │ 0          │ 9     │\n",
      "│ 7106 │ V        │ RAKAPUTT CENTRAL │ Cod     │ 0      │ 0          │ 9     │\n",
      "│ 7107 │ V        │ RAKAPUTT CENTRAL │ Cod     │ 0      │ 0          │ 9     │\n",
      "│ 7108 │ V        │ RAKAPUTT CENTRAL │ Cod     │ 0      │ 0          │ 9     │\n",
      "│ 7109 │ V        │ RAKAPUTT CENTRAL │ Cod     │ 0      │ 0          │ 9     │\n",
      "│ 7110 │ V        │ RAKAPUTT CENTRAL │ Cod     │ 0      │ 0          │ 9     │\n",
      "│ 7111 │ V        │ RAKAPUTT CENTRAL │ Cod     │ 0      │ 0          │ 9     │\n",
      "│ 7112 │ V        │ RAKAPUTT CENTRAL │ Cod     │ 0      │ 0          │ 9     │\n",
      "│ 7113 │ V        │ RAKAPUTT CENTRAL │ Cod     │ 0      │ 0          │ 9     │\n",
      "│ 7114 │ V        │ RAKAPUTT CENTRAL │ Cod     │ 0      │ 0          │ 9     │\n",
      "│ 7115 │ V        │ RAKAPUTT CENTRAL │ Cod     │ 0      │ 0          │ 9     │\n",
      "\n",
      "│ Row  │ Sex    │ Subdiv │ Rect  │ ICES   │ Lat     │ Long    │ Bottom depth │\n",
      "│      │ \u001b[90mString\u001b[39m │ \u001b[90mInt64\u001b[39m  │ \u001b[90mInt64\u001b[39m │ \u001b[90mString\u001b[39m │ \u001b[90mString\u001b[39m  │ \u001b[90mString\u001b[39m  │ \u001b[90mString\u001b[39m       │\n",
      "├──────┼────────┼────────┼───────┼────────┼─────────┼─────────┼──────────────┤\n",
      "│ 1    │ -      │ 25     │ 4059  │ 40G4   │ 5540,5  │ 1429,11 │ 50,1         │\n",
      "│ 2    │ -      │ 25     │ 4059  │ 40G4   │ 5540,5  │ 1429,11 │ 50,1         │\n",
      "│ 3    │ -      │ 25     │ 4059  │ 40G4   │ 5540,5  │ 1429,11 │ 50,1         │\n",
      "│ 4    │ -      │ 25     │ 4059  │ 40G4   │ 5540,5  │ 1429,11 │ 50,1         │\n",
      "│ 5    │ -      │ 25     │ 4059  │ 40G4   │ 5540,5  │ 1429,11 │ 50,1         │\n",
      "│ 6    │ -      │ 25     │ 4059  │ 40G4   │ 5540,5  │ 1429,11 │ 50,1         │\n",
      "│ 7    │ -      │ 25     │ 4059  │ 40G4   │ 5540,5  │ 1429,11 │ 50,1         │\n",
      "│ 8    │ -      │ 25     │ 4059  │ 40G4   │ 5540,5  │ 1429,11 │ 50,1         │\n",
      "│ 9    │ -      │ 25     │ 4059  │ 40G4   │ 5540,5  │ 1429,11 │ 50,1         │\n",
      "│ 10   │ -      │ 25     │ 4059  │ 40G4   │ 5540,5  │ 1429,11 │ 50,1         │\n",
      "⋮\n",
      "│ 7105 │ -      │ 25     │ 4059  │ 40G4   │ 5540,28 │ 1429,68 │ 49           │\n",
      "│ 7106 │ -      │ 25     │ 4059  │ 40G4   │ 5540,28 │ 1429,68 │ 49           │\n",
      "│ 7107 │ -      │ 25     │ 4059  │ 40G4   │ 5540,28 │ 1429,68 │ 49           │\n",
      "│ 7108 │ -      │ 25     │ 4059  │ 40G4   │ 5540,28 │ 1429,68 │ 49           │\n",
      "│ 7109 │ -      │ 25     │ 4059  │ 40G4   │ 5540,28 │ 1429,68 │ 49           │\n",
      "│ 7110 │ -      │ 25     │ 4059  │ 40G4   │ 5540,28 │ 1429,68 │ 49           │\n",
      "│ 7111 │ -      │ 25     │ 4059  │ 40G4   │ 5540,28 │ 1429,68 │ 49           │\n",
      "│ 7112 │ -      │ 25     │ 4059  │ 40G4   │ 5540,28 │ 1429,68 │ 49           │\n",
      "│ 7113 │ -      │ 25     │ 4059  │ 40G4   │ 5540,28 │ 1429,68 │ 49           │\n",
      "│ 7114 │ -      │ 25     │ 4059  │ 40G4   │ 5540,28 │ 1429,68 │ 49           │\n",
      "│ 7115 │ -      │ 25     │ 4059  │ 40G4   │ 5540,28 │ 1429,68 │ 49           │\n",
      "\n",
      "│ Row  │ Duration │ Dist.  │ Doorspread │ Headropedepth │ Opening │ Kg/hour │\n",
      "│      │ \u001b[90mInt64\u001b[39m    │ \u001b[90mString\u001b[39m │ \u001b[90mString\u001b[39m     │ \u001b[90mString\u001b[39m        │ \u001b[90mString\u001b[39m  │ \u001b[90mString\u001b[39m  │\n",
      "├──────┼──────────┼────────┼────────────┼───────────────┼─────────┼─────────┤\n",
      "│ 1    │ 30       │ 1,49   │ 84,3       │ -             │ 5,7     │ 2255,48 │\n",
      "│ 2    │ 30       │ 1,49   │ 84,3       │ -             │ 5,7     │ 2255,48 │\n",
      "│ 3    │ 30       │ 1,49   │ 84,3       │ -             │ 5,7     │ 2255,48 │\n",
      "│ 4    │ 30       │ 1,49   │ 84,3       │ -             │ 5,7     │ 2255,48 │\n",
      "│ 5    │ 30       │ 1,49   │ 84,3       │ -             │ 5,7     │ 2255,48 │\n",
      "│ 6    │ 30       │ 1,49   │ 84,3       │ -             │ 5,7     │ 2255,48 │\n",
      "│ 7    │ 30       │ 1,49   │ 84,3       │ -             │ 5,7     │ 2255,48 │\n",
      "│ 8    │ 30       │ 1,49   │ 84,3       │ -             │ 5,7     │ 2255,48 │\n",
      "│ 9    │ 30       │ 1,49   │ 84,3       │ -             │ 5,7     │ 2255,48 │\n",
      "│ 10   │ 30       │ 1,49   │ 84,3       │ -             │ 5,7     │ 2255,48 │\n",
      "⋮\n",
      "│ 7105 │ 23       │ 1,2    │ 81         │ -             │ 4,2     │ 516     │\n",
      "│ 7106 │ 23       │ 1,2    │ 81         │ -             │ 4,2     │ 516     │\n",
      "│ 7107 │ 23       │ 1,2    │ 81         │ -             │ 4,2     │ 516     │\n",
      "│ 7108 │ 23       │ 1,2    │ 81         │ -             │ 4,2     │ 516     │\n",
      "│ 7109 │ 23       │ 1,2    │ 81         │ -             │ 4,2     │ 516     │\n",
      "│ 7110 │ 23       │ 1,2    │ 81         │ -             │ 4,2     │ 516     │\n",
      "│ 7111 │ 23       │ 1,2    │ 81         │ -             │ 4,2     │ 516     │\n",
      "│ 7112 │ 23       │ 1,2    │ 81         │ -             │ 4,2     │ 516     │\n",
      "│ 7113 │ 23       │ 1,2    │ 81         │ -             │ 4,2     │ 516     │\n",
      "│ 7114 │ 23       │ 1,2    │ 81         │ -             │ 4,2     │ 516     │\n",
      "│ 7115 │ 23       │ 1,2    │ 81         │ -             │ 4,2     │ 516     │\n",
      "\n",
      "│ Row  │ Tot. no./hour │ Lengthcl. │ Mean weight │ No./hour │\n",
      "│      │ \u001b[90mString\u001b[39m        │ \u001b[90mString\u001b[39m    │ \u001b[90mString\u001b[39m      │ \u001b[90mString\u001b[39m   │\n",
      "├──────┼───────────────┼───────────┼─────────────┼──────────┤\n",
      "│ 1    │ 15559,4       │ 170       │ -           │ 25,5     │\n",
      "│ 2    │ 15559,4       │ 180       │ -           │ 76,5     │\n",
      "│ 3    │ 15559,4       │ 190       │ -           │ 306      │\n",
      "│ 4    │ 15559,4       │ 200       │ -           │ 816,1    │\n"
     ]
    },
    {
     "name": "stdout",
     "output_type": "stream",
     "text": [
      "│ 5    │ 15559,4       │ 210       │ -           │ 1351,7   │\n",
      "│ 6    │ 15559,4       │ 220       │ -           │ 2550,4   │\n",
      "│ 7    │ 15559,4       │ 230       │ -           │ 2830,9   │\n",
      "│ 8    │ 15559,4       │ 240       │ -           │ 2142,3   │\n",
      "│ 9    │ 15559,4       │ 250       │ -           │ 1759,8   │\n",
      "│ 10   │ 15559,4       │ 260       │ -           │ 841,6    │\n",
      "⋮\n",
      "│ 7105 │ 2138,8        │ 340       │ -           │ 160,6    │\n",
      "│ 7106 │ 2138,8        │ 350       │ -           │ 105,2    │\n",
      "│ 7107 │ 2138,8        │ 360       │ -           │ 49,8     │\n",
      "│ 7108 │ 2138,8        │ 370       │ -           │ 66,4     │\n",
      "│ 7109 │ 2138,8        │ 380       │ -           │ 27,7     │\n",
      "│ 7110 │ 2138,8        │ 390       │ -           │ 33,2     │\n",
      "│ 7111 │ 2138,8        │ 400       │ -           │ 5,5      │\n",
      "│ 7112 │ 2138,8        │ 410       │ -           │ 5,2      │\n",
      "│ 7113 │ 2138,8        │ 420       │ -           │ 7,8      │\n",
      "│ 7114 │ 2138,8        │ 430       │ -           │ 5,2      │\n",
      "│ 7115 │ 2138,8        │ 440       │ -           │ 2,6      │\n",
      "\n",
      "│ Row  │ Length measure type │\n",
      "│      │ \u001b[90mString\u001b[39m              │\n",
      "├──────┼─────────────────────┤\n",
      "│ 1    │ -                   │\n",
      "│ 2    │ -                   │\n",
      "│ 3    │ -                   │\n",
      "│ 4    │ -                   │\n",
      "│ 5    │ -                   │\n",
      "│ 6    │ -                   │\n",
      "│ 7    │ -                   │\n",
      "│ 8    │ -                   │\n",
      "│ 9    │ -                   │\n",
      "│ 10   │ -                   │\n",
      "⋮\n",
      "│ 7105 │ Total length TL     │\n",
      "│ 7106 │ Total length TL     │\n",
      "│ 7107 │ Total length TL     │\n",
      "│ 7108 │ Total length TL     │\n",
      "│ 7109 │ Total length TL     │\n",
      "│ 7110 │ Total length TL     │\n",
      "│ 7111 │ Total length TL     │\n",
      "│ 7112 │ Total length TL     │\n",
      "│ 7113 │ Total length TL     │\n",
      "│ 7114 │ Total length TL     │\n",
      "│ 7115 │ Total length TL     │"
     ]
    }
   ],
   "source": [
    "show(x, allcols = true)\n"
   ]
  },
  {
   "cell_type": "code",
   "execution_count": 61,
   "metadata": {
    "slideshow": {
     "slide_type": "skip"
    }
   },
   "outputs": [
    {
     "data": {
      "text/plain": [
       "DataFrame"
      ]
     },
     "execution_count": 61,
     "metadata": {},
     "output_type": "execute_result"
    }
   ],
   "source": [
    "typeof(x)"
   ]
  },
  {
   "cell_type": "code",
   "execution_count": 11,
   "metadata": {
    "slideshow": {
     "slide_type": "skip"
    }
   },
   "outputs": [
    {
     "data": {
      "image/svg+xml": [
       "<?xml version=\"1.0\" encoding=\"utf-8\"?>\n",
       "<svg xmlns=\"http://www.w3.org/2000/svg\" xmlns:xlink=\"http://www.w3.org/1999/xlink\" width=\"600\" height=\"400\" viewBox=\"0 0 2400 1600\">\n",
       "<defs>\n",
       "  <clipPath id=\"clip8100\">\n",
       "    <rect x=\"0\" y=\"0\" width=\"2400\" height=\"1600\"/>\n",
       "  </clipPath>\n",
       "</defs>\n",
       "<path clip-path=\"url(#clip8100)\" d=\"\n",
       "M0 1600 L2400 1600 L2400 0 L0 0  Z\n",
       "  \" fill=\"#ffffff\" fill-rule=\"evenodd\" fill-opacity=\"1\"/>\n",
       "<defs>\n",
       "  <clipPath id=\"clip8101\">\n",
       "    <rect x=\"480\" y=\"0\" width=\"1681\" height=\"1600\"/>\n",
       "  </clipPath>\n",
       "</defs>\n",
       "<path clip-path=\"url(#clip8100)\" d=\"\n",
       "M167.279 1487.47 L2352.76 1487.47 L2352.76 47.2441 L167.279 47.2441  Z\n",
       "  \" fill=\"#ffffff\" fill-rule=\"evenodd\" fill-opacity=\"1\"/>\n",
       "<defs>\n",
       "  <clipPath id=\"clip8102\">\n",
       "    <rect x=\"167\" y=\"47\" width=\"2186\" height=\"1441\"/>\n",
       "  </clipPath>\n",
       "</defs>\n",
       "<polyline clip-path=\"url(#clip8102)\" style=\"stroke:#000000; stroke-width:2; stroke-opacity:0.1; fill:none\" points=\"\n",
       "  182.346,1487.47 182.346,47.2441 \n",
       "  \"/>\n",
       "<polyline clip-path=\"url(#clip8102)\" style=\"stroke:#000000; stroke-width:2; stroke-opacity:0.1; fill:none\" points=\"\n",
       "  708.039,1487.47 708.039,47.2441 \n",
       "  \"/>\n",
       "<polyline clip-path=\"url(#clip8102)\" style=\"stroke:#000000; stroke-width:2; stroke-opacity:0.1; fill:none\" points=\"\n",
       "  1233.73,1487.47 1233.73,47.2441 \n",
       "  \"/>\n",
       "<polyline clip-path=\"url(#clip8102)\" style=\"stroke:#000000; stroke-width:2; stroke-opacity:0.1; fill:none\" points=\"\n",
       "  1759.43,1487.47 1759.43,47.2441 \n",
       "  \"/>\n",
       "<polyline clip-path=\"url(#clip8102)\" style=\"stroke:#000000; stroke-width:2; stroke-opacity:0.1; fill:none\" points=\"\n",
       "  2285.12,1487.47 2285.12,47.2441 \n",
       "  \"/>\n",
       "<polyline clip-path=\"url(#clip8102)\" style=\"stroke:#000000; stroke-width:2; stroke-opacity:0.1; fill:none\" points=\"\n",
       "  167.279,1446.71 2352.76,1446.71 \n",
       "  \"/>\n",
       "<polyline clip-path=\"url(#clip8102)\" style=\"stroke:#000000; stroke-width:2; stroke-opacity:0.1; fill:none\" points=\"\n",
       "  167.279,1132.92 2352.76,1132.92 \n",
       "  \"/>\n",
       "<polyline clip-path=\"url(#clip8102)\" style=\"stroke:#000000; stroke-width:2; stroke-opacity:0.1; fill:none\" points=\"\n",
       "  167.279,819.135 2352.76,819.135 \n",
       "  \"/>\n",
       "<polyline clip-path=\"url(#clip8102)\" style=\"stroke:#000000; stroke-width:2; stroke-opacity:0.1; fill:none\" points=\"\n",
       "  167.279,505.345 2352.76,505.345 \n",
       "  \"/>\n",
       "<polyline clip-path=\"url(#clip8102)\" style=\"stroke:#000000; stroke-width:2; stroke-opacity:0.1; fill:none\" points=\"\n",
       "  167.279,191.556 2352.76,191.556 \n",
       "  \"/>\n",
       "<polyline clip-path=\"url(#clip8100)\" style=\"stroke:#000000; stroke-width:4; stroke-opacity:1; fill:none\" points=\"\n",
       "  167.279,1487.47 2352.76,1487.47 \n",
       "  \"/>\n",
       "<polyline clip-path=\"url(#clip8100)\" style=\"stroke:#000000; stroke-width:4; stroke-opacity:1; fill:none\" points=\"\n",
       "  167.279,1487.47 167.279,47.2441 \n",
       "  \"/>\n",
       "<polyline clip-path=\"url(#clip8100)\" style=\"stroke:#000000; stroke-width:4; stroke-opacity:1; fill:none\" points=\"\n",
       "  182.346,1487.47 182.346,1465.87 \n",
       "  \"/>\n",
       "<polyline clip-path=\"url(#clip8100)\" style=\"stroke:#000000; stroke-width:4; stroke-opacity:1; fill:none\" points=\"\n",
       "  708.039,1487.47 708.039,1465.87 \n",
       "  \"/>\n",
       "<polyline clip-path=\"url(#clip8100)\" style=\"stroke:#000000; stroke-width:4; stroke-opacity:1; fill:none\" points=\"\n",
       "  1233.73,1487.47 1233.73,1465.87 \n",
       "  \"/>\n",
       "<polyline clip-path=\"url(#clip8100)\" style=\"stroke:#000000; stroke-width:4; stroke-opacity:1; fill:none\" points=\"\n",
       "  1759.43,1487.47 1759.43,1465.87 \n",
       "  \"/>\n",
       "<polyline clip-path=\"url(#clip8100)\" style=\"stroke:#000000; stroke-width:4; stroke-opacity:1; fill:none\" points=\"\n",
       "  2285.12,1487.47 2285.12,1465.87 \n",
       "  \"/>\n",
       "<polyline clip-path=\"url(#clip8100)\" style=\"stroke:#000000; stroke-width:4; stroke-opacity:1; fill:none\" points=\"\n",
       "  167.279,1446.71 200.061,1446.71 \n",
       "  \"/>\n",
       "<polyline clip-path=\"url(#clip8100)\" style=\"stroke:#000000; stroke-width:4; stroke-opacity:1; fill:none\" points=\"\n",
       "  167.279,1132.92 200.061,1132.92 \n",
       "  \"/>\n",
       "<polyline clip-path=\"url(#clip8100)\" style=\"stroke:#000000; stroke-width:4; stroke-opacity:1; fill:none\" points=\"\n",
       "  167.279,819.135 200.061,819.135 \n",
       "  \"/>\n",
       "<polyline clip-path=\"url(#clip8100)\" style=\"stroke:#000000; stroke-width:4; stroke-opacity:1; fill:none\" points=\"\n",
       "  167.279,505.345 200.061,505.345 \n",
       "  \"/>\n",
       "<polyline clip-path=\"url(#clip8100)\" style=\"stroke:#000000; stroke-width:4; stroke-opacity:1; fill:none\" points=\"\n",
       "  167.279,191.556 200.061,191.556 \n",
       "  \"/>\n",
       "<g clip-path=\"url(#clip8100)\">\n",
       "<text style=\"fill:#000000; fill-opacity:1; font-family:Arial,Helvetica Neue,Helvetica,sans-serif; font-size:48px; text-anchor:middle;\" transform=\"rotate(0, 182.346, 1541.47)\" x=\"182.346\" y=\"1541.47\">-4</text>\n",
       "</g>\n",
       "<g clip-path=\"url(#clip8100)\">\n",
       "<text style=\"fill:#000000; fill-opacity:1; font-family:Arial,Helvetica Neue,Helvetica,sans-serif; font-size:48px; text-anchor:middle;\" transform=\"rotate(0, 708.039, 1541.47)\" x=\"708.039\" y=\"1541.47\">-2</text>\n",
       "</g>\n",
       "<g clip-path=\"url(#clip8100)\">\n",
       "<text style=\"fill:#000000; fill-opacity:1; font-family:Arial,Helvetica Neue,Helvetica,sans-serif; font-size:48px; text-anchor:middle;\" transform=\"rotate(0, 1233.73, 1541.47)\" x=\"1233.73\" y=\"1541.47\">0</text>\n",
       "</g>\n",
       "<g clip-path=\"url(#clip8100)\">\n",
       "<text style=\"fill:#000000; fill-opacity:1; font-family:Arial,Helvetica Neue,Helvetica,sans-serif; font-size:48px; text-anchor:middle;\" transform=\"rotate(0, 1759.43, 1541.47)\" x=\"1759.43\" y=\"1541.47\">2</text>\n",
       "</g>\n",
       "<g clip-path=\"url(#clip8100)\">\n",
       "<text style=\"fill:#000000; fill-opacity:1; font-family:Arial,Helvetica Neue,Helvetica,sans-serif; font-size:48px; text-anchor:middle;\" transform=\"rotate(0, 2285.12, 1541.47)\" x=\"2285.12\" y=\"1541.47\">4</text>\n",
       "</g>\n",
       "<g clip-path=\"url(#clip8100)\">\n",
       "<text style=\"fill:#000000; fill-opacity:1; font-family:Arial,Helvetica Neue,Helvetica,sans-serif; font-size:48px; text-anchor:end;\" transform=\"rotate(0, 143.279, 1464.21)\" x=\"143.279\" y=\"1464.21\">0</text>\n",
       "</g>\n",
       "<g clip-path=\"url(#clip8100)\">\n",
       "<text style=\"fill:#000000; fill-opacity:1; font-family:Arial,Helvetica Neue,Helvetica,sans-serif; font-size:48px; text-anchor:end;\" transform=\"rotate(0, 143.279, 1150.42)\" x=\"143.279\" y=\"1150.42\">200</text>\n",
       "</g>\n",
       "<g clip-path=\"url(#clip8100)\">\n",
       "<text style=\"fill:#000000; fill-opacity:1; font-family:Arial,Helvetica Neue,Helvetica,sans-serif; font-size:48px; text-anchor:end;\" transform=\"rotate(0, 143.279, 836.635)\" x=\"143.279\" y=\"836.635\">400</text>\n",
       "</g>\n",
       "<g clip-path=\"url(#clip8100)\">\n",
       "<text style=\"fill:#000000; fill-opacity:1; font-family:Arial,Helvetica Neue,Helvetica,sans-serif; font-size:48px; text-anchor:end;\" transform=\"rotate(0, 143.279, 522.845)\" x=\"143.279\" y=\"522.845\">600</text>\n",
       "</g>\n",
       "<g clip-path=\"url(#clip8100)\">\n",
       "<text style=\"fill:#000000; fill-opacity:1; font-family:Arial,Helvetica Neue,Helvetica,sans-serif; font-size:48px; text-anchor:end;\" transform=\"rotate(0, 143.279, 209.056)\" x=\"143.279\" y=\"209.056\">800</text>\n",
       "</g>\n",
       "<path clip-path=\"url(#clip8102)\" d=\"\n",
       "M287.484 1440.44 L287.484 1446.71 L340.054 1446.71 L340.054 1440.44 L287.484 1440.44 L287.484 1440.44  Z\n",
       "  \" fill=\"#009af9\" fill-rule=\"evenodd\" fill-opacity=\"1\"/>\n",
       "<polyline clip-path=\"url(#clip8102)\" style=\"stroke:#000000; stroke-width:4; stroke-opacity:1; fill:none\" points=\"\n",
       "  287.484,1440.44 287.484,1446.71 340.054,1446.71 340.054,1440.44 287.484,1440.44 \n",
       "  \"/>\n",
       "<path clip-path=\"url(#clip8102)\" d=\"\n",
       "M340.054 1435.73 L340.054 1446.71 L392.623 1446.71 L392.623 1435.73 L340.054 1435.73 L340.054 1435.73  Z\n",
       "  \" fill=\"#009af9\" fill-rule=\"evenodd\" fill-opacity=\"1\"/>\n",
       "<polyline clip-path=\"url(#clip8102)\" style=\"stroke:#000000; stroke-width:4; stroke-opacity:1; fill:none\" points=\"\n",
       "  340.054,1435.73 340.054,1446.71 392.623,1446.71 392.623,1435.73 340.054,1435.73 \n",
       "  \"/>\n",
       "<path clip-path=\"url(#clip8102)\" d=\"\n",
       "M392.623 1435.73 L392.623 1446.71 L445.192 1446.71 L445.192 1435.73 L392.623 1435.73 L392.623 1435.73  Z\n",
       "  \" fill=\"#009af9\" fill-rule=\"evenodd\" fill-opacity=\"1\"/>\n",
       "<polyline clip-path=\"url(#clip8102)\" style=\"stroke:#000000; stroke-width:4; stroke-opacity:1; fill:none\" points=\"\n",
       "  392.623,1435.73 392.623,1446.71 445.192,1446.71 445.192,1435.73 392.623,1435.73 \n",
       "  \"/>\n",
       "<path clip-path=\"url(#clip8102)\" d=\"\n",
       "M445.192 1431.02 L445.192 1446.71 L497.762 1446.71 L497.762 1431.02 L445.192 1431.02 L445.192 1431.02  Z\n",
       "  \" fill=\"#009af9\" fill-rule=\"evenodd\" fill-opacity=\"1\"/>\n",
       "<polyline clip-path=\"url(#clip8102)\" style=\"stroke:#000000; stroke-width:4; stroke-opacity:1; fill:none\" points=\"\n",
       "  445.192,1431.02 445.192,1446.71 497.762,1446.71 497.762,1431.02 445.192,1431.02 \n",
       "  \"/>\n",
       "<path clip-path=\"url(#clip8102)\" d=\"\n",
       "M497.762 1420.04 L497.762 1446.71 L550.331 1446.71 L550.331 1420.04 L497.762 1420.04 L497.762 1420.04  Z\n",
       "  \" fill=\"#009af9\" fill-rule=\"evenodd\" fill-opacity=\"1\"/>\n",
       "<polyline clip-path=\"url(#clip8102)\" style=\"stroke:#000000; stroke-width:4; stroke-opacity:1; fill:none\" points=\"\n",
       "  497.762,1420.04 497.762,1446.71 550.331,1446.71 550.331,1420.04 497.762,1420.04 \n",
       "  \"/>\n",
       "<path clip-path=\"url(#clip8102)\" d=\"\n",
       "M550.331 1388.66 L550.331 1446.71 L602.9 1446.71 L602.9 1388.66 L550.331 1388.66 L550.331 1388.66  Z\n",
       "  \" fill=\"#009af9\" fill-rule=\"evenodd\" fill-opacity=\"1\"/>\n",
       "<polyline clip-path=\"url(#clip8102)\" style=\"stroke:#000000; stroke-width:4; stroke-opacity:1; fill:none\" points=\"\n",
       "  550.331,1388.66 550.331,1446.71 602.9,1446.71 602.9,1388.66 550.331,1388.66 \n",
       "  \"/>\n",
       "<path clip-path=\"url(#clip8102)\" d=\"\n",
       "M602.9 1341.59 L602.9 1446.71 L655.47 1446.71 L655.47 1341.59 L602.9 1341.59 L602.9 1341.59  Z\n",
       "  \" fill=\"#009af9\" fill-rule=\"evenodd\" fill-opacity=\"1\"/>\n",
       "<polyline clip-path=\"url(#clip8102)\" style=\"stroke:#000000; stroke-width:4; stroke-opacity:1; fill:none\" points=\"\n",
       "  602.9,1341.59 602.9,1446.71 655.47,1446.71 655.47,1341.59 602.9,1341.59 \n",
       "  \"/>\n",
       "<path clip-path=\"url(#clip8102)\" d=\"\n",
       "M655.47 1297.66 L655.47 1446.71 L708.039 1446.71 L708.039 1297.66 L655.47 1297.66 L655.47 1297.66  Z\n",
       "  \" fill=\"#009af9\" fill-rule=\"evenodd\" fill-opacity=\"1\"/>\n",
       "<polyline clip-path=\"url(#clip8102)\" style=\"stroke:#000000; stroke-width:4; stroke-opacity:1; fill:none\" points=\"\n",
       "  655.47,1297.66 655.47,1446.71 708.039,1446.71 708.039,1297.66 655.47,1297.66 \n",
       "  \"/>\n",
       "<path clip-path=\"url(#clip8102)\" d=\"\n",
       "M708.039 1217.65 L708.039 1446.71 L760.609 1446.71 L760.609 1217.65 L708.039 1217.65 L708.039 1217.65  Z\n",
       "  \" fill=\"#009af9\" fill-rule=\"evenodd\" fill-opacity=\"1\"/>\n",
       "<polyline clip-path=\"url(#clip8102)\" style=\"stroke:#000000; stroke-width:4; stroke-opacity:1; fill:none\" points=\"\n",
       "  708.039,1217.65 708.039,1446.71 760.609,1446.71 760.609,1217.65 708.039,1217.65 \n",
       "  \"/>\n",
       "<path clip-path=\"url(#clip8102)\" d=\"\n",
       "M760.609 1154.89 L760.609 1446.71 L813.178 1446.71 L813.178 1154.89 L760.609 1154.89 L760.609 1154.89  Z\n",
       "  \" fill=\"#009af9\" fill-rule=\"evenodd\" fill-opacity=\"1\"/>\n",
       "<polyline clip-path=\"url(#clip8102)\" style=\"stroke:#000000; stroke-width:4; stroke-opacity:1; fill:none\" points=\"\n",
       "  760.609,1154.89 760.609,1446.71 813.178,1446.71 813.178,1154.89 760.609,1154.89 \n",
       "  \"/>\n",
       "<path clip-path=\"url(#clip8102)\" d=\"\n",
       "M813.178 1035.65 L813.178 1446.71 L865.747 1446.71 L865.747 1035.65 L813.178 1035.65 L813.178 1035.65  Z\n",
       "  \" fill=\"#009af9\" fill-rule=\"evenodd\" fill-opacity=\"1\"/>\n",
       "<polyline clip-path=\"url(#clip8102)\" style=\"stroke:#000000; stroke-width:4; stroke-opacity:1; fill:none\" points=\"\n",
       "  813.178,1035.65 813.178,1446.71 865.747,1446.71 865.747,1035.65 813.178,1035.65 \n",
       "  \"/>\n",
       "<path clip-path=\"url(#clip8102)\" d=\"\n",
       "M865.747 943.081 L865.747 1446.71 L918.317 1446.71 L918.317 943.081 L865.747 943.081 L865.747 943.081  Z\n",
       "  \" fill=\"#009af9\" fill-rule=\"evenodd\" fill-opacity=\"1\"/>\n",
       "<polyline clip-path=\"url(#clip8102)\" style=\"stroke:#000000; stroke-width:4; stroke-opacity:1; fill:none\" points=\"\n",
       "  865.747,943.081 865.747,1446.71 918.317,1446.71 918.317,943.081 865.747,943.081 \n",
       "  \"/>\n",
       "<path clip-path=\"url(#clip8102)\" d=\"\n",
       "M918.317 776.773 L918.317 1446.71 L970.886 1446.71 L970.886 776.773 L918.317 776.773 L918.317 776.773  Z\n",
       "  \" fill=\"#009af9\" fill-rule=\"evenodd\" fill-opacity=\"1\"/>\n",
       "<polyline clip-path=\"url(#clip8102)\" style=\"stroke:#000000; stroke-width:4; stroke-opacity:1; fill:none\" points=\"\n",
       "  918.317,776.773 918.317,1446.71 970.886,1446.71 970.886,776.773 918.317,776.773 \n",
       "  \"/>\n",
       "<path clip-path=\"url(#clip8102)\" d=\"\n",
       "M970.886 605.758 L970.886 1446.71 L1023.46 1446.71 L1023.46 605.758 L970.886 605.758 L970.886 605.758  Z\n",
       "  \" fill=\"#009af9\" fill-rule=\"evenodd\" fill-opacity=\"1\"/>\n",
       "<polyline clip-path=\"url(#clip8102)\" style=\"stroke:#000000; stroke-width:4; stroke-opacity:1; fill:none\" points=\"\n",
       "  970.886,605.758 970.886,1446.71 1023.46,1446.71 1023.46,605.758 970.886,605.758 \n",
       "  \"/>\n",
       "<path clip-path=\"url(#clip8102)\" d=\"\n",
       "M1023.46 491.225 L1023.46 1446.71 L1076.02 1446.71 L1076.02 491.225 L1023.46 491.225 L1023.46 491.225  Z\n",
       "  \" fill=\"#009af9\" fill-rule=\"evenodd\" fill-opacity=\"1\"/>\n",
       "<polyline clip-path=\"url(#clip8102)\" style=\"stroke:#000000; stroke-width:4; stroke-opacity:1; fill:none\" points=\"\n",
       "  1023.46,491.225 1023.46,1446.71 1076.02,1446.71 1076.02,491.225 1023.46,491.225 \n",
       "  \"/>\n",
       "<path clip-path=\"url(#clip8102)\" d=\"\n",
       "M1076.02 397.088 L1076.02 1446.71 L1128.59 1446.71 L1128.59 397.088 L1076.02 397.088 L1076.02 397.088  Z\n",
       "  \" fill=\"#009af9\" fill-rule=\"evenodd\" fill-opacity=\"1\"/>\n",
       "<polyline clip-path=\"url(#clip8102)\" style=\"stroke:#000000; stroke-width:4; stroke-opacity:1; fill:none\" points=\"\n",
       "  1076.02,397.088 1076.02,1446.71 1128.59,1446.71 1128.59,397.088 1076.02,397.088 \n",
       "  \"/>\n",
       "<path clip-path=\"url(#clip8102)\" d=\"\n",
       "M1128.59 221.366 L1128.59 1446.71 L1181.16 1446.71 L1181.16 221.366 L1128.59 221.366 L1128.59 221.366  Z\n",
       "  \" fill=\"#009af9\" fill-rule=\"evenodd\" fill-opacity=\"1\"/>\n",
       "<polyline clip-path=\"url(#clip8102)\" style=\"stroke:#000000; stroke-width:4; stroke-opacity:1; fill:none\" points=\"\n",
       "  1128.59,221.366 1128.59,1446.71 1181.16,1446.71 1181.16,221.366 1128.59,221.366 \n",
       "  \"/>\n",
       "<path clip-path=\"url(#clip8102)\" d=\"\n",
       "M1181.16 166.453 L1181.16 1446.71 L1233.73 1446.71 L1233.73 166.453 L1181.16 166.453 L1181.16 166.453  Z\n",
       "  \" fill=\"#009af9\" fill-rule=\"evenodd\" fill-opacity=\"1\"/>\n",
       "<polyline clip-path=\"url(#clip8102)\" style=\"stroke:#000000; stroke-width:4; stroke-opacity:1; fill:none\" points=\"\n",
       "  1181.16,166.453 1181.16,1446.71 1233.73,1446.71 1233.73,166.453 1181.16,166.453 \n",
       "  \"/>\n",
       "<path clip-path=\"url(#clip8102)\" d=\"\n",
       "M1233.73 88.0053 L1233.73 1446.71 L1286.3 1446.71 L1286.3 88.0053 L1233.73 88.0053 L1233.73 88.0053  Z\n",
       "  \" fill=\"#009af9\" fill-rule=\"evenodd\" fill-opacity=\"1\"/>\n",
       "<polyline clip-path=\"url(#clip8102)\" style=\"stroke:#000000; stroke-width:4; stroke-opacity:1; fill:none\" points=\"\n",
       "  1233.73,88.0053 1233.73,1446.71 1286.3,1446.71 1286.3,88.0053 1233.73,88.0053 \n",
       "  \"/>\n",
       "<path clip-path=\"url(#clip8102)\" d=\"\n",
       "M1286.3 273.141 L1286.3 1446.71 L1338.87 1446.71 L1338.87 273.141 L1286.3 273.141 L1286.3 273.141  Z\n",
       "  \" fill=\"#009af9\" fill-rule=\"evenodd\" fill-opacity=\"1\"/>\n",
       "<polyline clip-path=\"url(#clip8102)\" style=\"stroke:#000000; stroke-width:4; stroke-opacity:1; fill:none\" points=\"\n",
       "  1286.3,273.141 1286.3,1446.71 1338.87,1446.71 1338.87,273.141 1286.3,273.141 \n",
       "  \"/>\n",
       "<path clip-path=\"url(#clip8102)\" d=\"\n",
       "M1338.87 337.468 L1338.87 1446.71 L1391.44 1446.71 L1391.44 337.468 L1338.87 337.468 L1338.87 337.468  Z\n",
       "  \" fill=\"#009af9\" fill-rule=\"evenodd\" fill-opacity=\"1\"/>\n",
       "<polyline clip-path=\"url(#clip8102)\" style=\"stroke:#000000; stroke-width:4; stroke-opacity:1; fill:none\" points=\"\n",
       "  1338.87,337.468 1338.87,1446.71 1391.44,1446.71 1391.44,337.468 1338.87,337.468 \n",
       "  \"/>\n",
       "<path clip-path=\"url(#clip8102)\" d=\"\n",
       "M1391.44 500.638 L1391.44 1446.71 L1444.01 1446.71 L1444.01 500.638 L1391.44 500.638 L1391.44 500.638  Z\n",
       "  \" fill=\"#009af9\" fill-rule=\"evenodd\" fill-opacity=\"1\"/>\n",
       "<polyline clip-path=\"url(#clip8102)\" style=\"stroke:#000000; stroke-width:4; stroke-opacity:1; fill:none\" points=\"\n",
       "  1391.44,500.638 1391.44,1446.71 1444.01,1446.71 1444.01,500.638 1391.44,500.638 \n",
       "  \"/>\n",
       "<path clip-path=\"url(#clip8102)\" d=\"\n",
       "M1444.01 616.74 L1444.01 1446.71 L1496.58 1446.71 L1496.58 616.74 L1444.01 616.74 L1444.01 616.74  Z\n",
       "  \" fill=\"#009af9\" fill-rule=\"evenodd\" fill-opacity=\"1\"/>\n",
       "<polyline clip-path=\"url(#clip8102)\" style=\"stroke:#000000; stroke-width:4; stroke-opacity:1; fill:none\" points=\"\n",
       "  1444.01,616.74 1444.01,1446.71 1496.58,1446.71 1496.58,616.74 1444.01,616.74 \n",
       "  \"/>\n",
       "<path clip-path=\"url(#clip8102)\" d=\"\n",
       "M1496.58 825.41 L1496.58 1446.71 L1549.15 1446.71 L1549.15 825.41 L1496.58 825.41 L1496.58 825.41  Z\n",
       "  \" fill=\"#009af9\" fill-rule=\"evenodd\" fill-opacity=\"1\"/>\n",
       "<polyline clip-path=\"url(#clip8102)\" style=\"stroke:#000000; stroke-width:4; stroke-opacity:1; fill:none\" points=\"\n",
       "  1496.58,825.41 1496.58,1446.71 1549.15,1446.71 1549.15,825.41 1496.58,825.41 \n",
       "  \"/>\n",
       "<path clip-path=\"url(#clip8102)\" d=\"\n",
       "M1549.15 933.668 L1549.15 1446.71 L1601.72 1446.71 L1601.72 933.668 L1549.15 933.668 L1549.15 933.668  Z\n",
       "  \" fill=\"#009af9\" fill-rule=\"evenodd\" fill-opacity=\"1\"/>\n",
       "<polyline clip-path=\"url(#clip8102)\" style=\"stroke:#000000; stroke-width:4; stroke-opacity:1; fill:none\" points=\"\n",
       "  1549.15,933.668 1549.15,1446.71 1601.72,1446.71 1601.72,933.668 1549.15,933.668 \n",
       "  \"/>\n",
       "<path clip-path=\"url(#clip8102)\" d=\"\n",
       "M1601.72 1045.06 L1601.72 1446.71 L1654.29 1446.71 L1654.29 1045.06 L1601.72 1045.06 L1601.72 1045.06  Z\n",
       "  \" fill=\"#009af9\" fill-rule=\"evenodd\" fill-opacity=\"1\"/>\n",
       "<polyline clip-path=\"url(#clip8102)\" style=\"stroke:#000000; stroke-width:4; stroke-opacity:1; fill:none\" points=\"\n",
       "  1601.72,1045.06 1601.72,1446.71 1654.29,1446.71 1654.29,1045.06 1601.72,1045.06 \n",
       "  \"/>\n",
       "<path clip-path=\"url(#clip8102)\" d=\"\n",
       "M1654.29 1131.36 L1654.29 1446.71 L1706.86 1446.71 L1706.86 1131.36 L1654.29 1131.36 L1654.29 1131.36  Z\n",
       "  \" fill=\"#009af9\" fill-rule=\"evenodd\" fill-opacity=\"1\"/>\n",
       "<polyline clip-path=\"url(#clip8102)\" style=\"stroke:#000000; stroke-width:4; stroke-opacity:1; fill:none\" points=\"\n",
       "  1654.29,1131.36 1654.29,1446.71 1706.86,1446.71 1706.86,1131.36 1654.29,1131.36 \n",
       "  \"/>\n",
       "<path clip-path=\"url(#clip8102)\" d=\"\n",
       "M1706.86 1236.47 L1706.86 1446.71 L1759.43 1446.71 L1759.43 1236.47 L1706.86 1236.47 L1706.86 1236.47  Z\n",
       "  \" fill=\"#009af9\" fill-rule=\"evenodd\" fill-opacity=\"1\"/>\n",
       "<polyline clip-path=\"url(#clip8102)\" style=\"stroke:#000000; stroke-width:4; stroke-opacity:1; fill:none\" points=\"\n",
       "  1706.86,1236.47 1706.86,1446.71 1759.43,1446.71 1759.43,1236.47 1706.86,1236.47 \n",
       "  \"/>\n",
       "<path clip-path=\"url(#clip8102)\" d=\"\n",
       "M1759.43 1308.65 L1759.43 1446.71 L1812 1446.71 L1812 1308.65 L1759.43 1308.65 L1759.43 1308.65  Z\n",
       "  \" fill=\"#009af9\" fill-rule=\"evenodd\" fill-opacity=\"1\"/>\n",
       "<polyline clip-path=\"url(#clip8102)\" style=\"stroke:#000000; stroke-width:4; stroke-opacity:1; fill:none\" points=\"\n",
       "  1759.43,1308.65 1759.43,1446.71 1812,1446.71 1812,1308.65 1759.43,1308.65 \n",
       "  \"/>\n",
       "<path clip-path=\"url(#clip8102)\" d=\"\n",
       "M1812 1351.01 L1812 1446.71 L1864.57 1446.71 L1864.57 1351.01 L1812 1351.01 L1812 1351.01  Z\n",
       "  \" fill=\"#009af9\" fill-rule=\"evenodd\" fill-opacity=\"1\"/>\n",
       "<polyline clip-path=\"url(#clip8102)\" style=\"stroke:#000000; stroke-width:4; stroke-opacity:1; fill:none\" points=\"\n",
       "  1812,1351.01 1812,1446.71 1864.57,1446.71 1864.57,1351.01 1812,1351.01 \n",
       "  \"/>\n",
       "<path clip-path=\"url(#clip8102)\" d=\"\n",
       "M1864.57 1385.52 L1864.57 1446.71 L1917.13 1446.71 L1917.13 1385.52 L1864.57 1385.52 L1864.57 1385.52  Z\n",
       "  \" fill=\"#009af9\" fill-rule=\"evenodd\" fill-opacity=\"1\"/>\n",
       "<polyline clip-path=\"url(#clip8102)\" style=\"stroke:#000000; stroke-width:4; stroke-opacity:1; fill:none\" points=\"\n",
       "  1864.57,1385.52 1864.57,1446.71 1917.13,1446.71 1917.13,1385.52 1864.57,1385.52 \n",
       "  \"/>\n",
       "<path clip-path=\"url(#clip8102)\" d=\"\n",
       "M1917.13 1418.47 L1917.13 1446.71 L1969.7 1446.71 L1969.7 1418.47 L1917.13 1418.47 L1917.13 1418.47  Z\n",
       "  \" fill=\"#009af9\" fill-rule=\"evenodd\" fill-opacity=\"1\"/>\n",
       "<polyline clip-path=\"url(#clip8102)\" style=\"stroke:#000000; stroke-width:4; stroke-opacity:1; fill:none\" points=\"\n",
       "  1917.13,1418.47 1917.13,1446.71 1969.7,1446.71 1969.7,1418.47 1917.13,1418.47 \n",
       "  \"/>\n",
       "<path clip-path=\"url(#clip8102)\" d=\"\n",
       "M1969.7 1423.18 L1969.7 1446.71 L2022.27 1446.71 L2022.27 1423.18 L1969.7 1423.18 L1969.7 1423.18  Z\n",
       "  \" fill=\"#009af9\" fill-rule=\"evenodd\" fill-opacity=\"1\"/>\n",
       "<polyline clip-path=\"url(#clip8102)\" style=\"stroke:#000000; stroke-width:4; stroke-opacity:1; fill:none\" points=\"\n",
       "  1969.7,1423.18 1969.7,1446.71 2022.27,1446.71 2022.27,1423.18 1969.7,1423.18 \n",
       "  \"/>\n",
       "<path clip-path=\"url(#clip8102)\" d=\"\n",
       "M2022.27 1434.16 L2022.27 1446.71 L2074.84 1446.71 L2074.84 1434.16 L2022.27 1434.16 L2022.27 1434.16  Z\n",
       "  \" fill=\"#009af9\" fill-rule=\"evenodd\" fill-opacity=\"1\"/>\n",
       "<polyline clip-path=\"url(#clip8102)\" style=\"stroke:#000000; stroke-width:4; stroke-opacity:1; fill:none\" points=\"\n",
       "  2022.27,1434.16 2022.27,1446.71 2074.84,1446.71 2074.84,1434.16 2022.27,1434.16 \n",
       "  \"/>\n",
       "<path clip-path=\"url(#clip8102)\" d=\"\n",
       "M2074.84 1443.58 L2074.84 1446.71 L2127.41 1446.71 L2127.41 1443.58 L2074.84 1443.58 L2074.84 1443.58  Z\n",
       "  \" fill=\"#009af9\" fill-rule=\"evenodd\" fill-opacity=\"1\"/>\n",
       "<polyline clip-path=\"url(#clip8102)\" style=\"stroke:#000000; stroke-width:4; stroke-opacity:1; fill:none\" points=\"\n",
       "  2074.84,1443.58 2074.84,1446.71 2127.41,1446.71 2127.41,1443.58 2074.84,1443.58 \n",
       "  \"/>\n",
       "<path clip-path=\"url(#clip8102)\" d=\"\n",
       "M2127.41 1440.44 L2127.41 1446.71 L2179.98 1446.71 L2179.98 1440.44 L2127.41 1440.44 L2127.41 1440.44  Z\n",
       "  \" fill=\"#009af9\" fill-rule=\"evenodd\" fill-opacity=\"1\"/>\n",
       "<polyline clip-path=\"url(#clip8102)\" style=\"stroke:#000000; stroke-width:4; stroke-opacity:1; fill:none\" points=\"\n",
       "  2127.41,1440.44 2127.41,1446.71 2179.98,1446.71 2179.98,1440.44 2127.41,1440.44 \n",
       "  \"/>\n",
       "<path clip-path=\"url(#clip8102)\" d=\"\n",
       "M2179.98 1445.14 L2179.98 1446.71 L2232.55 1446.71 L2232.55 1445.14 L2179.98 1445.14 L2179.98 1445.14  Z\n",
       "  \" fill=\"#009af9\" fill-rule=\"evenodd\" fill-opacity=\"1\"/>\n",
       "<polyline clip-path=\"url(#clip8102)\" style=\"stroke:#000000; stroke-width:4; stroke-opacity:1; fill:none\" points=\"\n",
       "  2179.98,1445.14 2179.98,1446.71 2232.55,1446.71 2232.55,1445.14 2179.98,1445.14 \n",
       "  \"/>\n",
       "<path clip-path=\"url(#clip8100)\" d=\"\n",
       "M1989.93 251.724 L2280.76 251.724 L2280.76 130.764 L1989.93 130.764  Z\n",
       "  \" fill=\"#ffffff\" fill-rule=\"evenodd\" fill-opacity=\"1\"/>\n",
       "<polyline clip-path=\"url(#clip8100)\" style=\"stroke:#000000; stroke-width:4; stroke-opacity:1; fill:none\" points=\"\n",
       "  1989.93,251.724 2280.76,251.724 2280.76,130.764 1989.93,130.764 1989.93,251.724 \n",
       "  \"/>\n",
       "<path clip-path=\"url(#clip8100)\" d=\"\n",
       "M2013.93 215.436 L2157.93 215.436 L2157.93 167.052 L2013.93 167.052 L2013.93 215.436  Z\n",
       "  \" fill=\"#009af9\" fill-rule=\"evenodd\" fill-opacity=\"1\"/>\n",
       "<polyline clip-path=\"url(#clip8100)\" style=\"stroke:#000000; stroke-width:4; stroke-opacity:1; fill:none\" points=\"\n",
       "  2013.93,215.436 2157.93,215.436 2157.93,167.052 2013.93,167.052 2013.93,215.436 \n",
       "  \"/>\n",
       "<g clip-path=\"url(#clip8100)\">\n",
       "<text style=\"fill:#000000; fill-opacity:1; font-family:Arial,Helvetica Neue,Helvetica,sans-serif; font-size:48px; text-anchor:start;\" transform=\"rotate(0, 2181.93, 208.744)\" x=\"2181.93\" y=\"208.744\">y1</text>\n",
       "</g>\n",
       "</svg>\n"
      ]
     },
     "execution_count": 11,
     "metadata": {},
     "output_type": "execute_result"
    }
   ],
   "source": [
    "pyplot()\n",
    "histogram(randn(10000))"
   ]
  },
  {
   "cell_type": "code",
   "execution_count": 62,
   "metadata": {
    "slideshow": {
     "slide_type": "skip"
    }
   },
   "outputs": [
    {
     "data": {
      "text/plain": [
       "WeakRefStrings.StringArray{String,1}"
      ]
     },
     "execution_count": 62,
     "metadata": {},
     "output_type": "execute_result"
    }
   ],
   "source": [
    "typeof(x[!,28])"
   ]
  },
  {
   "cell_type": "code",
   "execution_count": 12,
   "metadata": {
    "slideshow": {
     "slide_type": "skip"
    }
   },
   "outputs": [
    {
     "data": {
      "text/plain": [
       "\"180\""
      ]
     },
     "execution_count": 12,
     "metadata": {},
     "output_type": "execute_result"
    }
   ],
   "source": [
    "y = x[2,28]"
   ]
  },
  {
   "cell_type": "code",
   "execution_count": 13,
   "metadata": {
    "slideshow": {
     "slide_type": "skip"
    }
   },
   "outputs": [
    {
     "data": {
      "text/plain": [
       "String"
      ]
     },
     "execution_count": 13,
     "metadata": {},
     "output_type": "execute_result"
    }
   ],
   "source": [
    "typeof(y)"
   ]
  },
  {
   "cell_type": "code",
   "execution_count": 14,
   "metadata": {
    "slideshow": {
     "slide_type": "skip"
    }
   },
   "outputs": [
    {
     "data": {
      "text/plain": [
       "180.0"
      ]
     },
     "execution_count": 14,
     "metadata": {},
     "output_type": "execute_result"
    }
   ],
   "source": [
    "y1 = parse(Float64, x[2,28])"
   ]
  },
  {
   "cell_type": "code",
   "execution_count": 15,
   "metadata": {
    "slideshow": {
     "slide_type": "skip"
    }
   },
   "outputs": [
    {
     "data": {
      "text/plain": [
       "Float64"
      ]
     },
     "execution_count": 15,
     "metadata": {},
     "output_type": "execute_result"
    }
   ],
   "source": [
    "typeof(y1)"
   ]
  },
  {
   "cell_type": "code",
   "execution_count": 8,
   "metadata": {
    "slideshow": {
     "slide_type": "skip"
    }
   },
   "outputs": [
    {
     "data": {
      "text/plain": [
       "7115-element Array{Union{Missing, String},1}:\n",
       " \"170\"\n",
       " \"180\"\n",
       " \"190\"\n",
       " \"200\"\n",
       " \"210\"\n",
       " \"220\"\n",
       " \"230\"\n",
       " \"240\"\n",
       " \"250\"\n",
       " \"260\"\n",
       " \"270\"\n",
       " \"280\"\n",
       " \"290\"\n",
       " ⋮    \n",
       " \"330\"\n",
       " \"340\"\n",
       " \"350\"\n",
       " \"360\"\n",
       " \"370\"\n",
       " \"380\"\n",
       " \"390\"\n",
       " \"400\"\n",
       " \"410\"\n",
       " \"420\"\n",
       " \"430\"\n",
       " \"440\""
      ]
     },
     "execution_count": 8,
     "metadata": {},
     "output_type": "execute_result"
    }
   ],
   "source": [
    "x1 = recode(x[!,28], \"NA\"=> missing)"
   ]
  },
  {
   "cell_type": "code",
   "execution_count": 9,
   "metadata": {
    "slideshow": {
     "slide_type": "skip"
    }
   },
   "outputs": [
    {
     "data": {
      "text/plain": [
       "4-element Array{Union{Missing, Float64},1}:\n",
       " 2.2     \n",
       " 3.3     \n",
       " 4.4     \n",
       "  missing"
      ]
     },
     "execution_count": 9,
     "metadata": {},
     "output_type": "execute_result"
    }
   ],
   "source": [
    "s = [\"2.2\", \"3.3\", \"4.4\", missing]\n",
    "\n",
    "passmissing(parse).(Float64, s)"
   ]
  },
  {
   "cell_type": "code",
   "execution_count": 10,
   "metadata": {
    "slideshow": {
     "slide_type": "skip"
    }
   },
   "outputs": [
    {
     "data": {
      "text/plain": [
       "(Float64, Union{Missing, String}[\"170\", \"180\", \"190\", \"200\", \"210\", \"220\", \"230\", \"240\", \"250\", \"260\"  …  \"350\", \"360\", \"370\", \"380\", \"390\", \"400\", \"410\", \"420\", \"430\", \"440\"])"
      ]
     },
     "execution_count": 10,
     "metadata": {},
     "output_type": "execute_result"
    }
   ],
   "source": [
    "x3 = (Float64, x1)"
   ]
  },
  {
   "cell_type": "code",
   "execution_count": 68,
   "metadata": {
    "slideshow": {
     "slide_type": "skip"
    }
   },
   "outputs": [
    {
     "data": {
      "text/plain": [
       "Tuple{DataType,Array{Union{Missing, String},1}}"
      ]
     },
     "execution_count": 68,
     "metadata": {},
     "output_type": "execute_result"
    }
   ],
   "source": [
    "typeof(x3)"
   ]
  },
  {
   "cell_type": "code",
   "execution_count": 11,
   "metadata": {
    "slideshow": {
     "slide_type": "skip"
    }
   },
   "outputs": [
    {
     "data": {
      "image/png": "[encoded data removed]"
     },
     "execution_count": 11,
     "metadata": {},
     "output_type": "execute_result"
    }
   ],
   "source": [
    "x[!,28] = (x[!,28].-mean(skipmissing(x[!,28])))./std(skipmissing(x[!,28]));\n",
    "\n",
    "z1 = x[!,28]\n",
    "histogram(z1)"
   ]
  },
  {
   "cell_type": "code",
   "execution_count": null,
   "metadata": {
    "collapsed": true,
    "slideshow": {
     "slide_type": "skip"
    }
   },
   "outputs": [],
   "source": [
    "### Dataframes r"
   ]
  },
  {
   "cell_type": "code",
   "execution_count": null,
   "metadata": {
    "collapsed": true,
    "slideshow": {
     "slide_type": "skip"
    }
   },
   "outputs": [],
   "source": [
    "### Dataframes Octave/Matlab"
   ]
  },
  {
   "cell_type": "markdown",
   "metadata": {
    "slideshow": {
     "slide_type": "skip"
    }
   },
   "source": [
    "## Start simple\n",
    "\n",
    " \n",
    "### Is predator-prey coexistence driven by size-dependent interaction strength? \n",
    "### Which tools do we have to infer the importance of size-dependent interaction strength in driving predator-prey coexistence in one site? And in many sites?\n"
   ]
  },
  {
   "cell_type": "markdown",
   "metadata": {
    "slideshow": {
     "slide_type": "skip"
    }
   },
   "source": [
    "## Tools size-dependent predator-prey interaction strength\n",
    "<img src=\"figures/TradeOffs2.png\" alt=\"drawing\" width=\"750\"/>\n"
   ]
  },
  {
   "cell_type": "markdown",
   "metadata": {
    "collapsed": true,
    "slideshow": {
     "slide_type": "skip"
    }
   },
   "source": [
    "### 1. Tools :: The model-data inference problem: Quantitative or qualitative fitting? \n",
    "### Bayesian inference, priors and posteriors\n",
    " \n",
    "\n",
    "              \n",
    "                              Data\n",
    "                              \n",
    "                       y               n\n",
    "\n",
    "\n",
    "         Prior         1               3\n",
    "      \n",
    "    Model \n",
    "\n",
    "         Posterior     2               4\n",
    "\n",
    "\n",
    "Gadget 1 3\n",
    "SMS 1 2 3\n",
    "SS (Stock synthesis) 1 2 3\n",
    "\n",
    "\n",
    "### 3: Extrapolating predictions from known to unknown data (co-occurrence)\n",
    "### 4: Knowing the position of the vessel but not what the vessel is performing  (define priors with unknown posteriors)\n",
    "\n",
    "\n"
   ]
  },
  {
   "cell_type": "markdown",
   "metadata": {
    "collapsed": true,
    "slideshow": {
     "slide_type": "skip"
    }
   },
   "source": [
    "### 2. Estimating the empirical interaction strength distribution for Cod-flounder class per site\n",
    "\n",
    "## Estimating IS per class-pair ::\n",
    "### interaction matrix per pair of species accounting for size-class\n",
    "\n",
    "$IS_{x_i y_j}^{t}_{k}$ = $f_{x_i y_j}^{t} \\times F_{x_i}^{t} \\times F_{y_j}^{t}$\n",
    "\n",
    "x :: Cod species\n",
    "i :: Cod size-class \n",
    "y :: Flounder species\n",
    "j :: Flounder size-class\n",
    "t :: time\n",
    "k :: sampling site (Trawl haul)\n",
    "\n",
    "\n",
    "LV-type interaction strength\n",
    "ISij = aij x Ni x Nj\n",
    "\n",
    "\n",
    "##### How to use the full potential of the data to estimate size-class-dependent interaction strength? How many interactions deviate from random encounter? (for example, individuals can target preferentially common or rare deviating from random encounter model) How flexible is the foraging behavior? Does it matter to account for rare prey when determining interaction strength? (few prey types account more 95% diet) How far we can go with the exisiting size-classes of common prey in estimating interaction strength? Does it matter for local coexistence? (do individuals switch when preferred preys are rare?) How strong is prey selectivity in the most represented preys in the stomachs? Herring, Sprat, Saduria, Flounder and Cod frequency class data to test the strength of preference; Sonar to estimate population sizes :: Sprat and Herring; Key figure :: cartoon sampling + nested model structure\n",
    "\n",
    "\n",
    "### Three broad categories of prey selectivity\n",
    "\n",
    "#### Random encounter\n",
    "#### Preferential selectivity\n",
    "#### Avoidance \n",
    "\n",
    "\n",
    "### Connecting selectivity categories with geography ::\n",
    "##### Expectation: Most common prey rapidly occurring in the first samplings with rare preys occurring when increasing the sampling geography (spatiotemporal samplings)\n",
    "\n",
    "\n",
    "econullnetr -- r :: estimates \n",
    "check other packages for testing the null hypothesis\n",
    "\n",
    "## Gadget\n",
    "Weight as input of predator-prey data -- \n",
    "Selectivity functions \"appropriated\" for each prey type"
   ]
  },
  {
   "cell_type": "markdown",
   "metadata": {
    "slideshow": {
     "slide_type": "skip"
    }
   },
   "source": [
    "## Extending interaction strength to additional biological traits :: do new traits change the expected interaction strength?\n",
    "\n",
    "##### Condition (diff. pred-prey); Parasite load (Cod); Maturity; Liver condition (Cod);  \n",
    "\n",
    "### New metrics?\n",
    "$IS_{x_i y_j}^{t}_{k}$ = $f_{x_i y_j}^{t} \\times F_{x_i}^{t} \\times F_{y_j}^{t}$"
   ]
  },
  {
   "cell_type": "code",
   "execution_count": null,
   "metadata": {
    "slideshow": {
     "slide_type": "skip"
    }
   },
   "outputs": [],
   "source": [
    "### Cleaning raw data ---------------------------- ------------------\n",
    "### Accounting for doubles\n",
    "### Biomass percentages for sampling prey items and individuals \n",
    "### Only abundance for main preys (95% few prey in stomach content)\n",
    "### Quantitative and qualitative rarefaction: switching among common \n",
    "### common-common, common-rare, ....\n",
    "### ------------------------------------------------------------------\n",
    "\n",
    "\n",
    "### 3. Rarefaction and sampling effort curves in diets (Octave/Matlab)\n",
    "#### https://wiki.octave.org/Dataframe_package\n",
    "pkg load dataframe\n",
    "pkg load statistics\n",
    "%pkg update %update pkg installed\n",
    "\n",
    "\n",
    "data = dataframe('datashow/StomachCodTest.csv');\n",
    "g = data;g_pred_code = g.pred_code;a = cellstr(g_pred_code);\n",
    "LIST = find(ismember(a, 'COD'));\n",
    "b = data;b_prey_sp_code = b.prey_sp_code;b = cellstr(b_prey_sp_code);\n",
    "for i = 1:1;count = 0;\n",
    "    for k = 10:11;\n",
    "    \n",
    "    if k == 10;\n",
    "    IndCOD = randsample(LIST,k);\n",
    "    R = unique(b(IndCOD,1));\n",
    "    count = count + 1;OUTPUT(count,1) = k;\n",
    "    e = size(R);OUTPUT(count,2) = e(1,1);\n",
    "    else\n",
    "    IndCOD(k,1) = randsample(LIST,1);\n",
    "    S = unique(b(IndCOD,1));\n",
    "    count = count + 1;OUTPUT(count,1) = k;\n",
    "    e = size(S);OUTPUT(count,2) = e(1,1);\n",
    "    end\n",
    "    end\n",
    "hold on\n",
    "plot(OUTPUT(:,1),OUTPUT(:,2))\n",
    "end\n",
    "xlabel('Sampling effort',\"fontsize\",14)\n",
    "ylabel('Cumulative number of prey',\"fontsize\",14)\n",
    "set(gca,'fontsize',14);\n"
   ]
  },
  {
   "cell_type": "code",
   "execution_count": null,
   "metadata": {
    "slideshow": {
     "slide_type": "skip"
    }
   },
   "outputs": [],
   "source": [
    "##run Octave code within Jupyter \n",
    "##code/rarefaction2\n",
    "\n",
    "##### https://wiki.octave.org/Dataframe_package\n",
    "##### https://stackoverflow.com/questions/32504203/install-octave-package-manually\n",
    "\n",
    "pkg load dataframe\n",
    "pkg load statistics\n",
    "pkg load io\n",
    "\n",
    "c = csv2cell('datashow/Stomachsoctave.csv');\n",
    "%1 predcode 2 predsizze 3 preyspcode\n",
    "LIST = find(ismember(c(:,1), 'COD'));\n",
    "\n",
    "a = csvread('datashow/Stomachsoctave.csv');\n",
    "%b_prey_sp_code = b.prey_sp_code;\n",
    "%b = cellstr(predsizze);\n",
    "%c = unique(b);\n",
    "  \n",
    "for i = 1:1;\n",
    "count = 0;\n",
    "for k = 10:11;\n",
    "   \n",
    "    if k == 10;\n",
    "    IndCOD = randsample(LIST,k);\n",
    "    R = unique(c(IndCOD,3));\n",
    "    count = count + 1;\n",
    "    OUTPUT(count,1) = k;\n",
    "    e = size(R);\n",
    "    OUTPUT(count,2) = e(1,1);\n",
    "    \n",
    "    else\n",
    "    \n",
    "    A = randsample(LIST,1);\n",
    "    IndCOD(k,1) = A; \n",
    "\n",
    "    counta = 0;\n",
    "    for i = 1:5;\n",
    "        Wa = find(LIST == A + i);\n",
    "        if ~isempty(Wa);\n",
    "           if a(A,2) == a(A+i,2);\n",
    "              counta = counta + 1;\n",
    "              IndCOD(k+counta,1) = A+i; \n",
    "           else\n",
    "           break\n",
    "           end\n",
    "       else\n",
    "       break\n",
    "       end\n",
    "    end\n",
    "    \n",
    "    for j = 1:5;\n",
    "        Wb = find(LIST == A - j);\n",
    "        if ~isempty(Wb);\n",
    "           if a(A,2) == a(A-i,2);\n",
    "              counta = counta + 1;\n",
    "              IndCOD(k+counta,1) = A-i;\n",
    "           else\n",
    "           break\n",
    "           end\n",
    "        else\n",
    "        break\n",
    "        end\n",
    "     end\n",
    "\n",
    "\n",
    "    S = unique(c(IndCOD,3));\n",
    "    count = count + 1;\n",
    "    OUTPUT(count,1) = k;\n",
    "    e = size(S);\n",
    "    OUTPUT(count,2) = e(1,1);\n",
    "    end\n",
    "   \n",
    "end\n",
    "hold on\n",
    "plot(OUTPUT(:,1),OUTPUT(:,2))\n",
    "end\n",
    "xlabel('Sampling effort',\"fontsize\",14)\n",
    "ylabel('Cumulative number of prey',\"fontsize\",14)\n",
    "set(gca,'fontsize',14);\n",
    "\n",
    "\n"
   ]
  },
  {
   "cell_type": "markdown",
   "metadata": {
    "slideshow": {
     "slide_type": "skip"
    }
   },
   "source": [
    "<div>\n",
    "<img src=\"figures/rarefaction2.png\" width=1000 height=1000/>\n",
    "</div>"
   ]
  },
  {
   "cell_type": "markdown",
   "metadata": {
    "collapsed": true,
    "slideshow": {
     "slide_type": "skip"
    }
   },
   "source": [
    "#### 4. How many biotic factors might be explaining coexistence? Covariance biotic trait matrix (i.e., intraspecific comp. (ii), density-dependent (j) and intersp. competition (ik)). The covariance matrix of size-class zi of species j in site x at time t accounting for multiple biotic factors can be given by \n",
    "\n",
    "${\\bf \\Omega_{B}}$ = \n",
    "$\\begin{bmatrix} \n",
    "V_{Bii} & C_{Bij} & C_{Bik} \\\\ \n",
    "C_{Bji} & V_{Bj} & C_{Bjk} \\\\ \n",
    "C_{Bki} & C_{Bkj} & V_{Bk} \\end{bmatrix}$ \n",
    "$\\hspace{-0.05 in}\\mathbf{W}({\\bf z})^{t}_{ijx} = exp[-\\gamma({\\color{red}[{\\bf z}^{t}_{ijx} - {\\bf \\theta^{t}}_{ijx}\\color{red}]^T} {\\bf \\Omega_{B}}^{-1} {\\color{red}[{\\bf z}^{t}_{ijx} - {\\bf \\theta^{t}}_{ijx}\\color{red}]})]$\n",
    "\n",
    "$\\underbrace{\\begin{bmatrix}\n",
    " W({\\bf z_{Bi}}^{t}_{ijx})     \\\\\n",
    " W({\\bf z_{Bj}}^{t}_{ijx})     \\\\\n",
    " \\vdots  \\\\\n",
    " W({\\bf z_{Bk}}^{t}_{ijx})     \\\\\n",
    "            \\end{bmatrix}\n",
    "          }_{\\mathbf{W}}$\n",
    "           = $\\underbrace{\\begin{bmatrix}\n",
    " W({Bi}^{t}_{ijx})^{*}     \\\\\n",
    " W({Bj}^{t}_{ijx})^{*}     \\\\\n",
    " \\vdots  \\\\\n",
    " W({Bk}^{t}_{ijx})^{*}     \\\\\n",
    "            \\end{bmatrix}^{T}\n",
    "             }_{\\mathbf{W}}$\n",
    "$\\underbrace{\\begin{bmatrix}\n",
    "V_{Bii}       &   C_{Bij}       & \\dots     &   C_{Bik}       \\\\\n",
    "C_{Bji}       &   V_{Bj}       & \\dots     &   C_{Bjk}       \\\\\n",
    "\\vdots  &  \\vdots   &   \\vdots  &   \\vdots  \\\\   \n",
    "C_{Bki}       &   C_{Bkj}      & \\dots     &   V_{Bk}       \\\\\n",
    "            \\end{bmatrix}^{-1}\n",
    "            }_{\\mathbf{\\Omega_{B}}}$\n",
    "$\\underbrace{\\begin{bmatrix}\n",
    "W({Bi}^{t}_{ijx})^{*}     \\\\\n",
    "W({Bj}^{t}_{ijx})^{*}     \\\\\n",
    "\\vdots  \\\\\n",
    "W({Bk}^{t}_{ijx})^{*}     \\\\\n",
    "            \\end{bmatrix}\n",
    "             }_{\\mathbf{W}}$\n",
    "             \n",
    "#### TODO :: Implement it in Julia -- Octave/Matlab :: run \n",
    "\n",
    "### Nested modeling approach\n",
    "\n",
    "#### LV-size class multispecies model with intrinsic growth, migration, and IS\n",
    "### Trait-based size-class multispecies model\n",
    "\n",
    "## Open questions\n",
    "### Ensemble modeling :: comparing opposite modeling strategies? \n",
    "\n",
    "# Which modeling approach? \n",
    "\n",
    "## Size-class Agent-LV :: \n",
    "### Do size-classes converge to steady state solutions?\n",
    "#### Can we disentangle top-down from bottom-up using size-class LV?\n",
    "#### Output :: Distribution of size-class per species ::\n",
    "#### Likelihood fitting ::  How good the fitting for each size-class"
   ]
  },
  {
   "cell_type": "markdown",
   "metadata": {
    "slideshow": {
     "slide_type": "skip"
    }
   },
   "source": [
    "#### And the population multitrait dynamics of each class is given by \n",
    "<img src=\"figures/Model.jpg\" alt=\"drawing\" width=\"400\"/>"
   ]
  },
  {
   "cell_type": "markdown",
   "metadata": {
    "slideshow": {
     "slide_type": "skip"
    }
   },
   "source": [
    "# Estimating empirical Covariance Biotic matrix\n",
    "\n",
    "\n",
    "<div>\n",
    "<img src=\"figures/cov-1.png\" width=5000 height=3500/>\n",
    "</div>"
   ]
  },
  {
   "cell_type": "markdown",
   "metadata": {
    "slideshow": {
     "slide_type": "skip"
    }
   },
   "source": [
    "# Different architectiures \n",
    "\n",
    "\n",
    "![title](figures/fitnesslandscapes.png)\n",
    "\n",
    "\n",
    "\n",
    "Laughlin and Messier (2017). Fitness of multidimensional phenotypes in dynamic adaptive landscapes. TREE, 30:487-496\n"
   ]
  },
  {
   "cell_type": "markdown",
   "metadata": {
    "slideshow": {
     "slide_type": "skip"
    }
   },
   "source": [
    "## How about environmental factors? How do they affect coexistence? Estimating the fitness proxy gradients from the empirical size distributions\n",
    "\n",
    "### Can we infer the effects of biotic and abiotic factors explaining the occurrence of one species size-class in one site? And in many sites? Estimating CovB, CovA, and CovM matrix for each size class for one, two, N species.\n",
    "\n",
    "### Putting all together :: How do the eqs look like for one species in one site? and many species in one site? many sites? \n"
   ]
  },
  {
   "cell_type": "code",
   "execution_count": 3,
   "metadata": {
    "slideshow": {
     "slide_type": "skip"
    }
   },
   "outputs": [
    {
     "data": {
      "text/html": [
       "<video width=\"800\" height=\"500\" controls><source src=\"animations/Animation.mp4\" type=\"video/mp4\"></video>"
      ],
      "text/plain": [
       "<IPython.core.display.HTML object>"
      ]
     },
     "execution_count": 3,
     "metadata": {},
     "output_type": "execute_result"
    }
   ],
   "source": [
    "from IPython.display import HTML\n",
    "\n",
    "HTML(\"\"\"<video width=\"800\" height=\"500\" controls><source src=\"animations/Animation.mp4\" type=\"video/mp4\"></video>\"\"\")"
   ]
  },
  {
   "cell_type": "markdown",
   "metadata": {
    "slideshow": {
     "slide_type": "skip"
    }
   },
   "source": [
    "# References \n",
    "\n",
    "* Hutchinson, G. (1957). Concluding remarks. Cold Spring Harb. Symp. Quant. Biol., 22: 415-427.\n",
    "\n",
    "* Holt, R. D. (2009). Bringing the Hutchinsonian niche into the 21st century: ecological and evolutionary   perspectives. PNAS,106:19659-19665.\n",
    "\n",
    "* Blonder, B. et al (2014). The N-dimensional hypervolume. Global Ecology and Biogeography, 23:595-609.\n",
    "\n",
    "* Blonder, B. (2017). Hypervolume concepts in niche‐ and trait‐based ecology. Ecography, 41:1441-1455.\n"
   ]
  },
  {
   "cell_type": "markdown",
   "metadata": {
    "collapsed": true,
    "slideshow": {
     "slide_type": "skip"
    }
   },
   "source": [
    "### BioGis Matlab \n",
    "\n",
    "GOAL :: Seascape mapping of Baltic sea data in Jupyter notebook\n",
    "\n",
    "Explore future scenarios \n",
    "\n",
    "\n",
    "## BioGis README \n",
    "\n",
    "Run standalone in your PC with free license.\n",
    "\n",
    "Run via R (how to do it?) \n",
    "\n",
    "\n",
    "#### TODO\n",
    "\n",
    "How to communicate the standalone with Jupyter?\n",
    "\n",
    "Which kernel is required?\n",
    "\n",
    "#### Potential solution\n",
    "\n",
    "Python library required to install the Original Math Matlab kernel (OMMK) (license required) :: Alternative is the runtime machine as standalone without requiring the OMMK  \n",
    " "
   ]
  },
  {
   "cell_type": "markdown",
   "metadata": {
    "slideshow": {
     "slide_type": "skip"
    }
   },
   "source": [
    "## Putting all together: The Biotic-Abiotic-Migration (BAM) modeling exercise. Inferring the covariance biotic, abiotic and migration trait matrices to determine coexistence along gradients\n",
    "\n",
    "\n",
    "#### Trait-based food webs and the reversal of exploited ecosystems"
   ]
  },
  {
   "cell_type": "code",
   "execution_count": 4,
   "metadata": {
    "slideshow": {
     "slide_type": "skip"
    }
   },
   "outputs": [
    {
     "name": "stderr",
     "output_type": "stream",
     "text": [
      "/home/melian/anaconda3/lib/python3.7/site-packages/IPython/core/display.py:689: UserWarning: Consider using IPython.display.IFrame instead\n",
      "  warnings.warn(\"Consider using IPython.display.IFrame instead\")\n"
     ]
    },
    {
     "data": {
      "text/html": [
       "<iframe width=\"560\" height=\"315\" src=\"https://www.youtube.com/embed/0ZGbIKd0XrM?start=150\" frameborder=\"0\" allow=\"accelerometer; autoplay; encrypted-media; gyroscope; picture-in-picture\" allowfullscreen></iframe>"
      ],
      "text/plain": [
       "<IPython.core.display.HTML object>"
      ]
     },
     "execution_count": 4,
     "metadata": {},
     "output_type": "execute_result"
    }
   ],
   "source": [
    "from IPython.display import HTML\n",
    "# Youtube\n",
    "HTML('<iframe width=\"560\" height=\"315\" src=\"https://www.youtube.com/embed/0ZGbIKd0XrM?start=150\" frameborder=\"0\" allow=\"accelerometer; autoplay; encrypted-media; gyroscope; picture-in-picture\" allowfullscreen></iframe>')\n",
    "\n",
    "#Title: Simulating Natural Selection\n",
    "#Authors: Special thanks to supporters on Patreon, especially:\n",
    "#Jordan Scales\n",
    "#Eric Helps\n",
    "#Ben Kamens\n",
    "#Ben Komalo\n",
    "#Christy Serbus\n",
    "#Sean Barker"
   ]
  },
  {
   "cell_type": "code",
   "execution_count": 5,
   "metadata": {
    "slideshow": {
     "slide_type": "skip"
    }
   },
   "outputs": [
    {
     "data": {
      "text/html": [
       "<iframe width=\"560\" height=\"315\" src=\"https://www.youtube.com/embed/0ZGbIKd0XrM?start=375\" frameborder=\"0\" allow=\"accelerometer; autoplay; encrypted-media; gyroscope; picture-in-picture\" allowfullscreen></iframe>"
      ],
      "text/plain": [
       "<IPython.core.display.HTML object>"
      ]
     },
     "execution_count": 5,
     "metadata": {},
     "output_type": "execute_result"
    }
   ],
   "source": [
    "from IPython.display import HTML\n",
    "\n",
    "HTML('<iframe width=\"560\" height=\"315\" src=\"https://www.youtube.com/embed/0ZGbIKd0XrM?start=375\" frameborder=\"0\" allow=\"accelerometer; autoplay; encrypted-media; gyroscope; picture-in-picture\" allowfullscreen></iframe>')"
   ]
  },
  {
   "cell_type": "code",
   "execution_count": 1,
   "metadata": {
    "slideshow": {
     "slide_type": "skip"
    }
   },
   "outputs": [
    {
     "name": "stdout",
     "output_type": "stream",
     "text": [
      "error: 'from' undefined near line 1 column 1\n",
      "parse error:\n",
      "\n",
      "  syntax error\n",
      "\n",
      ">>> HTML(\"\"\"<video width=\"800\" height=\"500\" controls><source src=\"animations/dynaLands.mp4\" type=\"video/mp4\"></video>\"\"\")\n",
      "                            ^\n",
      "\n"
     ]
    }
   ],
   "source": [
    "\n",
    "from IPython.display import HTML\n",
    "HTML(\"\"\"<video width=\"800\" height=\"500\" controls><source src=\"animations/dynaLands.mp4\" type=\"video/mp4\"></video>\"\"\")\n"
   ]
  },
  {
   "cell_type": "markdown",
   "metadata": {
    "slideshow": {
     "slide_type": "skip"
    }
   },
   "source": [
    "# Modularity vs integration :: Dynamics \n",
    "\n",
    "\n",
    "![title](figures/Integration.png)\n",
    "\n",
    "Goswami et al (2015). The fossil record of phenotypic integration and modularity: A deep-time perspective on developmental and evolutionary dynamics. PNAS, 112:4891-4896\n",
    "  "
   ]
  },
  {
   "cell_type": "markdown",
   "metadata": {
    "collapsed": true,
    "slideshow": {
     "slide_type": "skip"
    }
   },
   "source": [
    "# Fitness functions \n",
    "\n",
    "![title](figures/wfunctions.png)"
   ]
  },
  {
   "cell_type": "markdown",
   "metadata": {
    "slideshow": {
     "slide_type": "skip"
    }
   },
   "source": [
    "#  Outlook \n",
    "\n",
    "\n",
    "(Take a look at the Roadmap in the README.md file located at the Batsea repository in c4science)\n",
    "\n",
    "### Jupyter features\n",
    "\n",
    "• Jupyter notebook to enhance reproducibility and team work : R, Octave-Matlab, Julia and Python kernels can be integrated in the same research flow\n",
    "• Baltic sea database: Combine maps in r/BioGis(Matlab) to show present and future patterns  \n",
    "• Start simple :: Main questions\n",
    "\n",
    "Is predator-prey coexistence driven by size-dependent interaction strength? \n",
    "\n",
    "Which tools do we have to infer the importance of size-dependent interaction strength in driving predator-prey coexistence in one site? And in many sites?\n",
    "\n",
    "• The model-data inference problem: Quantitative or qualitative fitting? Bayesian inference\n",
    "• Estimating the empirical interaction strength distribution for Cod-flounder interaction per site\n",
    "• Rarefaction and sampling effort curves in diets\n",
    "• How many biotic factors might be explaining coexistence? Delineating the Covariance biotic trait matrix (i.e., trophic, density-dependent and competition): A simple multitrait biotic modeling exercise \n",
    "\n",
    "• How about environmental factors? How do they affect coexistence? Estimating the fitness proxy gradients from the empirical size distributions\n",
    "• Can we infer the effects of biotic and abiotic factors explaining the occurrence of one species size-class in one site? And in many sites? \t\n",
    "• Mapping the data into spatial seascapes using BioGis\n",
    "• Putting all together: The Biotic-Abiotic-Migration (BAM) modeling exercise. Inferring the covariance biotic, abiotic and migration trait matrices to determine coexistence along gradients\n",
    "\n",
    "\n",
    "* CHALLENGES: \n",
    "    * Scalability and generalization of BAM modeling across broad spatial scales\n",
    "    * Inference in multidimensional seascapes data exploring trait architecture gradients"
   ]
  }
 ],
 "metadata": {
  "@webio": {
   "lastCommId": null,
   "lastKernelId": null
  },
  "celltoolbar": "Slideshow",
  "kernelspec": {
   "display_name": "Python 3",
   "language": "python",
   "name": "python3"
  },
  "language_info": {
   "codemirror_mode": {
    "name": "ipython",
    "version": 3
   },
   "file_extension": ".py",
   "mimetype": "text/x-python",
   "name": "python",
   "nbconvert_exporter": "python",
   "pygments_lexer": "ipython3",
   "version": "3.7.3"
  }
 },
 "nbformat": 4,
 "nbformat_minor": 2
}
