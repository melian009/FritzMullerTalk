{
 "cells": [
  {
   "cell_type": "markdown",
   "metadata": {
    "slideshow": {
     "slide_type": "slide"
    }
   },
   "source": [
    "<font size=\"6\">\n",
    "\n",
    "# Multilayer food webs\n",
    "<font size=\"3\">\n",
    "    \n",
    "### backward or forward?\n",
    "<font size=\"4\">\n",
    "    \n",
    "--------------------------------------------------------\n",
    "--------------------------------------------------------\n",
    "## VI Fritz Müller Seminar Series\n",
    "### Rodrigo Cogni, \n",
    "### Paulo R. Guimarães Jr, \n",
    "### Tiago B. Quental, \n",
    "### Patricia P. Coltri\n",
    "<font size=\"4\">\n",
    "\n",
    "## Thanks! Obrigado! Gracias! \n"
   ]
  },
  {
   "cell_type": "markdown",
   "metadata": {
    "slideshow": {
     "slide_type": "subslide"
    }
   },
   "source": [
    "<img src=\"figures/collaborators.png\" alt=\"drawing\" width=\"800\"/>"
   ]
  },
  {
   "cell_type": "markdown",
   "metadata": {
    "slideshow": {
     "slide_type": "subslide"
    }
   },
   "source": [
    "\n",
    "### References \n",
    "\n",
    "<font size=\"2\">\n",
    "##### Biogeography\n",
    "\n",
    "* Hutchinson, G. (1957). Concluding remarks. Cold Spring Harb. Symp. Quant. Biol., 22: 415-427.  \n",
    "* Holt, R. D. (2009). Bringing the Hutchinsonian niche into the 21st century: ecological and evolutionary   perspectives. PNAS,106:19659-19665.\n",
    "* Blonder, B. et al (2014). The N-dimensional hypervolume. Global Ecology and Biogeography, 23:595-609.\n",
    "* Blonder, B. (2017). Hypervolume concepts in niche‐ and trait‐based ecology. Ecography, 41:1441-1455.\n",
    "* Barros, C. et al. 2016. N‐dimensional hypervolumes to study stability of complex ecosystems. Ecol. Lett., 19:729–742.\n",
    "\n",
    "#### Multivariate selection\n",
    "<font size=\"2\">\n",
    "* Lande (1980). The genetic covariance between characters mantained by pleiotropic mutations. Genetics, 94:203-215. \n",
    "* Melo and Marroig (2015). Directional selection can drive the evolution of modularity in complex traits. PNAS, 112:470-475.\n",
    "* Goswami et al (2015). The fossil record of phenotypic integration and modularity: A deep-time perspective on developmental and evolutionary dynamics. PNAS, 112:4891-4896.\n",
    "* Assis et al. (2020). Genetic correlations and ecological networks shape coevolving mutualisms. Ecology Letters 23:1789-1799.\n",
    "\n",
    "#### Genomics\n",
    "<font size=\"2\">\n",
    "* Boyle et al. (2017). An Expanded View of Complex Traits: From Polygenic to Omnigenic. Cell. 169:1177-1186.\n",
    "* Svensson et al. (2021). Correlational selection in the age of genomics. Nature Ecology and Evolution. https://doi.org/10.1038/s41559-021-01413-3\n",
    "\n",
    "#### Multilayer networks\n",
    "<font size=\"2\">\n",
    "* Sánchez-García et al. (2014). Dimensionality reduction and spectral properties of multilayer networks. Phys Rev E (Stat Nonlin Soft Matter Phys). 89:052815. \n",
    "* De Domenico et al. (2015). Structural reducibility of multilayer networks. Nat. Commun., 6:6864 https://doi.org/10.1038/ncomms7864\n",
    "* Melián et al. (2018). Deciphering the interdependence between ecological and evolutionary networks. TREE, 33:504-512.\n",
    "* Guimarães PR Jr. (2020). The structure of ecological networks across levels of organization. Annual Review of Ecology, Evolution, and Systematics 51:433-460.\n",
    "  "
   ]
  },
  {
   "cell_type": "markdown",
   "metadata": {
    "slideshow": {
     "slide_type": "slide"
    }
   },
   "source": [
    "# How many layers explain global biodiversity patterns? \n",
    "### Quantas camadas explicam os padrões de biodiversidade? \n",
    "##### Cuantos niveles explican los patrones de la biodiversidad?\n",
    "\n",
    "<img src=\"figures/global.pdf.png-1.png\" alt=\"drawing\" width=\"800\"/>"
   ]
  },
  {
   "cell_type": "markdown",
   "metadata": {
    "slideshow": {
     "slide_type": "slide"
    }
   },
   "source": [
    "<img src=\"figures/multilayerfoodweb.png\" alt=\"drawing\" width=\"800\"/>"
   ]
  },
  {
   "cell_type": "markdown",
   "metadata": {
    "slideshow": {
     "slide_type": "slide"
    }
   },
   "source": [
    "#  How many layers? Quantas camadas? Cuantas capas?\n",
    "\n",
    "<font size=\"5\">\n",
    "-------------------------------------------\n",
    "<code>&nbsp;</code>\n",
    "\n",
    "The dream robot\n",
    "\n",
    "$$$ pip install jupyter :: 1. sampling 2. models 3. species 4. hypo\n",
    "$ 1. rarefaction oky\n",
    "$ 2. model building strategy oky\n",
    "$ 3. species boundary oky\n",
    "$ 4. Hypo: Universal level oky\n",
    "$ RESPONSE -- UNIVERSAL EXPLAINS YOUR DATA oky dokky!\n",
    "-----------------------------------------------------------------  \n",
    "> Sampling? ## register jupyter\n",
    "> Model building strategy? ## register levix\n",
    "> Species boundaries? ## register mars\n",
    "> Hypo: Universal? Bottom up? Top down? Independent? Hybrids? Fluctuating? ##reg multiverse$$\n"
   ]
  },
  {
   "cell_type": "markdown",
   "metadata": {
    "slideshow": {
     "slide_type": "subslide"
    }
   },
   "source": [
    "# Rarefaction\n",
    "<div>\n",
    "<img src=\"figures/CumulativenumberpreyAllPolis.png\" width=300 height=300/>\n",
    "</div>"
   ]
  },
  {
   "cell_type": "markdown",
   "metadata": {
    "slideshow": {
     "slide_type": "subslide"
    }
   },
   "source": [
    "# Model building strategy\n",
    "![title](figures/TradeOffs1.png)"
   ]
  },
  {
   "cell_type": "markdown",
   "metadata": {
    "slideshow": {
     "slide_type": "subslide"
    }
   },
   "source": [
    "# Model complexity reduction\n",
    "![title](figures/complex2.png)"
   ]
  },
  {
   "cell_type": "markdown",
   "metadata": {
    "slideshow": {
     "slide_type": "subslide"
    }
   },
   "source": [
    "# Species boundaries\n",
    "\n",
    "![title](figures/ikeko.gif)"
   ]
  },
  {
   "cell_type": "code",
   "execution_count": 5,
   "metadata": {
    "slideshow": {
     "slide_type": "subslide"
    }
   },
   "outputs": [
    {
     "data": {
      "text/html": [
       "<iframe width=\"560\" height=\"315\" src=\"https://upload.wikimedia.org/wikipedia/commons/1/13/Avida_host-parasite_coevolution_web.ogv\" frameborder=\"0\" allowfullscreen></iframe>"
      ],
      "text/plain": [
       "<IPython.core.display.HTML object>"
      ]
     },
     "execution_count": 5,
     "metadata": {},
     "output_type": "execute_result"
    }
   ],
   "source": [
    "## UNIVERSAL\n",
    "\n",
    "from IPython.display import HTML\n",
    "\n",
    "HTML('<iframe width=\"560\" height=\"315\" src=\"https://upload.wikimedia.org/wikipedia/commons/1/13/Avida_host-parasite_coevolution_web.ogv\" frameborder=\"0\" allowfullscreen></iframe>')\n",
    "\n",
    "#Title: Avida host-parasite coevolution web.ogv :: proxy genotype-phenotype map :: modularity vs integration\n",
    "#Author: Miguel A. Fortuna\n"
   ]
  },
  {
   "cell_type": "markdown",
   "metadata": {
    "slideshow": {
     "slide_type": "slide"
    }
   },
   "source": [
    "## GAPS\n",
    "\n",
    "<img src=\"figures/in.pdf.png-1.png\" alt=\"drawing\" width=\"700\"/>"
   ]
  },
  {
   "cell_type": "markdown",
   "metadata": {
    "slideshow": {
     "slide_type": "slide"
    }
   },
   "source": [
    "# Sampling\n",
    "<font size=\"2\">\n",
    "-------------------------------------------\n",
    "<code>&nbsp;</code>\n",
    "\n",
    "$$$ pip install jupyter : sampling (pattern)\n",
    "$ pip install jupyter : sampling (process): species : level : time : space : trait ssssss\n",
    "$------------------------------------------------------------------\n",
    "> Sampling interactions ## register jupyter$$\n"
   ]
  },
  {
   "cell_type": "code",
   "execution_count": 4,
   "metadata": {
    "slideshow": {
     "slide_type": "fragment"
    }
   },
   "outputs": [
    {
     "data": {
      "image/png": "[encoded data removed]",
      "text/plain": [
       "<IPython.core.display.Image object>"
      ]
     },
     "metadata": {},
     "output_type": "display_data"
    }
   ],
   "source": [
    "### Rarefaction curves (Octave/Matlab)\n",
    "\n",
    "%https://wiki.octave.org/Dataframe_package\n",
    "%https://stackoverflow.com/questions/32504203/install-octave-package-manually\n",
    "pkg load dataframe\n",
    "pkg load statistics\n",
    "\n",
    "%pkg update\n",
    "%pkg installed\n",
    "\n",
    "data = dataframe('datashow/StomachCodTest.csv');\n",
    "g = data;\n",
    "g_pred_code = g.pred_code;\n",
    "a = cellstr(g_pred_code);\n",
    "LIST = find(ismember(a, 'COD'));\n",
    "\n",
    "b = data;\n",
    "b_prey_sp_code = b.prey_sp_code;\n",
    "b = cellstr(b_prey_sp_code);\n",
    "%c = unique(b);\n",
    "for i = 1:10;\n",
    "count = 0;\n",
    "for k = 100:1000;\n",
    "   \n",
    "    IndCOD = randsample(LIST,k);\n",
    "    R = unique(b(IndCOD,1));\n",
    "    count = count + 1;\n",
    "    OUTPUT(count,1) = k;\n",
    "    e = size(R);\n",
    "    OUTPUT(count,2) = e(1,1);\n",
    "   \n",
    "end\n",
    "hold on\n",
    "plot(OUTPUT(:,1),OUTPUT(:,2))\n",
    "end\n",
    "xlabel('Sampling effort',\"fontsize\",14)\n",
    "ylabel('Cumulative number of interactions (prey)',\"fontsize\",14)\n",
    "set(gca,'fontsize',14);"
   ]
  },
  {
   "cell_type": "markdown",
   "metadata": {
    "slideshow": {
     "slide_type": "subslide"
    }
   },
   "source": [
    "# Rarefaction 10k\n",
    "![title](figures/rarefaction5k.png)"
   ]
  },
  {
   "cell_type": "markdown",
   "metadata": {
    "slideshow": {
     "slide_type": "skip"
    }
   },
   "source": [
    "<div>\n",
    "<img src=\"figures/InteractionStrength.png\" width=650 height=650/>\n",
    "</div>"
   ]
  },
  {
   "cell_type": "markdown",
   "metadata": {
    "slideshow": {
     "slide_type": "slide"
    }
   },
   "source": [
    "# Models\n",
    "<font size=\"5\">\n",
    "-------------------------------------------\n",
    "<code>&nbsp;</code>\n",
    "\n",
    "$$$ pip install jupyter : system biology\n",
    "$ pip install jupyter : genomics species\n",
    "$ pip install jupyter : community ecology \n",
    "$ pip install jupyter ; complex trait\n",
    "$------------------------------------------------------------------\n",
    "> Modularity ## register levix\n",
    "> Omnigenic ## register levix\n",
    "> Master trait ## register levix\n",
    "> Complex trait ## register levix$$"
   ]
  },
  {
   "cell_type": "markdown",
   "metadata": {
    "slideshow": {
     "slide_type": "subslide"
    }
   },
   "source": [
    "## System biology\n",
    "\n",
    "<img src=\"figures/IntegrationGradient.png\" alt=\"drawing\" width=\"800\"/>"
   ]
  },
  {
   "cell_type": "markdown",
   "metadata": {
    "slideshow": {
     "slide_type": "subslide"
    }
   },
   "source": [
    "## Genomics\n",
    "\n",
    "<img src=\"figures/omnigenic.png\" alt=\"drawing\" width=\"800\"/>"
   ]
  },
  {
   "cell_type": "markdown",
   "metadata": {
    "slideshow": {
     "slide_type": "subslide"
    }
   },
   "source": [
    "## Community Ecology\n",
    "\n",
    "<img src=\"figures/Ecology.png\" alt=\"drawing\" width=\"400\"/>"
   ]
  },
  {
   "cell_type": "markdown",
   "metadata": {
    "slideshow": {
     "slide_type": "subslide"
    }
   },
   "source": [
    "## Complex trait\n",
    "\n",
    "<img src=\"figures/Sticklebacks.pdf.png-1.png\" alt=\"drawing\" heigth =\"700\" width=\"700\"/>"
   ]
  },
  {
   "cell_type": "markdown",
   "metadata": {
    "slideshow": {
     "slide_type": "subslide"
    }
   },
   "source": [
    "<img src=\"figures/evo1v2.pdf.png-1.png\" alt=\"drawing\" heigth =\"700\" width=\"700\"/>"
   ]
  },
  {
   "cell_type": "markdown",
   "metadata": {
    "slideshow": {
     "slide_type": "subslide"
    }
   },
   "source": [
    "<img src=\"figures/TD.pdf.png-1.png\" alt=\"drawing\" heigth =\"700\" width=\"700\"/>"
   ]
  },
  {
   "cell_type": "markdown",
   "metadata": {
    "slideshow": {
     "slide_type": "subslide"
    }
   },
   "source": [
    "<img src=\"figures/TDIS.pdf.png-1.png\" alt=\"drawing\" heigth =\"700\" width=\"700\"/>"
   ]
  },
  {
   "cell_type": "markdown",
   "metadata": {
    "slideshow": {
     "slide_type": "slide"
    }
   },
   "source": [
    "## Species\n",
    "-------------------------------------------\n",
    "<code>&nbsp;</code>\n",
    "\n",
    "$$$ pip install jupyter : biogeography\n",
    "$------------------------------------------------------------------\n",
    "> BAM! ## register levix$$"
   ]
  },
  {
   "cell_type": "markdown",
   "metadata": {
    "slideshow": {
     "slide_type": "subslide"
    }
   },
   "source": [
    "# Biogeography\n",
    "\n",
    "<img src=\"figures/EltoGriHutNiche.png\" alt=\"drawing\" width=\"600\"/>"
   ]
  },
  {
   "cell_type": "markdown",
   "metadata": {
    "collapsed": true,
    "slideshow": {
     "slide_type": "subslide"
    }
   },
   "source": [
    "![title](figures/BAMc.png)\n",
    "\n",
    "\n",
    "![title](figures/BAM.png)\n",
    "\n"
   ]
  },
  {
   "cell_type": "markdown",
   "metadata": {
    "slideshow": {
     "slide_type": "subslide"
    }
   },
   "source": [
    "<img src=\"figures/correlationtraits.png\" alt=\"drawing\" width=\"700\"/>"
   ]
  },
  {
   "cell_type": "markdown",
   "metadata": {
    "slideshow": {
     "slide_type": "subslide"
    }
   },
   "source": [
    "![title](figures/BAMc.png)\n",
    "\n",
    "\n",
    "\n",
    "<font size=\"2\">\n",
    "    \n",
    "${\\bf \\Omega_{BAM}}$ = \n",
    "$\\begin{bmatrix} \n",
    "V_B & C_{BA} & C_{BM} \\\\ \n",
    "C_{AB} & V_A & C_{AM} \\\\ \n",
    "C_{MB} & C_{MA} & V_M  \n",
    "\\end{bmatrix}$\n",
    "\n",
    "\n",
    "$\\mathbf{W}({\\bf z})^{t}_{ix} = exp[-\\gamma({\\color{red}[{\\bf z}^{t}_{ix} - {\\bf \\theta^{t}}_{ix}\\color{red}]^T} {\\bf \\Omega_{BAM}}^{-1} {\\color{red}[{\\bf z}^{t}_{ix} - {\\bf \\theta^{t}}_{ix}\\color{red}]})]$\n",
    "\n",
    "\n",
    "$\\underbrace{\\begin{bmatrix}\n",
    " W({\\bf z_{B}}^{t}_{ix})     \\\\\n",
    " W({\\bf z_{A}}^{t}_{ix})     \\\\\n",
    " \\vdots  \\\\\n",
    " W({\\bf z_{M}}^{t}_{ix})     \\\\\n",
    "            \\end{bmatrix}\n",
    "          }_{\\mathbf{W}}$\n",
    "           = $\\underbrace{\\begin{bmatrix}\n",
    " W({B}^{t}_{ix})^{*}     \\\\\n",
    " W({A}^{t}_{ix})^{*}     \\\\\n",
    " \\vdots  \\\\\n",
    " W({M}^{t}_{ix})^{*}     \\\\\n",
    "            \\end{bmatrix}^{T}\n",
    "             }_{\\mathbf{W}}$\n",
    "$\\underbrace{\\begin{bmatrix}\n",
    "V_{B}       &   C_{BA}       & \\dots     &   C_{BM}       \\\\\n",
    "C_{AB}       &   V_{A}       & \\dots     &   C_{AM}       \\\\\n",
    "\\vdots  &  \\vdots   &   \\vdots  &   \\vdots  \\\\   \n",
    "C_{MB}       &   C_{MA}      & \\dots     &   V_{M}       \\\\\n",
    "            \\end{bmatrix}^{-1}\n",
    "            }_{\\mathbf{\\Omega_{BAM}}}$\n",
    "$\\underbrace{\\begin{bmatrix}\n",
    "W({B}^{t}_{ix})^{*}     \\\\\n",
    "W({A}^{t}_{ix})^{*}     \\\\\n",
    "\\vdots  \\\\\n",
    "W({M}^{t}_{ix})^{*}     \\\\\n",
    "            \\end{bmatrix}\n",
    "             }_{\\mathbf{W}}$\n",
    "\n",
    "\n"
   ]
  },
  {
   "cell_type": "markdown",
   "metadata": {
    "slideshow": {
     "slide_type": "subslide"
    }
   },
   "source": [
    "<img src=\"figures/Heatmap.pdf.png-1.png\" alt=\"drawing\" width=\"900\"/>"
   ]
  },
  {
   "cell_type": "markdown",
   "metadata": {
    "slideshow": {
     "slide_type": "slide"
    }
   },
   "source": [
    "<img src=\"figures/demography.pdf.png-1.png\" alt=\"drawing\" width=\"700\"/>\n"
   ]
  },
  {
   "cell_type": "markdown",
   "metadata": {
    "slideshow": {
     "slide_type": "slide"
    }
   },
   "source": [
    "## Hypo: \n",
    "\n",
    "### The big 4 layers (the grand scheme of things) \n",
    "#### System Biology -- Genomics -- Phenome -- Biogeography \n",
    "##### Universal? Bottom up?Top down? Independent? Hybrids? Fluctuating?\n",
    "\n",
    "<div>\n",
    "<img src=\"figures/Cas.pdf.png-1.png\" alt=\"drawing\" width=\"2000\"/>\n",
    "</div>\n"
   ]
  },
  {
   "cell_type": "markdown",
   "metadata": {
    "slideshow": {
     "slide_type": "slide"
    }
   },
   "source": [
    "#### Take home message\n",
    "\n",
    "### Mensaje para llevar a casa\n",
    "\n",
    "## Levar mensagem para casa\n",
    "\n",
    "#  How many layers? Quantas camadas? Cuantas capas?\n",
    "\n",
    "\n",
    "## The real robot\n",
    "\n",
    "<font size=\"5\">\n",
    "-------------------------------------------\n",
    "<code>&nbsp;</code>\n",
    "\n",
    "$$$ pip install jupyter :: 1. sampling 2. models 3. species 4. hypo\n",
    "$ 1. rarefaction \n",
    "$ 2. model building strategy \n",
    "$ 3. species boundary \n",
    "$ 4. Hypo: Universal? Bottom up? Independent? Hybrids? Fluctuating? \n",
    "$------------------------------------------------------------------\n",
    "> RESPONSE 1 ## Strong bias in samplings observed in rarefaction curves \n",
    "> RESPONSE 2 ## Multilayer neural network along a complexity gradient\n",
    "> RESPONSE 3 ## No species boundary found -- infinite variance observed\n",
    "> RESPONSE 4 ## Combination of hypothesis with fluctuating layers$$"
   ]
  },
  {
   "cell_type": "code",
   "execution_count": null,
   "metadata": {},
   "outputs": [],
   "source": []
  }
 ],
 "metadata": {
  "@webio": {
   "lastCommId": null,
   "lastKernelId": null
  },
  "celltoolbar": "Slideshow",
  "kernelspec": {
   "display_name": "Python 3",
   "language": "python",
   "name": "python3"
  },
  "language_info": {
   "codemirror_mode": {
    "name": "ipython",
    "version": 3
   },
   "file_extension": ".py",
   "mimetype": "text/x-python",
   "name": "python",
   "nbconvert_exporter": "python",
   "pygments_lexer": "ipython3",
   "version": "3.7.3"
  }
 },
 "nbformat": 4,
 "nbformat_minor": 2
}
